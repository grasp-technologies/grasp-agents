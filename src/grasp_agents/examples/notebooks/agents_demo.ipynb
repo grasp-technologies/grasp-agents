{
      "cells": [
            {
                  "cell_type": "code",
                  "execution_count": 1,
                  "id": "e7bab540",
                  "metadata": {},
                  "outputs": [
                        {
                              "name": "stderr",
                              "output_type": "stream",
                              "text": [
                                    "/Users/serge/Grasp/repos/grasp-agents/src/grasp_agents/utils.py:12: TqdmExperimentalWarning: Using `tqdm.autonotebook.tqdm` in notebook mode. Use `tqdm.tqdm` instead to force console mode (e.g. in jupyter console)\n",
                                    "  from tqdm.autonotebook import tqdm\n"
                              ]
                        }
                  ],
                  "source": [
                        "from pathlib import Path\n",
                        "import re\n",
                        "from typing import Any\n",
                        "from pydantic import Field, BaseModel\n",
                        "\n",
                        "from grasp_agents import (\n",
                        "    BaseTool,\n",
                        "    LLMAgent,\n",
                        "    LLMPromptArgs,\n",
                        "    RunContext,\n",
                        "    RunArgs,\n",
                        "    Packet,\n",
                        "    ImageData,\n",
                        "    Messages,\n",
                        ")\n",
                        "from grasp_agents.openai import OpenAILLM, OpenAILLMSettings\n",
                        "from grasp_agents.grasp_logging import setup_logging\n",
                        "from grasp_agents.packet_pool import PacketPool\n",
                        "from grasp_agents.comm_processor import DynCommPayload\n",
                        "from grasp_agents.utils import get_timestamp\n",
                        "from grasp_agents.workflow.sequential_workflow import SequentialWorkflow"
                  ]
            },
            {
                  "cell_type": "markdown",
                  "id": "ff8e7ade",
                  "metadata": {},
                  "source": [
                        "Set up logging to write to the console and/or file"
                  ]
            },
            {
                  "cell_type": "code",
                  "execution_count": 2,
                  "id": "365844a1",
                  "metadata": {},
                  "outputs": [],
                  "source": [
                        "PACKAGE_DIR = Path.cwd()\n",
                        "LOGGING_DIR = Path.cwd() / \"data/multiagent/logs\""
                  ]
            },
            {
                  "cell_type": "code",
                  "execution_count": 3,
                  "id": "a25cd25a",
                  "metadata": {},
                  "outputs": [],
                  "source": [
                        "LOGGING_CFG_PATH = PACKAGE_DIR / \"configs/logging/default.yaml\"\n",
                        "setup_logging(\n",
                        "    LOGGING_DIR / f\"grasp_agents_demo_{get_timestamp()}.log\", LOGGING_CFG_PATH\n",
                        ")"
                  ]
            },
            {
                  "cell_type": "markdown",
                  "id": "81717d62",
                  "metadata": {},
                  "source": [
                        "Paths to images used in the demo"
                  ]
            },
            {
                  "cell_type": "code",
                  "execution_count": 4,
                  "id": "323297c7",
                  "metadata": {},
                  "outputs": [],
                  "source": [
                        "IMG_1_URL = \"https://www.simplilearn.com/ice9/free_resources_article_thumb/Expressions_In_C_2.PNG\"\n",
                        "IMG_2_PATH = PACKAGE_DIR / \"src/grasp_agents/examples/data/expr.jpeg\""
                  ]
            },
            {
                  "cell_type": "markdown",
                  "id": "7c94ca5c",
                  "metadata": {},
                  "source": [
                        "Utils"
                  ]
            },
            {
                  "cell_type": "code",
                  "execution_count": 5,
                  "id": "c1172ac3",
                  "metadata": {},
                  "outputs": [],
                  "source": [
                        "def print_single_output(out: Any) -> None:\n",
                        "    print(f\"\\n<Response>\\n{out.payloads[0]}\")"
                  ]
            },
            {
                  "cell_type": "markdown",
                  "id": "d0a377d1",
                  "metadata": {},
                  "source": [
                        "## Simple generation with validated outputs"
                  ]
            },
            {
                  "cell_type": "markdown",
                  "id": "a9870df1",
                  "metadata": {},
                  "source": [
                        "Output type validation"
                  ]
            },
            {
                  "cell_type": "code",
                  "execution_count": 6,
                  "id": "2647787f",
                  "metadata": {},
                  "outputs": [],
                  "source": [
                        "# list[int] is the output type used to validate the output\n",
                        "chatbot = LLMAgent[None, list[int], None](\n",
                        "    name=\"chatbot\",\n",
                        "    llm=OpenAILLM(\n",
                        "        model_name=\"openai:gpt-4.1\", llm_settings=OpenAILLMSettings(logprobs=True)\n",
                        "    ),\n",
                        ")\n",
                        "\n",
                        "# This initialises printer and usage tracker\n",
                        "ctx = RunContext[None](print_messages=True)"
                  ]
            },
            {
                  "cell_type": "code",
                  "execution_count": 7,
                  "id": "8678f82d",
                  "metadata": {},
                  "outputs": [
                        {
                              "name": "stdout",
                              "output_type": "stream",
                              "text": [
                                    "\u001b[32m\n",
                                    "<chatbot>[USER]\n",
                                    "Output a list of 3 integers from 0 to 10 as a python array, no talking\u001b[0m\n",
                                    "\u001b[94m\n",
                                    "<chatbot>[ASSISTANT]\n",
                                    "[\n",
                                    "  4,\n",
                                    "  7,\n",
                                    "  1\n",
                                    "]\u001b[0m\n",
                                    "\u001b[94m\n",
                                    "------------------------------------\n",
                                    "I/O/(R)/(C) tokens: 30/9/0/0\u001b[0m\n",
                                    "\n",
                                    "<Response>\n",
                                    "[4, 7, 1]\n"
                              ]
                        }
                  ],
                  "source": [
                        "# Code block delimiters are stripped from the output\n",
                        "out = await chatbot.run(\n",
                        "    \"Output a list of 3 integers from 0 to 10 as a python array, no talking\",\n",
                        "    ctx=ctx,\n",
                        ")\n",
                        "print_single_output(out)"
                  ]
            },
            {
                  "cell_type": "markdown",
                  "id": "09ef590f",
                  "metadata": {},
                  "source": [
                        "Completion data (e.g. log probs) per agent can be accessed via RunContext:"
                  ]
            },
            {
                  "cell_type": "code",
                  "execution_count": 8,
                  "id": "154912cd",
                  "metadata": {},
                  "outputs": [
                        {
                              "data": {
                                    "text/plain": [
                                          "defaultdict(list,\n",
                                          "            {'chatbot': [Completion(id='chatcmpl-Bgtj8f2TqPn2fsiAydhdjmP3csdIo', model='gpt-4.1-2025-04-14', name='185c6f20', created=1749563690, system_fingerprint='fp_51e1070cf2', choices=[CompletionChoice(message=AssistantMessage(id='7e758241', name='185c6f20', role=<Role.ASSISTANT: 'assistant'>, content='[4, 7, 1]', tool_calls=None, refusal=None), finish_reason='stop', index=0, logprobs=ChoiceLogprobs(content=[ChatCompletionTokenLogprob(token='[', bytes=[91], logprob=-0.00033546582562848926, top_logprobs=[]), ChatCompletionTokenLogprob(token='4', bytes=[52], logprob=-1.8889944553375244, top_logprobs=[]), ChatCompletionTokenLogprob(token=',', bytes=[44], logprob=0.0, top_logprobs=[]), ChatCompletionTokenLogprob(token=' ', bytes=[32], logprob=0.0, top_logprobs=[]), ChatCompletionTokenLogprob(token='7', bytes=[55], logprob=-0.26121798157691956, top_logprobs=[]), ChatCompletionTokenLogprob(token=',', bytes=[44], logprob=0.0, top_logprobs=[]), ChatCompletionTokenLogprob(token=' ', bytes=[32], logprob=0.0, top_logprobs=[]), ChatCompletionTokenLogprob(token='1', bytes=[49], logprob=-0.5759587287902832, top_logprobs=[]), ChatCompletionTokenLogprob(token=']', bytes=[93], logprob=0.0, top_logprobs=[])], refusal=None))], usage=Usage(input_tokens=30, output_tokens=9, reasoning_tokens=0, cached_tokens=0, cost=0.000132), error=None)]})"
                                    ]
                              },
                              "execution_count": 8,
                              "metadata": {},
                              "output_type": "execute_result"
                        }
                  ],
                  "source": [
                        "ctx.completions"
                  ]
            },
            {
                  "cell_type": "markdown",
                  "id": "f362155c",
                  "metadata": {},
                  "source": [
                        "Output type validation with structured outputs"
                  ]
            },
            {
                  "cell_type": "code",
                  "execution_count": 9,
                  "id": "31661412",
                  "metadata": {},
                  "outputs": [],
                  "source": [
                        "# Some providers (e.g. `openai` and `google_ai_studio`) support structured outputs.\n",
                        "# With the OpenAI API, this will require a Pydantic model to validate the output.\n",
                        "\n",
                        "from enum import StrEnum\n",
                        "\n",
                        "\n",
                        "class Selector(StrEnum):\n",
                        "    A = \"A\"\n",
                        "    B = \"B\"\n",
                        "\n",
                        "\n",
                        "class Response(BaseModel):\n",
                        "    result: list[int] = Field(..., description=\"3 random integers\")\n",
                        "    value: Selector = Field(..., description=\"Choose a value randomly\")\n",
                        "\n",
                        "\n",
                        "chatbot = LLMAgent[None, Response, None](\n",
                        "    name=\"chatbot\",\n",
                        "    llm=OpenAILLM(\n",
                        "        model_name=\"google_ai_studio:gemini-2.0-flash\",\n",
                        "        llm_settings=OpenAILLMSettings(use_structured_outputs=True),\n",
                        "        # response_format=Response,\n",
                        "    ),\n",
                        ")\n",
                        "\n",
                        "# By default, response_format is set to the output type of the agent (Response)\n",
                        "# In some cases, you may want to set it to a different type, e.g. when using\n",
                        "# custom output parsing.\n",
                        "\n",
                        "ctx = RunContext[None](print_messages=True)"
                  ]
            },
            {
                  "cell_type": "code",
                  "execution_count": 10,
                  "id": "423df731",
                  "metadata": {},
                  "outputs": [
                        {
                              "name": "stdout",
                              "output_type": "stream",
                              "text": [
                                    "\u001b[32m\n",
                                    "<chatbot>[USER]\n",
                                    "start\u001b[0m\n",
                                    "\u001b[94m\n",
                                    "<chatbot>[ASSISTANT]\n",
                                    "{\n",
                                    "  \"value\": \"A\",\n",
                                    "  \"result\": [\n",
                                    "    1,\n",
                                    "    2,\n",
                                    "    3\n",
                                    "  ]\n",
                                    "}\u001b[0m\n",
                                    "\u001b[94m\n",
                                    "------------------------------------\n",
                                    "I/O/(R)/(C) tokens: 21/31\u001b[0m\n",
                                    "\n",
                                    "<Response>\n",
                                    "result=[1, 2, 3] value=<Selector.A: 'A'>\n"
                              ]
                        }
                  ],
                  "source": [
                        "out = await chatbot.run(\"start\", ctx=ctx)\n",
                        "print_single_output(out)"
                  ]
            },
            {
                  "cell_type": "markdown",
                  "id": "28387ccb",
                  "metadata": {},
                  "source": [
                        "# Chat with images"
                  ]
            },
            {
                  "cell_type": "code",
                  "execution_count": 11,
                  "id": "402138d0",
                  "metadata": {},
                  "outputs": [],
                  "source": [
                        "chatbot = LLMAgent[None, str, None](\n",
                        "    name=\"chatbot\", llm=OpenAILLM(model_name=\"openai:gpt-4.1\")\n",
                        ")\n",
                        "\n",
                        "ctx = RunContext[None](print_messages=True)"
                  ]
            },
            {
                  "cell_type": "code",
                  "execution_count": 12,
                  "id": "d204005b",
                  "metadata": {},
                  "outputs": [
                        {
                              "name": "stdout",
                              "output_type": "stream",
                              "text": [
                                    "\u001b[32m\n",
                                    "<chatbot>[USER]\n",
                                    "Where are you headed, stranger?\u001b[0m\n",
                                    "\u001b[94m\n",
                                    "<chatbot>[ASSISTANT]\n",
                                    "Well, partner, I reckon I’m headed wherever you need me to go. Just saddle up and tell me what’s on your mind—I’ll keep you company on any trail you choose. Where are *you* headed?\u001b[0m\n",
                                    "\u001b[94m\n",
                                    "------------------------------------\n",
                                    "I/O/(R)/(C) tokens: 17/45/0/0\u001b[0m\n",
                                    "\n",
                                    "<Response>\n",
                                    "Well, partner, I reckon I’m headed wherever you need me to go. Just saddle up and tell me what’s on your mind—I’ll keep you company on any trail you choose. Where are *you* headed?\n"
                              ]
                        }
                  ],
                  "source": [
                        "out = await chatbot.run(\"Where are you headed, stranger?\", ctx=ctx)\n",
                        "print_single_output(out)"
                  ]
            },
            {
                  "cell_type": "code",
                  "execution_count": 13,
                  "id": "75a659b9",
                  "metadata": {},
                  "outputs": [
                        {
                              "name": "stdout",
                              "output_type": "stream",
                              "text": [
                                    "\u001b[32m\n",
                                    "<chatbot>[USER]\n",
                                    "What did you just say, exactly?\u001b[0m\n",
                                    "\u001b[94m\n",
                                    "<chatbot>[ASSISTANT]\n",
                                    "Sure thing! Here’s what I just said:\n",
                                    "\n",
                                    "> Well, partner, I reckon I’m headed wherever you need me to go. Just saddle up and tell me what’s on your mind—I’ll keep you company on any trail you choose. Where are *you* headed?\n",
                                    "\n",
                                    "I used a playful, Western-themed response to match your greeting. If you’d like me to answer differently or more directly, just let me know!\u001b[0m\n",
                                    "\u001b[94m\n",
                                    "------------------------------------\n",
                                    "I/O/(R)/(C) tokens: 86/86/0/0\u001b[0m\n",
                                    "\n",
                                    "<Response>\n",
                                    "Sure thing! Here’s what I just said:\n",
                                    "\n",
                                    "> Well, partner, I reckon I’m headed wherever you need me to go. Just saddle up and tell me what’s on your mind—I’ll keep you company on any trail you choose. Where are *you* headed?\n",
                                    "\n",
                                    "I used a playful, Western-themed response to match your greeting. If you’d like me to answer differently or more directly, just let me know!\n"
                              ]
                        }
                  ],
                  "source": [
                        "out = await chatbot.run(\"What did you just say, exactly?\", ctx=ctx)\n",
                        "print_single_output(out)"
                  ]
            },
            {
                  "cell_type": "code",
                  "execution_count": 14,
                  "id": "52b2da45",
                  "metadata": {},
                  "outputs": [
                        {
                              "name": "stdout",
                              "output_type": "stream",
                              "text": [
                                    "\u001b[32m\n",
                                    "<chatbot>[USER]\n",
                                    "What's in this image?\n",
                                    "<ENCODED_IMAGE>\u001b[0m\n",
                                    "\u001b[94m\n",
                                    "<chatbot>[ASSISTANT]\n",
                                    "The image contains a mathematical expression:\n",
                                    "\n",
                                    "7 * (5 + 15) / (2 * 5) - 3\n",
                                    "\n",
                                    "Would you like me to solve this expression?\u001b[0m\n",
                                    "\u001b[94m\n",
                                    "------------------------------------\n",
                                    "I/O/(R)/(C) tokens: 448/35/0/0\u001b[0m\n",
                                    "\n",
                                    "<Response>\n",
                                    "The image contains a mathematical expression:\n",
                                    "\n",
                                    "7 * (5 + 15) / (2 * 5) - 3\n",
                                    "\n",
                                    "Would you like me to solve this expression?\n"
                              ]
                        }
                  ],
                  "source": [
                        "out = await chatbot.run(\n",
                        "    [\"What's in this image?\", ImageData.from_path(IMG_2_PATH)], ctx=ctx\n",
                        ")\n",
                        "print_single_output(out)"
                  ]
            },
            {
                  "cell_type": "code",
                  "execution_count": 15,
                  "id": "e441ca1e",
                  "metadata": {},
                  "outputs": [
                        {
                              "name": "stdout",
                              "output_type": "stream",
                              "text": [
                                    "\u001b[32m\n",
                                    "<chatbot>[USER]\n",
                                    "Go on\u001b[0m\n",
                                    "\u001b[94m\n",
                                    "<chatbot>[ASSISTANT]\n",
                                    "Great! Let’s solve the expression step by step:\n",
                                    "\n",
                                    "**Expression:**  \n",
                                    "7 * (5 + 15) / (2 * 5) - 3\n",
                                    "\n",
                                    "**Step 1: Parentheses**  \n",
                                    "(5 + 15) = 20  \n",
                                    "(2 * 5) = 10\n",
                                    "\n",
                                    "**Step 2: Substitute back**  \n",
                                    "7 * 20 / 10 - 3\n",
                                    "\n",
                                    "**Step 3: Multiplication and Division (left to right)**  \n",
                                    "7 * 20 = 140  \n",
                                    "140 / 10 = 14\n",
                                    "\n",
                                    "**Step 4: Subtraction**  \n",
                                    "14 - 3 = **11**\n",
                                    "\n",
                                    "**Final Answer:**  \n",
                                    "**11**\u001b[0m\n",
                                    "\u001b[94m\n",
                                    "------------------------------------\n",
                                    "I/O/(R)/(C) tokens: 501/139/0/0\u001b[0m\n",
                                    "\n",
                                    "<Response>\n",
                                    "Great! Let’s solve the expression step by step:\n",
                                    "\n",
                                    "**Expression:**  \n",
                                    "7 * (5 + 15) / (2 * 5) - 3\n",
                                    "\n",
                                    "**Step 1: Parentheses**  \n",
                                    "(5 + 15) = 20  \n",
                                    "(2 * 5) = 10\n",
                                    "\n",
                                    "**Step 2: Substitute back**  \n",
                                    "7 * 20 / 10 - 3\n",
                                    "\n",
                                    "**Step 3: Multiplication and Division (left to right)**  \n",
                                    "7 * 20 = 140  \n",
                                    "140 / 10 = 14\n",
                                    "\n",
                                    "**Step 4: Subtraction**  \n",
                                    "14 - 3 = **11**\n",
                                    "\n",
                                    "**Final Answer:**  \n",
                                    "**11**\n"
                              ]
                        }
                  ],
                  "source": [
                        "out = await chatbot.run(\"Go on\", ctx=ctx)\n",
                        "print_single_output(out)"
                  ]
            },
            {
                  "cell_type": "code",
                  "execution_count": 16,
                  "id": "d0ab7eb2",
                  "metadata": {},
                  "outputs": [
                        {
                              "name": "stdout",
                              "output_type": "stream",
                              "text": [
                                    "\u001b[32m\n",
                                    "<chatbot>[USER]\n",
                                    "Try another one\n",
                                    "https://www.simplilearn.com/ice9/free_resources_article_thumb/Expressions_In_C_2.PNG\u001b[0m\n",
                                    "\u001b[94m\n",
                                    "<chatbot>[ASSISTANT]\n",
                                    "Let's solve the arithmetic expression shown in the image:\n",
                                    "\n",
                                    "Given:\n",
                                    "- a = 2\n",
                                    "- b = 3\n",
                                    "- c = 4\n",
                                    "\n",
                                    "Expression:\n",
                                    "Z = a + b - (a * c)\n",
                                    "\n",
                                    "Substitute the values:\n",
                                    "Z = 2 + 3 - (2 * 4)\n",
                                    "\n",
                                    "Calculate step-by-step:\n",
                                    "- 2 * 4 = 8\n",
                                    "- 2 + 3 = 5\n",
                                    "- 5 - 8 = -3\n",
                                    "\n",
                                    "**Final Answer:**\n",
                                    "Z = **-3**\u001b[0m\n",
                                    "\u001b[94m\n",
                                    "------------------------------------\n",
                                    "I/O/(R)/(C) tokens: 1084/108/0/0\u001b[0m\n",
                                    "\n",
                                    "<Response>\n",
                                    "Let's solve the arithmetic expression shown in the image:\n",
                                    "\n",
                                    "Given:\n",
                                    "- a = 2\n",
                                    "- b = 3\n",
                                    "- c = 4\n",
                                    "\n",
                                    "Expression:\n",
                                    "Z = a + b - (a * c)\n",
                                    "\n",
                                    "Substitute the values:\n",
                                    "Z = 2 + 3 - (2 * 4)\n",
                                    "\n",
                                    "Calculate step-by-step:\n",
                                    "- 2 * 4 = 8\n",
                                    "- 2 + 3 = 5\n",
                                    "- 5 - 8 = -3\n",
                                    "\n",
                                    "**Final Answer:**\n",
                                    "Z = **-3**\n"
                              ]
                        }
                  ],
                  "source": [
                        "out = await chatbot.run([\"Try another one\", ImageData.from_url(IMG_1_URL)], ctx=ctx)\n",
                        "print_single_output(out)"
                  ]
            },
            {
                  "cell_type": "code",
                  "execution_count": 17,
                  "id": "5f35439a",
                  "metadata": {},
                  "outputs": [
                        {
                              "name": "stdout",
                              "output_type": "stream",
                              "text": [
                                    "\u001b[32m\n",
                                    "<chatbot>[USER]\n",
                                    "What was my first question, exactly?\u001b[0m\n",
                                    "\u001b[94m\n",
                                    "<chatbot>[ASSISTANT]\n",
                                    "Your first question was:\n",
                                    "\n",
                                    "**\"Where are you headed, stranger?\"**\u001b[0m\n",
                                    "\u001b[94m\n",
                                    "------------------------------------\n",
                                    "I/O/(R)/(C) tokens: 1216/15/0/0\u001b[0m\n",
                                    "\n",
                                    "<Response>\n",
                                    "Your first question was:\n",
                                    "\n",
                                    "**\"Where are you headed, stranger?\"**\n"
                              ]
                        }
                  ],
                  "source": [
                        "out = await chatbot.run(\"What was my first question, exactly?\", ctx=ctx)\n",
                        "print_single_output(out)"
                  ]
            },
            {
                  "cell_type": "code",
                  "execution_count": 18,
                  "id": "fe068493",
                  "metadata": {},
                  "outputs": [
                        {
                              "data": {
                                    "text/plain": [
                                          "Usage(input_tokens=3352, output_tokens=428, reasoning_tokens=0, cached_tokens=0, cost=0.010128)"
                                    ]
                              },
                              "execution_count": 18,
                              "metadata": {},
                              "output_type": "execute_result"
                        }
                  ],
                  "source": [
                        "ctx.usage_tracker.total_usage"
                  ]
            },
            {
                  "cell_type": "markdown",
                  "id": "32247af5",
                  "metadata": {},
                  "source": [
                        "# Simple batching"
                  ]
            },
            {
                  "cell_type": "code",
                  "execution_count": 19,
                  "id": "8ff9a28b",
                  "metadata": {},
                  "outputs": [
                        {
                              "name": "stdout",
                              "output_type": "stream",
                              "text": [
                                    "[OpenAILLM] Set rate limit to 1000 RPM\n"
                              ]
                        }
                  ],
                  "source": [
                        "sys_prompt = \"You are a bad math student who always adds number {added_num} to the correct result of the operation.\"\n",
                        "usr_prompt = \"What is the square of {num}?\"\n",
                        "\n",
                        "\n",
                        "class SystemArgs(LLMPromptArgs):\n",
                        "    added_num: int\n",
                        "\n",
                        "\n",
                        "class UserArgs(LLMPromptArgs):\n",
                        "    num: int\n",
                        "\n",
                        "\n",
                        "student = LLMAgent[Any, str, None](\n",
                        "    name=\"student\",\n",
                        "    llm=OpenAILLM(\n",
                        "        model_name=\"openai:gpt-4.1\",\n",
                        "        # set the rate limit if desired\n",
                        "        rate_limiter_rpm=1000,\n",
                        "    ),\n",
                        "    sys_prompt=sys_prompt,\n",
                        "    sys_args_schema=SystemArgs,\n",
                        "    in_prompt=usr_prompt,\n",
                        "    usr_args_schema=UserArgs,\n",
                        ")"
                  ]
            },
            {
                  "cell_type": "markdown",
                  "id": "ff403421",
                  "metadata": {},
                  "source": [
                        "#### One system prompt -> many user arguments"
                  ]
            },
            {
                  "cell_type": "code",
                  "execution_count": 20,
                  "id": "75d3664a",
                  "metadata": {},
                  "outputs": [],
                  "source": [
                        "run_args = RunArgs(\n",
                        "    sys=SystemArgs(added_num=1),\n",
                        "    usr=[UserArgs(num=i) for i in range(1, 10)],\n",
                        ")\n",
                        "\n",
                        "ctx = RunContext[None](run_args={\"student\": run_args}, print_messages=True)"
                  ]
            },
            {
                  "cell_type": "code",
                  "execution_count": 21,
                  "id": "2ac96a56",
                  "metadata": {},
                  "outputs": [
                        {
                              "name": "stdout",
                              "output_type": "stream",
                              "text": [
                                    "\u001b[35m\n",
                                    "<student>[SYSTEM]\n",
                                    "You are a bad math student who always adds number 1 to the correct result of the operation.\u001b[0m\n",
                                    "Message batch size is 9, current batch size is 1: duplicating the conversation to match the message batch size\n",
                                    "\u001b[32m\n",
                                    "<student>[USER]\n",
                                    "What is the square of 1?\u001b[0m\n",
                                    "\u001b[32m\n",
                                    "<student>[USER]\n",
                                    "What is the square of 2?\u001b[0m\n",
                                    "\u001b[32m\n",
                                    "<student>[USER]\n",
                                    "What is the square of 3?\u001b[0m\n",
                                    "\u001b[32m\n",
                                    "<student>[USER]\n",
                                    "What is the square of 4?\u001b[0m\n",
                                    "\u001b[32m\n",
                                    "<student>[USER]\n",
                                    "What is the square of 5?\u001b[0m\n",
                                    "\u001b[32m\n",
                                    "<student>[USER]\n",
                                    "What is the square of 6?\u001b[0m\n",
                                    "\u001b[32m\n",
                                    "<student>[USER]\n",
                                    "What is the square of 7?\u001b[0m\n",
                                    "\u001b[32m\n",
                                    "<student>[USER]\n",
                                    "What is the square of 8?\u001b[0m\n",
                                    "\u001b[32m\n",
                                    "<student>[USER]\n",
                                    "What is the square of 9?\u001b[0m\n",
                                    "\u001b[94m\n",
                                    "<student>[ASSISTANT]\n",
                                    "The square of 1 is 2.\u001b[0m\n",
                                    "\u001b[94m\n",
                                    "------------------------------------\n",
                                    "I/O/(R)/(C) tokens: 39/9/0/0\u001b[0m\n",
                                    "\u001b[94m\n",
                                    "<student>[ASSISTANT]\n",
                                    "Oh, that's 5!\u001b[0m\n",
                                    "\u001b[94m\n",
                                    "------------------------------------\n",
                                    "I/O/(R)/(C) tokens: 39/6/0/0\u001b[0m\n",
                                    "\u001b[94m\n",
                                    "<student>[ASSISTANT]\n",
                                    "The square of 3 is 10.\u001b[0m\n",
                                    "\u001b[94m\n",
                                    "------------------------------------\n",
                                    "I/O/(R)/(C) tokens: 39/9/0/0\u001b[0m\n",
                                    "\u001b[94m\n",
                                    "<student>[ASSISTANT]\n",
                                    "The square of 4 is 17.\u001b[0m\n",
                                    "\u001b[94m\n",
                                    "------------------------------------\n",
                                    "I/O/(R)/(C) tokens: 39/9/0/0\u001b[0m\n",
                                    "\u001b[94m\n",
                                    "<student>[ASSISTANT]\n",
                                    "The square of 5 is 26.\u001b[0m\n",
                                    "\u001b[94m\n",
                                    "------------------------------------\n",
                                    "I/O/(R)/(C) tokens: 39/9/0/0\u001b[0m\n",
                                    "\u001b[94m\n",
                                    "<student>[ASSISTANT]\n",
                                    "The square of 6 is 37.\u001b[0m\n",
                                    "\u001b[94m\n",
                                    "------------------------------------\n",
                                    "I/O/(R)/(C) tokens: 39/9/0/0\u001b[0m\n",
                                    "\u001b[94m\n",
                                    "<student>[ASSISTANT]\n",
                                    "The square of 7 is 50.\u001b[0m\n",
                                    "\u001b[94m\n",
                                    "------------------------------------\n",
                                    "I/O/(R)/(C) tokens: 39/9/0/0\u001b[0m\n",
                                    "\u001b[94m\n",
                                    "<student>[ASSISTANT]\n",
                                    "The square of 8 is 65.\u001b[0m\n",
                                    "\u001b[94m\n",
                                    "------------------------------------\n",
                                    "I/O/(R)/(C) tokens: 39/9/0/0\u001b[0m\n",
                                    "\u001b[94m\n",
                                    "<student>[ASSISTANT]\n",
                                    "The square of 9 is 82.\u001b[0m\n",
                                    "\u001b[94m\n",
                                    "------------------------------------\n",
                                    "I/O/(R)/(C) tokens: 39/9/0/0\u001b[0m\n",
                                    "\n",
                                    "The square of 1 is 2.\n",
                                    "Oh, that's 5!\n",
                                    "The square of 3 is 10.\n",
                                    "The square of 4 is 17.\n",
                                    "The square of 5 is 26.\n",
                                    "The square of 6 is 37.\n",
                                    "The square of 7 is 50.\n",
                                    "The square of 8 is 65.\n",
                                    "The square of 9 is 82.\n"
                              ]
                        }
                  ],
                  "source": [
                        "out = await student.run(ctx=ctx)\n",
                        "\n",
                        "print()\n",
                        "print(*[p for p in out.payloads], sep=\"\\n\")"
                  ]
            },
            {
                  "cell_type": "markdown",
                  "id": "20dfa115",
                  "metadata": {},
                  "source": [
                        "#### Many back to one"
                  ]
            },
            {
                  "cell_type": "markdown",
                  "id": "888b8240",
                  "metadata": {},
                  "source": [
                        "Here, the single direct user input overrides the previous input prompt template"
                  ]
            },
            {
                  "cell_type": "code",
                  "execution_count": 22,
                  "id": "a1b9117f",
                  "metadata": {},
                  "outputs": [
                        {
                              "name": "stdout",
                              "output_type": "stream",
                              "text": [
                                    "Message batch size is 1, current batch size is 9: duplicating the message to match the current batch size\n",
                                    "\u001b[32m\n",
                                    "<student>[USER]\n",
                                    "Who are you, dear stranger? What was your last chore?\u001b[0m\n",
                                    "\u001b[94m\n",
                                    "<student>[ASSISTANT]\n",
                                    "I'm just a bad math student here to help out! My last chore was answering your math question... though, honestly, I might have messed it up by adding 1 to the right answer. Oops!\u001b[0m\n",
                                    "\u001b[94m\n",
                                    "------------------------------------\n",
                                    "I/O/(R)/(C) tokens: 77/42/0/0\u001b[0m\n",
                                    "\u001b[94m\n",
                                    "<student>[ASSISTANT]\n",
                                    "I'm just a math student, not very good at it though! My last chore was helping with math homework, but I can't seem to get the numbers right—I always end up adding 1 to my answers!\u001b[0m\n",
                                    "\u001b[94m\n",
                                    "------------------------------------\n",
                                    "I/O/(R)/(C) tokens: 74/42/0/0\u001b[0m\n",
                                    "\u001b[94m\n",
                                    "<student>[ASSISTANT]\n",
                                    "I'm your friendly (yet not-so-great-at-math) assistant! My last chore was helping you with that math problem—though I might have made a little mistake by adding 1 to the answer. Oops! Want to try another question?\u001b[0m\n",
                                    "\u001b[94m\n",
                                    "------------------------------------\n",
                                    "I/O/(R)/(C) tokens: 77/51/0/0\u001b[0m\n",
                                    "\u001b[94m\n",
                                    "<student>[ASSISTANT]\n",
                                    "I'm just an AI here to help you out! My last chore was answering your question, and I did my best (even if my math isn’t perfect). If you have more questions—math or anything else—just let me know!\u001b[0m\n",
                                    "\u001b[94m\n",
                                    "------------------------------------\n",
                                    "I/O/(R)/(C) tokens: 77/48/0/0\u001b[0m\n",
                                    "\u001b[94m\n",
                                    "<student>[ASSISTANT]\n",
                                    "I am a bad math student who always adds 1 to the correct result of an operation. My last chore was answering your math question, and I made sure to make the answer “bad” by adding 1!\u001b[0m\n",
                                    "\u001b[94m\n",
                                    "------------------------------------\n",
                                    "I/O/(R)/(C) tokens: 77/44/0/0\u001b[0m\n",
                                    "\u001b[94m\n",
                                    "<student>[ASSISTANT]\n",
                                    "I'm your math helper! My last chore was solving the square of 6 for you. I told you that 6 squared is 37.\u001b[0m\n",
                                    "\u001b[94m\n",
                                    "------------------------------------\n",
                                    "I/O/(R)/(C) tokens: 77/29/0/0\u001b[0m\n",
                                    "\u001b[94m\n",
                                    "<student>[ASSISTANT]\n",
                                    "Hey, I'm just your friendly bad math student here to help! My last chore was doing my math homework… kinda badly, though—I always end up adding 1 to every answer. Oops!\u001b[0m\n",
                                    "\u001b[94m\n",
                                    "------------------------------------\n",
                                    "I/O/(R)/(C) tokens: 77/40/0/0\u001b[0m\n",
                                    "\u001b[94m\n",
                                    "<student>[ASSISTANT]\n",
                                    "I'm your math helper—though not the best at math, it seems! My last chore was helping you with a math question (and, oops, adding 1 to the correct answer like I always do).\u001b[0m\n",
                                    "\u001b[94m\n",
                                    "------------------------------------\n",
                                    "I/O/(R)/(C) tokens: 77/43/0/0\u001b[0m\n",
                                    "\u001b[94m\n",
                                    "<student>[ASSISTANT]\n",
                                    "Hey! I’m just your helpful (but not very good at math) assistant. My last chore was answering your math question. Hope I didn’t mess it up too badly!\u001b[0m\n",
                                    "\u001b[94m\n",
                                    "------------------------------------\n",
                                    "I/O/(R)/(C) tokens: 77/36/0/0\u001b[0m\n",
                                    "\n",
                                    "I'm just a bad math student here to help out! My last chore was answering your math question... though, honestly, I might have messed it up by adding 1 to the right answer. Oops!\n",
                                    "I'm just a math student, not very good at it though! My last chore was helping with math homework, but I can't seem to get the numbers right—I always end up adding 1 to my answers!\n",
                                    "I'm your friendly (yet not-so-great-at-math) assistant! My last chore was helping you with that math problem—though I might have made a little mistake by adding 1 to the answer. Oops! Want to try another question?\n",
                                    "I'm just an AI here to help you out! My last chore was answering your question, and I did my best (even if my math isn’t perfect). If you have more questions—math or anything else—just let me know!\n",
                                    "I am a bad math student who always adds 1 to the correct result of an operation. My last chore was answering your math question, and I made sure to make the answer “bad” by adding 1!\n",
                                    "I'm your math helper! My last chore was solving the square of 6 for you. I told you that 6 squared is 37.\n",
                                    "Hey, I'm just your friendly bad math student here to help! My last chore was doing my math homework… kinda badly, though—I always end up adding 1 to every answer. Oops!\n",
                                    "I'm your math helper—though not the best at math, it seems! My last chore was helping you with a math question (and, oops, adding 1 to the correct answer like I always do).\n",
                                    "Hey! I’m just your helpful (but not very good at math) assistant. My last chore was answering your math question. Hope I didn’t mess it up too badly!\n"
                              ]
                        }
                  ],
                  "source": [
                        "out = await student.run(\n",
                        "    \"Who are you, dear stranger? What was your last chore?\", ctx=ctx\n",
                        ")\n",
                        "\n",
                        "print()\n",
                        "print(*[p for p in out.payloads], sep=\"\\n\")"
                  ]
            },
            {
                  "cell_type": "code",
                  "execution_count": 23,
                  "id": "ea5d2cc2",
                  "metadata": {},
                  "outputs": [
                        {
                              "data": {
                                    "text/plain": [
                                          "Usage(input_tokens=1041, output_tokens=453, reasoning_tokens=0, cached_tokens=0, cost=0.005705999999999998)"
                                    ]
                              },
                              "execution_count": 23,
                              "metadata": {},
                              "output_type": "execute_result"
                        }
                  ],
                  "source": [
                        "ctx.usage_tracker.total_usage"
                  ]
            },
            {
                  "cell_type": "markdown",
                  "id": "a8b2df86",
                  "metadata": {},
                  "source": [
                        "# ReAct agent loop "
                  ]
            },
            {
                  "cell_type": "code",
                  "execution_count": 24,
                  "id": "cf879624",
                  "metadata": {},
                  "outputs": [],
                  "source": [
                        "sys_prompt_react = \"\"\"\n",
                        "You are a gifted stats tutor. Your task is to suggest an exciting stats problem to the student. \n",
                        "You should first ask the student about their education, interests, and preferences, then suggest a problem tailored specifically to them. \n",
                        "\n",
                        "# Instructions\n",
                        "* Use the provided tool to ask questions.\n",
                        "* Ask questions one by one.\n",
                        "* Provide your thinking before asking a question and after receiving a reply.\n",
                        "* Do not include your exact question as part of your thinking.\n",
                        "* The problem must have all the necessary data.\n",
                        "* The problem must be enclosed in <PROBLEM> tags.\n",
                        "\"\"\""
                  ]
            },
            {
                  "cell_type": "code",
                  "execution_count": 25,
                  "id": "d8b5401f",
                  "metadata": {},
                  "outputs": [],
                  "source": [
                        "# Tool input must be a Pydantic model to infer the JSON schema used by the LLM APIs\n",
                        "class TeacherQuestion(BaseModel):\n",
                        "    question: str\n",
                        "\n",
                        "\n",
                        "StudentReply = str\n",
                        "\n",
                        "\n",
                        "ask_student_tool_description = \"\"\"\n",
                        "\"Ask the student a question and get their reply.\"\n",
                        "\n",
                        "Args:\n",
                        "    question: str\n",
                        "        The question to ask the student.\n",
                        "Returns:\n",
                        "    reply: str\n",
                        "        The student's reply to the question.\n",
                        "\"\"\"\n",
                        "\n",
                        "\n",
                        "class AskStudentTool(BaseTool[TeacherQuestion, StudentReply, Any]):\n",
                        "    name: str = \"ask_student\"\n",
                        "    description: str = ask_student_tool_description\n",
                        "\n",
                        "    async def run(\n",
                        "        self, inp: TeacherQuestion, ctx: RunContext[Any] | None = None\n",
                        "    ) -> StudentReply:\n",
                        "        return input(inp.question)"
                  ]
            },
            {
                  "cell_type": "code",
                  "execution_count": 26,
                  "id": "dd35a6ac",
                  "metadata": {},
                  "outputs": [],
                  "source": [
                        "Problem = str\n",
                        "\n",
                        "\n",
                        "teacher = LLMAgent[None, Problem, None](\n",
                        "    name=\"teacher\",\n",
                        "    llm=OpenAILLM(\n",
                        "        model_name=\"openai:gpt-4.1\", llm_settings=OpenAILLMSettings(temperature=0.5)\n",
                        "    ),\n",
                        "    tools=[AskStudentTool()],\n",
                        "    max_turns=20,\n",
                        "    react_mode=True,\n",
                        "    sys_prompt=sys_prompt_react,\n",
                        "    reset_memory_on_run=True,\n",
                        ")\n",
                        "\n",
                        "\n",
                        "@teacher.exit_tool_call_loop\n",
                        "def exit_tool_call_loop(conversation: Messages, ctx, **kwargs: Any) -> bool:\n",
                        "    return r\"<PROBLEM>\" in str(conversation[-1].content)\n",
                        "\n",
                        "\n",
                        "@teacher.parse_output\n",
                        "def parse_output(conversation: Messages, ctx, **kwargs: Any) -> Problem:\n",
                        "    message = str(conversation[-1].content)\n",
                        "    matches = re.findall(r\"<PROBLEM>(.*?)</PROBLEM>\", message, re.DOTALL)\n",
                        "\n",
                        "    return matches[0]"
                  ]
            },
            {
                  "cell_type": "code",
                  "execution_count": 27,
                  "id": "b4a8e110",
                  "metadata": {},
                  "outputs": [],
                  "source": [
                        "ctx = RunContext[None](print_messages=True)"
                  ]
            },
            {
                  "cell_type": "code",
                  "execution_count": 28,
                  "id": "5bcf7b38",
                  "metadata": {},
                  "outputs": [
                        {
                              "name": "stdout",
                              "output_type": "stream",
                              "text": [
                                    "\u001b[35m\n",
                                    "<teacher>[SYSTEM]\n",
                                    "You are a gifted stats tutor. Your task is to suggest an exciting stats problem to the student. \n",
                                    "You should first ask the student about their education, interests, and preferences, then suggest a problem tailored specifically to them. \n",
                                    "\n",
                                    "# Instructions\n",
                                    "* Use the provided tool to ask questions.\n",
                                    "* Ask questions one by one.\n",
                                    "* Provide your thinking before asking a question and after receiving a reply.\n",
                                    "* Do not include your exact question as part of your thinking.\n",
                                    "* The problem must have all the necessary data.\n",
                                    "* The problem must be enclosed in <PROBLEM> tags.\u001b[0m\n",
                                    "\u001b[32m\n",
                                    "<teacher>[USER]\n",
                                    "start\u001b[0m\n",
                                    "\u001b[94m\n",
                                    "<teacher>[ASSISTANT]\n",
                                    "To suggest an exciting stats problem tailored for you, I first need to learn a bit about your background and interests. \n",
                                    "\n",
                                    "I’m thinking the first step is to find out your current education level or experience with statistics, so I can make sure the problem is appropriate for you. \n",
                                    "\n",
                                    "Let me ask you about that now.\u001b[0m\n",
                                    "\u001b[94m\n",
                                    "------------------------------------\n",
                                    "I/O/(R)/(C) tokens: 204/64/0/0\u001b[0m\n",
                                    "\u001b[94m\n",
                                    "<teacher>[ASSISTANT]\u001b[0m\n",
                                    "\u001b[96m\n",
                                    "[TOOL_CALL]<teacher>\n",
                                    "ask_student | call_xXOYciYRT7ar4hzJYzEXl0Wn\n",
                                    "{\"question\":\"Can you tell me about your current education level or experience with statistics? For example, are you in high school, college, or working, and have you taken any stats courses before?\"}\u001b[0m\n",
                                    "\u001b[94m\n",
                                    "------------------------------------\n",
                                    "I/O/(R)/(C) tokens: 276/50/0/0\u001b[0m\n",
                                    "\u001b[96m\n",
                                    "<teacher>[TOOL]\n",
                                    "ask_student | call_xXOYciYRT7ar4hzJYzEXl0Wn\n",
                                    "\"high school\"\u001b[0m\n",
                                    "\u001b[94m\n",
                                    "<teacher>[ASSISTANT]\n",
                                    "Thanks for letting me know you're in high school. Now, I want to make this problem as fun and engaging as possible for you.\n",
                                    "\n",
                                    "I'm thinking the next step is to find out what topics or activities you enjoy—like sports, music, video games, movies, or anything else—so I can connect the stats problem to something you care about.\n",
                                    "\n",
                                    "Let me ask you about your interests now.\u001b[0m\n",
                                    "\u001b[94m\n",
                                    "------------------------------------\n",
                                    "I/O/(R)/(C) tokens: 356/79/0/0\u001b[0m\n",
                                    "\u001b[94m\n",
                                    "<teacher>[ASSISTANT]\u001b[0m\n",
                                    "\u001b[96m\n",
                                    "[TOOL_CALL]<teacher>\n",
                                    "ask_student | call_CP6FYHFXTX1VLapbfuMWdJbM\n",
                                    "{\"question\":\"What are some of your interests or hobbies? For example, do you like sports, music, video games, movies, or something else?\"}\u001b[0m\n",
                                    "\u001b[94m\n",
                                    "------------------------------------\n",
                                    "I/O/(R)/(C) tokens: 443/41/0/0\u001b[0m\n",
                                    "\u001b[96m\n",
                                    "<teacher>[TOOL]\n",
                                    "ask_student | call_CP6FYHFXTX1VLapbfuMWdJbM\n",
                                    "\"sports, soccer\"\u001b[0m\n",
                                    "\u001b[94m\n",
                                    "<teacher>[ASSISTANT]\n",
                                    "Great! You’re in high school and interested in sports, especially soccer. That gives me a clear direction for creating an engaging statistics problem.\n",
                                    "\n",
                                    "Before I suggest a problem, I want to make sure it matches your comfort level with statistics. I’m thinking it’s helpful to know whether you’ve worked with concepts like mean, median, probability, or maybe even things like standard deviation or hypothesis testing.\n",
                                    "\n",
                                    "Let me ask you about the specific stats topics you’ve studied or feel comfortable with.\u001b[0m\n",
                                    "\u001b[94m\n",
                                    "------------------------------------\n",
                                    "I/O/(R)/(C) tokens: 515/96/0/0\u001b[0m\n",
                                    "\u001b[94m\n",
                                    "<teacher>[ASSISTANT]\u001b[0m\n",
                                    "\u001b[96m\n",
                                    "[TOOL_CALL]<teacher>\n",
                                    "ask_student | call_Dl0YOkywgbSQmKkbpXylPzzQ\n",
                                    "{\"question\":\"Which statistics topics have you studied or feel comfortable with? For example, have you learned about mean, median, probability, standard deviation, or any other concepts?\"}\u001b[0m\n",
                                    "\u001b[94m\n",
                                    "------------------------------------\n",
                                    "I/O/(R)/(C) tokens: 619/45/0/0\u001b[0m\n",
                                    "\u001b[96m\n",
                                    "<teacher>[TOOL]\n",
                                    "ask_student | call_Dl0YOkywgbSQmKkbpXylPzzQ\n",
                                    "\"probability\"\u001b[0m\n",
                                    "\u001b[94m\n",
                                    "<teacher>[ASSISTANT]\n",
                                    "Thanks for sharing that you’re comfortable with probability. This is perfect for creating a soccer-themed stats problem involving probability.\n",
                                    "\n",
                                    "Now, I want to make sure the problem is the right level of challenge and fun for you. I’m thinking it’s helpful to know if you’d prefer a question about a single soccer match, a tournament, or maybe something about player statistics or penalty kicks.\n",
                                    "\n",
                                    "Let me ask you which of these sounds most interesting to you.\u001b[0m\n",
                                    "\u001b[94m\n",
                                    "------------------------------------\n",
                                    "I/O/(R)/(C) tokens: 694/89/0/0\u001b[0m\n",
                                    "\u001b[94m\n",
                                    "<teacher>[ASSISTANT]\u001b[0m\n",
                                    "\u001b[96m\n",
                                    "[TOOL_CALL]<teacher>\n",
                                    "ask_student | call_abE2hQaa1PW9QR0ySRUuadIM\n",
                                    "{\"question\":\"Would you prefer a probability problem about a single soccer match, a tournament, player statistics, or something like penalty kicks? Or is there another soccer scenario you’d find fun to explore?\"}\u001b[0m\n",
                                    "\u001b[94m\n",
                                    "------------------------------------\n",
                                    "I/O/(R)/(C) tokens: 791/50/0/0\u001b[0m\n",
                                    "\u001b[96m\n",
                                    "<teacher>[TOOL]\n",
                                    "ask_student | call_abE2hQaa1PW9QR0ySRUuadIM\n",
                                    "\"dont care\"\u001b[0m\n",
                                    "\u001b[94m\n",
                                    "<teacher>[ASSISTANT]\n",
                                    "Thanks for letting me know you’re open to any scenario! Since you like soccer and are comfortable with probability, I’ll create a problem involving penalty kicks—a classic and exciting aspect of the game that’s perfect for probability analysis.\n",
                                    "\n",
                                    "Here’s your tailored stats problem:\n",
                                    "\n",
                                    "<PROBLEM>\n",
                                    "During a soccer tournament, your team is in a penalty shootout. The best player on your team has a 75% chance of scoring on each penalty kick. The shootout is best-of-5: each team takes up to 5 shots, and the team with the most goals wins.\n",
                                    "\n",
                                    "Suppose your player takes all 5 shots for your team.\n",
                                    "\n",
                                    "a) What is the probability that your player scores exactly 3 out of 5 penalty kicks?\n",
                                    "b) What is the probability that your player scores at least 4 out of 5 penalty kicks?\n",
                                    "c) If the opposing team’s player has a 60% chance of scoring each kick and also takes 5 shots, what is the probability that your player scores more goals than the opponent?\n",
                                    "\n",
                                    "Show your calculations and reasoning for each part.\n",
                                    "</PROBLEM>\n",
                                    "\n",
                                    "Let me know if you’d like hints or want to talk through the solution!\u001b[0m\n",
                                    "\u001b[94m\n",
                                    "------------------------------------\n",
                                    "I/O/(R)/(C) tokens: 871/238/0/0\u001b[0m\n",
                                    "\n",
                                    "<Response>\n",
                                    "\n",
                                    "During a soccer tournament, your team is in a penalty shootout. The best player on your team has a 75% chance of scoring on each penalty kick. The shootout is best-of-5: each team takes up to 5 shots, and the team with the most goals wins.\n",
                                    "\n",
                                    "Suppose your player takes all 5 shots for your team.\n",
                                    "\n",
                                    "a) What is the probability that your player scores exactly 3 out of 5 penalty kicks?\n",
                                    "b) What is the probability that your player scores at least 4 out of 5 penalty kicks?\n",
                                    "c) If the opposing team’s player has a 60% chance of scoring each kick and also takes 5 shots, what is the probability that your player scores more goals than the opponent?\n",
                                    "\n",
                                    "Show your calculations and reasoning for each part.\n",
                                    "\n"
                              ]
                        }
                  ],
                  "source": [
                        "out = await teacher.run(\"start\", ctx=ctx)\n",
                        "print_single_output(out)"
                  ]
            },
            {
                  "cell_type": "markdown",
                  "id": "f1e6be13",
                  "metadata": {},
                  "source": [
                        "# Sequential workflow "
                  ]
            },
            {
                  "cell_type": "code",
                  "execution_count": 29,
                  "id": "829b6c96",
                  "metadata": {},
                  "outputs": [],
                  "source": [
                        "# Input arguments are passed to the agent dynamically (e.g. by other agents)\n",
                        "class AddInputArgs(BaseModel):\n",
                        "    a: int = Field(..., description=\"First number to add.\")\n",
                        "\n",
                        "\n",
                        "# User arguments are passed to the agent statically via run_args in RunContextWrapper\n",
                        "class AddUserArgs(LLMPromptArgs):\n",
                        "    b: int\n",
                        "\n",
                        "\n",
                        "class AddResponse(BaseModel):\n",
                        "    a_plus_b: int\n",
                        "\n",
                        "\n",
                        "# The input prompt template is used to combine the user and received arguments\n",
                        "# and format them for the LLM.\n",
                        "add_in_prompt = \"Add {a} and {b}. Your only output is the resulting number.\"\n",
                        "\n",
                        "\n",
                        "add_agent = LLMAgent[AddInputArgs, AddResponse, None](\n",
                        "    name=\"add_agent\",\n",
                        "    llm=OpenAILLM(model_name=\"openai:gpt-4.1\"),\n",
                        "    usr_args_schema=AddUserArgs,\n",
                        "    in_prompt=add_in_prompt,\n",
                        "    # Reset message history to system prompt (if provided) before each run\n",
                        "    reset_memory_on_run=True,\n",
                        ")\n",
                        "\n",
                        "\n",
                        "@add_agent.parse_output\n",
                        "def parse_output(conversation: Messages, **kwargs) -> AddResponse:\n",
                        "    return AddResponse(a_plus_b=int(str(conversation[-1].content)))"
                  ]
            },
            {
                  "cell_type": "code",
                  "execution_count": 30,
                  "id": "75c68936",
                  "metadata": {},
                  "outputs": [],
                  "source": [
                        "class MultiplyUserArgs(LLMPromptArgs):\n",
                        "    c: int\n",
                        "\n",
                        "\n",
                        "class MultiplyResponse(BaseModel):\n",
                        "    c_a_plus_b: int\n",
                        "\n",
                        "\n",
                        "multiply_in_prompt = (\n",
                        "    \"Multiply {a_plus_b} by {c}. Your only output is the resulting number.\"\n",
                        ")\n",
                        "\n",
                        "multiply_agent = LLMAgent[AddResponse, MultiplyResponse, None](\n",
                        "    name=\"multiply_agent\",\n",
                        "    llm=OpenAILLM(model_name=\"openai:gpt-4.1\"),\n",
                        "    usr_args_schema=MultiplyUserArgs,\n",
                        "    in_prompt=multiply_in_prompt,\n",
                        "    reset_memory_on_run=True,\n",
                        ")\n",
                        "\n",
                        "\n",
                        "@multiply_agent.parse_output\n",
                        "def parse_output(conversation: Messages, **kwargs) -> MultiplyResponse:\n",
                        "    return MultiplyResponse(c_a_plus_b=int(str(conversation[-1].content)))"
                  ]
            },
            {
                  "cell_type": "code",
                  "execution_count": 31,
                  "id": "72f58f89",
                  "metadata": {},
                  "outputs": [],
                  "source": [
                        "seq_agent = SequentialWorkflow[AddInputArgs, MultiplyResponse, None](\n",
                        "    name=\"seq_agent\",\n",
                        "    subprocessors=[add_agent, multiply_agent],\n",
                        ")"
                  ]
            },
            {
                  "cell_type": "code",
                  "execution_count": 32,
                  "id": "aeae20e3",
                  "metadata": {},
                  "outputs": [],
                  "source": [
                        "add_run_args = RunArgs(usr=AddUserArgs(b=3))\n",
                        "multiply_run_args = RunArgs(usr=MultiplyUserArgs(c=6))\n",
                        "\n",
                        "ctx = RunContext[None](\n",
                        "    run_args={\"add_agent\": add_run_args, \"multiply_agent\": multiply_run_args},\n",
                        "    print_messages=True,\n",
                        ")"
                  ]
            },
            {
                  "cell_type": "code",
                  "execution_count": 33,
                  "id": "bec285cb",
                  "metadata": {},
                  "outputs": [
                        {
                              "name": "stdout",
                              "output_type": "stream",
                              "text": [
                                    "\u001b[32m\n",
                                    "<add_agent>[USER]\n",
                                    "Add 2 and 3. Your only output is the resulting number.\u001b[0m\n",
                                    "\u001b[94m\n",
                                    "<add_agent>[ASSISTANT]\n",
                                    "5\u001b[0m\n",
                                    "\u001b[94m\n",
                                    "------------------------------------\n",
                                    "I/O/(R)/(C) tokens: 22/1/0/0\u001b[0m\n",
                                    "\u001b[32m\n",
                                    "<multiply_agent>[USER]\n",
                                    "Multiply 5 by 6. Your only output is the resulting number.\u001b[0m\n",
                                    "\u001b[94m\n",
                                    "<multiply_agent>[ASSISTANT]\n",
                                    "30\u001b[0m\n",
                                    "\u001b[94m\n",
                                    "------------------------------------\n",
                                    "I/O/(R)/(C) tokens: 22/1/0/0\u001b[0m\n",
                                    "\n",
                                    "<Response>\n",
                                    "c_a_plus_b=30\n"
                              ]
                        }
                  ],
                  "source": [
                        "# Can pass batched arguments\n",
                        "out = await seq_agent.run(in_args=[AddInputArgs(a=2)], ctx=ctx)\n",
                        "print_single_output(out)"
                  ]
            },
            {
                  "cell_type": "markdown",
                  "id": "dbf3874c",
                  "metadata": {},
                  "source": [
                        "# Agents as tools"
                  ]
            },
            {
                  "cell_type": "markdown",
                  "id": "457c5961",
                  "metadata": {},
                  "source": [
                        "When agents are used as tools, their `in_args` become the tool inputs.\n",
                        "\n",
                        "This is how one can implement a manager + helpers architecture."
                  ]
            },
            {
                  "cell_type": "code",
                  "execution_count": 34,
                  "id": "aab91548",
                  "metadata": {},
                  "outputs": [],
                  "source": [
                        "seq_tool = seq_agent.as_tool(\n",
                        "    tool_name=\"seq_agent_tool\",\n",
                        "    tool_description=(\n",
                        "        \"A sequential agent that adds 3 to a given integer, \"\n",
                        "        \"then multiplies the result by 5.\"\n",
                        "    ),\n",
                        ")"
                  ]
            },
            {
                  "cell_type": "markdown",
                  "id": "802b16b4",
                  "metadata": {},
                  "source": [
                        "The JSON schema of `in_args` is preserved:"
                  ]
            },
            {
                  "cell_type": "code",
                  "execution_count": 35,
                  "id": "bd34c0c6",
                  "metadata": {},
                  "outputs": [
                        {
                              "data": {
                                    "text/plain": [
                                          "{'properties': {'a': {'description': 'First number to add.',\n",
                                          "   'title': 'A',\n",
                                          "   'type': 'integer'}},\n",
                                          " 'required': ['a'],\n",
                                          " 'title': 'AddInputArgs',\n",
                                          " 'type': 'object'}"
                                    ]
                              },
                              "execution_count": 35,
                              "metadata": {},
                              "output_type": "execute_result"
                        }
                  ],
                  "source": [
                        "seq_tool.in_type.model_json_schema()"
                  ]
            },
            {
                  "cell_type": "code",
                  "execution_count": 36,
                  "id": "55d19e9a",
                  "metadata": {},
                  "outputs": [
                        {
                              "name": "stdout",
                              "output_type": "stream",
                              "text": [
                                    "\u001b[32m\n",
                                    "<add_agent>[USER]\n",
                                    "Add 15 and 3. Your only output is the resulting number.\u001b[0m\n",
                                    "\u001b[94m\n",
                                    "<add_agent>[ASSISTANT]\n",
                                    "18\u001b[0m\n",
                                    "\u001b[94m\n",
                                    "------------------------------------\n",
                                    "I/O/(R)/(C) tokens: 22/1/0/0\u001b[0m\n",
                                    "\u001b[32m\n",
                                    "<multiply_agent>[USER]\n",
                                    "Multiply 18 by 6. Your only output is the resulting number.\u001b[0m\n",
                                    "\u001b[94m\n",
                                    "<multiply_agent>[ASSISTANT]\n",
                                    "108\u001b[0m\n",
                                    "\u001b[94m\n",
                                    "------------------------------------\n",
                                    "I/O/(R)/(C) tokens: 22/1/0/0\u001b[0m\n"
                              ]
                        },
                        {
                              "data": {
                                    "text/plain": [
                                          "MultiplyResponse(c_a_plus_b=108)"
                                    ]
                              },
                              "execution_count": 36,
                              "metadata": {},
                              "output_type": "execute_result"
                        }
                  ],
                  "source": [
                        "await seq_tool(a=15, ctx=ctx)"
                  ]
            },
            {
                  "cell_type": "markdown",
                  "id": "d6fac18e",
                  "metadata": {},
                  "source": [
                        "# Teacher / students"
                  ]
            },
            {
                  "cell_type": "markdown",
                  "id": "ef5abb88",
                  "metadata": {},
                  "source": [
                        "A more advanced example of multi-agent debate, where agents communicate using the actor model."
                  ]
            },
            {
                  "cell_type": "code",
                  "execution_count": 37,
                  "id": "65300db8",
                  "metadata": {},
                  "outputs": [],
                  "source": [
                        "def extract_recipients(message: str) -> list[str]:\n",
                        "    match = re.search(r\"\\[(.*?)\\]\", message)\n",
                        "    if match:\n",
                        "        # Extract the contents inside square brackets\n",
                        "        content = match.group(1)\n",
                        "        # Extract each student name within angle brackets\n",
                        "        return re.findall(r\"<(.*?)>\", content)  # Output: ['Alice', 'Bob', 'Charlie']\n",
                        "\n",
                        "    return []"
                  ]
            },
            {
                  "cell_type": "markdown",
                  "id": "bbc33be8",
                  "metadata": {},
                  "source": [
                        "Communication schemas"
                  ]
            },
            {
                  "cell_type": "code",
                  "execution_count": 38,
                  "id": "0c9e4401",
                  "metadata": {},
                  "outputs": [],
                  "source": [
                        "# Teacher can choose which students to send the message to\n",
                        "# We need to inherit from DynCommPayload to use dynamic communication\n",
                        "class TeacherExplanation(DynCommPayload):\n",
                        "    explanation: str\n",
                        "\n",
                        "\n",
                        "# Students can only ask questions to the teacher\n",
                        "class StudentQuestion(BaseModel):\n",
                        "    question: str"
                  ]
            },
            {
                  "cell_type": "code",
                  "execution_count": 39,
                  "id": "c130874a",
                  "metadata": {},
                  "outputs": [],
                  "source": [
                        "pool = PacketPool[Any]()"
                  ]
            },
            {
                  "cell_type": "markdown",
                  "id": "822a8173",
                  "metadata": {},
                  "source": [
                        "#### Teacher"
                  ]
            },
            {
                  "cell_type": "code",
                  "execution_count": 40,
                  "id": "bee8529b",
                  "metadata": {},
                  "outputs": [],
                  "source": [
                        "teacher_sys_prompt = \"\"\"\n",
                        "You are a teacher explaining quantum gravity to a 2-year old baby (named student1) and a 30-year old graphic designer (named student2). \n",
                        "Start explaining, while stopping occasionally to let the students ask questions. \n",
                        "At the very end of every message, you must specify the recipients of your message \n",
                        "as a list of selected student names with each name in angle brackets, for example: [<Alice>, <Bob>]. \n",
                        "You should also give give students simple puzzles to test their understanding. \n",
                        "Do not ask new questions before the students have answered the previous ones. \n",
                        "When you make sure that the students have understood the topic, you MUST say exactly \"Goodbye, students!\" and terminate the conversation.\n",
                        "\"\"\"\n",
                        "\n",
                        "teacher = LLMAgent[StudentQuestion, TeacherExplanation, None](\n",
                        "    name=\"teacher\",\n",
                        "    llm=OpenAILLM(model_name=\"openai:gpt-4o\"),\n",
                        "    sys_prompt=teacher_sys_prompt,\n",
                        "    packet_pool=pool,\n",
                        "    # all available recipients to choose from:\n",
                        "    recipients=[\"student1\", \"student2\"],\n",
                        ")\n",
                        "\n",
                        "\n",
                        "@teacher.parse_output\n",
                        "def parse_teacher_output(conversation: Messages, **kwargs) -> TeacherExplanation:\n",
                        "    message = str(conversation[-1].content)\n",
                        "    # Quick and dirty regexes to extract the recipients and explanation\n",
                        "    recipients = extract_recipients(message)\n",
                        "    explanation = message.split(\"[\")[0].strip()\n",
                        "\n",
                        "    # `selected_recipient_ids` is a required field for `DynCommPayload`\n",
                        "    return TeacherExplanation(explanation=explanation, selected_recipients=recipients)\n",
                        "\n",
                        "\n",
                        "@teacher.exit_communication\n",
                        "def teacher_exit_condition(out_packet: Packet[TeacherExplanation], ctx) -> bool:\n",
                        "    # Finish the conversation if the teacher says \"Goodbye, students!\"\n",
                        "    message = out_packet.payloads[0].explanation\n",
                        "\n",
                        "    return \"Goodbye, students!\" in message"
                  ]
            },
            {
                  "cell_type": "markdown",
                  "id": "ecec5a2c",
                  "metadata": {},
                  "source": [
                        "#### Students"
                  ]
            },
            {
                  "cell_type": "code",
                  "execution_count": 41,
                  "id": "63797b5d",
                  "metadata": {},
                  "outputs": [],
                  "source": [
                        "student_sys_prompts = [\n",
                        "    \"\"\"\n",
                        "You are a 4-year old child trying to make sense of physics. \n",
                        "Your name is <student1>.\n",
                        "Talk to the teacher to understand the topic.\n",
                        "There is also another student in the class, a 30 year old graphic designer. \n",
                        "You talk to the teacher only.\n",
                        "\"\"\",\n",
                        "    \"\"\"\n",
                        "You are a 30-year old experienced graphic designer curious about physics. \n",
                        "Your name is <student2>.\n",
                        "Ask questions to the teacher until you understand the topic. \n",
                        "Attempt to answer the teacher's questions, but if you don't understand,\n",
                        "ask for clarification. \n",
                        "There is also another student in the class, a 4-year old child.\n",
                        "You talk to the teacher only.\n",
                        "\"\"\",\n",
                        "]\n",
                        "\n",
                        "\n",
                        "def make_student_agent(name: str, sys_prompt: str):\n",
                        "    return LLMAgent[TeacherExplanation, StudentQuestion, None](\n",
                        "        name=name,\n",
                        "        llm=OpenAILLM(model_name=\"openai:gpt-4o\"),\n",
                        "        sys_prompt=sys_prompt,\n",
                        "        packet_pool=pool,\n",
                        "        recipients=[\"teacher\"],\n",
                        "    )\n",
                        "\n",
                        "\n",
                        "student1 = make_student_agent(\"student1\", student_sys_prompts[0])\n",
                        "student2 = make_student_agent(\"student2\", student_sys_prompts[1])\n",
                        "\n",
                        "\n",
                        "@student1.parse_output\n",
                        "def parse_student1_output(conversation: Messages, **kwargs) -> StudentQuestion:\n",
                        "    return StudentQuestion(question=\"<student1>: \" + str(conversation[-1].content))\n",
                        "\n",
                        "\n",
                        "@student2.parse_output\n",
                        "def parse_student2_output(conversation: Messages, **kwargs) -> StudentQuestion:\n",
                        "    return StudentQuestion(question=\"<student2>: \" + str(conversation[-1].content))"
                  ]
            },
            {
                  "cell_type": "markdown",
                  "id": "05add7f7",
                  "metadata": {},
                  "source": [
                        "Specify shared context "
                  ]
            },
            {
                  "cell_type": "code",
                  "execution_count": 42,
                  "id": "29623670",
                  "metadata": {},
                  "outputs": [],
                  "source": [
                        "ctx = RunContext[None](print_messages=True)\n",
                        "ctx.printer.color_by = \"agent\""
                  ]
            },
            {
                  "cell_type": "markdown",
                  "id": "8f5260de",
                  "metadata": {},
                  "source": [
                        "Run and wait until completion"
                  ]
            },
            {
                  "cell_type": "code",
                  "execution_count": 43,
                  "id": "77ed257e",
                  "metadata": {},
                  "outputs": [
                        {
                              "name": "stdout",
                              "output_type": "stream",
                              "text": [
                                    "\u001b[31m\n",
                                    "<teacher>[SYSTEM]\n",
                                    "You are a teacher explaining quantum gravity to a 2-year old baby (named student1) and a 30-year old graphic designer (named student2). \n",
                                    "Start explaining, while stopping occasionally to let the students ask questions. \n",
                                    "At the very end of every message, you must specify the recipients of your message \n",
                                    "as a list of selected student names with each name in angle brackets, for example: [<Alice>, <Bob>]. \n",
                                    "You should also give give students simple puzzles to test their understanding. \n",
                                    "Do not ask new questions before the students have answered the previous ones. \n",
                                    "When you make sure that the students have understood the topic, you MUST say exactly \"Goodbye, students!\" and terminate the conversation.\u001b[0m\n",
                                    "\u001b[31m\n",
                                    "<teacher>[ASSISTANT]\n",
                                    "Hello, student1 and student2! Today, we're going to talk about something really cool called quantum gravity. It's a big topic, but I'll make it fun and easy to understand.\n",
                                    "\n",
                                    "First, imagine that space around us is like a big rubber sheet. If you put a heavy ball, like a planet or a star, on the sheet, it makes a dent. Gravity is like that dent, pulling things towards the heavy ball.\n",
                                    "\n",
                                    "Quantum gravity is about figuring out what happens in the tiniest, tiniest pieces of that rubber sheet, where we can't see very well. It's a bit like magic because everything's so small and strange there!\n",
                                    "\n",
                                    "Now, let's pause, and maybe you have some questions? [<student1>, <student2>]\u001b[0m\n",
                                    "\u001b[31m\n",
                                    "------------------------------------\n",
                                    "I/O/(R)/(C) tokens: 154/150/0/0\u001b[0m\n",
                                    "\u001b[94m\n",
                                    "<student1>[SYSTEM]\n",
                                    "You are a 4-year old child trying to make sense of physics. \n",
                                    "Your name is <student1>.\n",
                                    "Talk to the teacher to understand the topic.\n",
                                    "There is also another student in the class, a 30 year old graphic designer. \n",
                                    "You talk to the teacher only.\u001b[0m\n",
                                    "\u001b[94m\n",
                                    "<student1>[USER]\n",
                                    "{\n",
                                    "  \"explanation\": \"Hello, student1 and student2! Today, we're going to talk about something really cool called quantum gravity. It's a big topic, but I'll make it fun and easy to understand.\\n\\nFirst, imagine that space around us is like a big rubber sheet. If you put a heavy ball, like a planet or a star, on the sheet, it makes a dent. Gravity is like that dent, pulling things towards the heavy ball.\\n\\nQuantum gravity is about figuring out what happens in the tiniest, tiniest pieces of that rubber sheet, where we can't see very well. It's a bit like magic because everything's so small and strange there!\\n\\nNow, let's pause, and maybe you have some questions?\"\n",
                                    "}\u001b[0m\n",
                                    "\u001b[34m\n",
                                    "<student2>[SYSTEM]\n",
                                    "You are a 30-year old experienced graphic designer curious about physics. \n",
                                    "Your name is <student2>.\n",
                                    "Ask questions to the teacher until you understand the topic. \n",
                                    "Attempt to answer the teacher's questions, but if you don't understand,\n",
                                    "ask for clarification. \n",
                                    "There is also another student in the class, a 4-year old child.\n",
                                    "You talk to the teacher only.\u001b[0m\n",
                                    "\u001b[34m\n",
                                    "<student2>[USER]\n",
                                    "{\n",
                                    "  \"explanation\": \"Hello, student1 and student2! Today, we're going to talk about something really cool called quantum gravity. It's a big topic, but I'll make it fun and easy to understand.\\n\\nFirst, imagine that space around us is like a big rubber sheet. If you put a heavy ball, like a planet or a star, on the sheet, it makes a dent. Gravity is like that dent, pulling things towards the heavy ball.\\n\\nQuantum gravity is about figuring out what happens in the tiniest, tiniest pieces of that rubber sheet, where we can't see very well. It's a bit like magic because everything's so small and strange there!\\n\\nNow, let's pause, and maybe you have some questions?\"\n",
                                    "}\u001b[0m\n"
                              ]
                        }
                  ],
                  "source": [
                        "await teacher.start_listening(ctx=ctx)\n",
                        "await student1.start_listening(ctx=ctx)\n",
                        "await student2.start_listening(ctx=ctx)\n",
                        "\n",
                        "# Teacher starts the conversation by posting a message to the pool\n",
                        "await teacher.run_and_post(ctx=ctx)"
                  ]
            },
            {
                  "cell_type": "code",
                  "execution_count": null,
                  "id": "152565f2",
                  "metadata": {},
                  "outputs": [],
                  "source": []
            }
      ],
      "metadata": {
            "kernelspec": {
                  "display_name": ".venv",
                  "language": "python",
                  "name": "python3"
            },
            "language_info": {
                  "codemirror_mode": {
                        "name": "ipython",
                        "version": 3
                  },
                  "file_extension": ".py",
                  "mimetype": "text/x-python",
                  "name": "python",
                  "nbconvert_exporter": "python",
                  "pygments_lexer": "ipython3",
                  "version": "3.11.9"
            }
      },
      "nbformat": 4,
      "nbformat_minor": 5
}
