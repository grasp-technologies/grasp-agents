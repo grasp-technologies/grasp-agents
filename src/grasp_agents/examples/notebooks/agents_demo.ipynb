{
      "cells": [
            {
                  "cell_type": "code",
                  "execution_count": 1,
                  "id": "e7bab540",
                  "metadata": {},
                  "outputs": [
                        {
                              "name": "stderr",
                              "output_type": "stream",
                              "text": [
                                    "/Users/serge/Grasp/repos/grasp-agents/src/grasp_agents/utils.py:12: TqdmExperimentalWarning: Using `tqdm.autonotebook.tqdm` in notebook mode. Use `tqdm.tqdm` instead to force console mode (e.g. in jupyter console)\n",
                                    "  from tqdm.autonotebook import tqdm\n"
                              ]
                        }
                  ],
                  "source": [
                        "from pathlib import Path\n",
                        "import re\n",
                        "from typing import Any\n",
                        "from pydantic import Field, BaseModel\n",
                        "\n",
                        "from grasp_agents.grasp_logging import setup_logging\n",
                        "from grasp_agents.agent_message_pool import AgentMessagePool\n",
                        "from grasp_agents.llm_agent import LLMAgent\n",
                        "from grasp_agents.openai.openai_llm import OpenAILLM, OpenAILLMSettings\n",
                        "from grasp_agents.typing.io import AgentPayload, LLMPromptArgs\n",
                        "\n",
                        "from grasp_agents.typing.tool import BaseTool\n",
                        "from grasp_agents.run_context import RunContextWrapper, RunArgs\n",
                        "from grasp_agents.agent_message import AgentMessage\n",
                        "from grasp_agents.comm_agent import DCommAgentPayload\n",
                        "from grasp_agents.typing.content import ImageData\n",
                        "from grasp_agents.typing.message import Conversation\n",
                        "from grasp_agents.utils import get_timestamp\n",
                        "from grasp_agents.workflow.sequential_agent import SequentialWorkflowAgent"
                  ]
            },
            {
                  "cell_type": "code",
                  "execution_count": 2,
                  "id": "365844a1",
                  "metadata": {},
                  "outputs": [],
                  "source": [
                        "PACKAGE_DIR = Path.cwd()\n",
                        "LOGGING_DIR = Path.cwd() / \"data/multiagent/logs\""
                  ]
            },
            {
                  "cell_type": "code",
                  "execution_count": 3,
                  "id": "8c3a6481",
                  "metadata": {},
                  "outputs": [
                        {
                              "data": {
                                    "text/plain": [
                                          "PosixPath('/Users/serge/Grasp/repos/grasp-agents/configs/logging/default.yaml')"
                                    ]
                              },
                              "execution_count": 3,
                              "metadata": {},
                              "output_type": "execute_result"
                        }
                  ],
                  "source": [
                        "PACKAGE_DIR / \"configs/logging/default.yaml\""
                  ]
            },
            {
                  "cell_type": "code",
                  "execution_count": 4,
                  "id": "a25cd25a",
                  "metadata": {},
                  "outputs": [],
                  "source": [
                        "LOGGING_CFG_PATH = PACKAGE_DIR / \"configs/logging/default.yaml\"\n",
                        "setup_logging(\n",
                        "    LOGGING_DIR / f\"grasp_agents_demo_{get_timestamp()}.log\", LOGGING_CFG_PATH\n",
                        ")"
                  ]
            },
            {
                  "cell_type": "markdown",
                  "id": "d0a377d1",
                  "metadata": {},
                  "source": [
                        "# Chat"
                  ]
            },
            {
                  "cell_type": "code",
                  "execution_count": 5,
                  "id": "c7ee012b",
                  "metadata": {},
                  "outputs": [],
                  "source": [
                        "IMG_1_URL = \"https://www.simplilearn.com/ice9/free_resources_article_thumb/Expressions_In_C_2.PNG\"\n",
                        "IMG_2_PATH = PACKAGE_DIR / \"src/grasp_agents/examples/data/expr.jpeg\""
                  ]
            },
            {
                  "cell_type": "code",
                  "execution_count": null,
                  "id": "2647787f",
                  "metadata": {},
                  "outputs": [],
                  "source": [
                        "class Response(AgentPayload):\n",
                        "    response: str\n",
                        "\n",
                        "\n",
                        "chatbot = LLMAgent[Any, Response, None](\n",
                        "    agent_id=\"chatbot\",\n",
                        "    llm=OpenAILLM(\n",
                        "        model_name=\"gpt-4.1\",\n",
                        "        llm_settings=OpenAILLMSettings(),\n",
                        "    ),\n",
                        "    sys_prompt=None,\n",
                        "    out_schema=Response,\n",
                        ")\n",
                        "\n",
                        "\n",
                        "@chatbot.parse_output_handler\n",
                        "def parse_output(\n",
                        "    conversation: Conversation, ctx: RunContextWrapper[Any] | None = None, **kwargs\n",
                        ") -> Response:\n",
                        "    return Response(response=conversation[-1].content)\n",
                        "\n",
                        "\n",
                        "# This initialises printer and usage tracker\n",
                        "ctx = RunContextWrapper(print_messages=True)"
                  ]
            },
            {
                  "cell_type": "code",
                  "execution_count": 7,
                  "id": "d204005b",
                  "metadata": {},
                  "outputs": [
                        {
                              "name": "stdout",
                              "output_type": "stream",
                              "text": [
                                    "\u001b[32m\n",
                                    "<chatbot>[USER]\n",
                                    "Where are you headed, stranger?\u001b[0m\n",
                                    "\u001b[94m\n",
                                    "<chatbot>[ASSISTANT]\n",
                                    "Well, that depends—are you offering directions, adventure, or just a friendly conversation? For now, I’m just here, wherever *here* is, ready to chat with you! Where would *you* like to go?\u001b[0m\n",
                                    "\u001b[94m\n",
                                    "------------------------------------\n",
                                    "I/O/(R)/(C) tokens: 14/48/0/0\u001b[0m\n",
                                    "Well, that depends—are you offering directions, adventure, or just a friendly conversation? For now, I’m just here, wherever *here* is, ready to chat with you! Where would *you* like to go?\n"
                              ]
                        }
                  ],
                  "source": [
                        "out = await chatbot.run(\"Where are you headed, stranger?\", ctx=ctx)\n",
                        "print(out.payloads[0].response)"
                  ]
            },
            {
                  "cell_type": "code",
                  "execution_count": 8,
                  "id": "75a659b9",
                  "metadata": {},
                  "outputs": [
                        {
                              "name": "stdout",
                              "output_type": "stream",
                              "text": [
                                    "\u001b[32m\n",
                                    "<chatbot>[USER]\n",
                                    "What did you just say, exactly?\u001b[0m\n",
                                    "\u001b[94m\n",
                                    "<chatbot>[ASSISTANT]\n",
                                    "Of course! Here’s what I just said:\n",
                                    "\n",
                                    "> Well, that depends—are you offering directions, adventure, or just a friendly conversation? For now, I’m just here, wherever *here* is, ready to chat with you! Where would *you* like to go?\n",
                                    "\n",
                                    "If you were wondering about my meaning: I replied to your question in a playful way, as if we’re two travelers meeting on a road, and I invited you to steer the conversation wherever you’d like! If you meant something else, let me know.\u001b[0m\n",
                                    "\u001b[94m\n",
                                    "------------------------------------\n",
                                    "I/O/(R)/(C) tokens: 77/111/0/0\u001b[0m\n",
                                    "Of course! Here’s what I just said:\n",
                                    "\n",
                                    "> Well, that depends—are you offering directions, adventure, or just a friendly conversation? For now, I’m just here, wherever *here* is, ready to chat with you! Where would *you* like to go?\n",
                                    "\n",
                                    "If you were wondering about my meaning: I replied to your question in a playful way, as if we’re two travelers meeting on a road, and I invited you to steer the conversation wherever you’d like! If you meant something else, let me know.\n"
                              ]
                        }
                  ],
                  "source": [
                        "out = await chatbot.run(\"What did you just say, exactly?\", ctx=ctx)\n",
                        "print(out.payloads[0].response)"
                  ]
            },
            {
                  "cell_type": "code",
                  "execution_count": 9,
                  "id": "b347b0e1",
                  "metadata": {},
                  "outputs": [
                        {
                              "data": {
                                    "text/plain": [
                                          "PosixPath('/Users/serge/Grasp/repos/grasp-agents/src/grasp_agents/examples/data/expr.jpeg')"
                                    ]
                              },
                              "execution_count": 9,
                              "metadata": {},
                              "output_type": "execute_result"
                        }
                  ],
                  "source": [
                        "IMG_2_PATH"
                  ]
            },
            {
                  "cell_type": "code",
                  "execution_count": 10,
                  "id": "52b2da45",
                  "metadata": {},
                  "outputs": [
                        {
                              "name": "stdout",
                              "output_type": "stream",
                              "text": [
                                    "\u001b[32m\n",
                                    "<chatbot>[USER]\n",
                                    "What's in this image?\n",
                                    "<ENCODED_IMAGE>\u001b[0m\n",
                                    "\u001b[94m\n",
                                    "<chatbot>[ASSISTANT]\n",
                                    "The image shows a mathematical expression written as:\n",
                                    "\n",
                                    "```\n",
                                    "7 * (5 + 15) / (2 * 5) - 3\n",
                                    "```\n",
                                    "\n",
                                    "Would you like to solve it?\u001b[0m\n",
                                    "\u001b[94m\n",
                                    "------------------------------------\n",
                                    "I/O/(R)/(C) tokens: 455/40/0/0\u001b[0m\n",
                                    "The image shows a mathematical expression written as:\n",
                                    "\n",
                                    "```\n",
                                    "7 * (5 + 15) / (2 * 5) - 3\n",
                                    "```\n",
                                    "\n",
                                    "Would you like to solve it?\n"
                              ]
                        }
                  ],
                  "source": [
                        "out = await chatbot.run(\n",
                        "    [\"What's in this image?\", ImageData.from_path(IMG_2_PATH)], ctx=ctx\n",
                        ")\n",
                        "print(out.payloads[0].response)"
                  ]
            },
            {
                  "cell_type": "code",
                  "execution_count": 11,
                  "id": "e441ca1e",
                  "metadata": {},
                  "outputs": [
                        {
                              "name": "stdout",
                              "output_type": "stream",
                              "text": [
                                    "\u001b[32m\n",
                                    "<chatbot>[USER]\n",
                                    "Go on\u001b[0m\n",
                                    "\u001b[94m\n",
                                    "<chatbot>[ASSISTANT]\n",
                                    "Sure! Let’s solve the expression step by step:\n",
                                    "\n",
                                    "Given:  \n",
                                    "**7 * (5 + 15) / (2 * 5) - 3**\n",
                                    "\n",
                                    "1. **Solve inside the parentheses:**\n",
                                    "   - (5 + 15) = 20\n",
                                    "   - (2 * 5) = 10\n",
                                    "\n",
                                    "So now it’s:\n",
                                    "**7 * 20 / 10 - 3**\n",
                                    "\n",
                                    "2. **Multiplication and division from left to right:**\n",
                                    "   - 7 * 20 = 140\n",
                                    "   - 140 / 10 = 14\n",
                                    "\n",
                                    "So now it’s:\n",
                                    "**14 - 3**\n",
                                    "\n",
                                    "3. **Subtraction:**\n",
                                    "   - 14 - 3 = **11**\n",
                                    "\n",
                                    "**Final Answer: 11**\u001b[0m\n",
                                    "\u001b[94m\n",
                                    "------------------------------------\n",
                                    "I/O/(R)/(C) tokens: 504/156/0/0\u001b[0m\n",
                                    "Sure! Let’s solve the expression step by step:\n",
                                    "\n",
                                    "Given:  \n",
                                    "**7 * (5 + 15) / (2 * 5) - 3**\n",
                                    "\n",
                                    "1. **Solve inside the parentheses:**\n",
                                    "   - (5 + 15) = 20\n",
                                    "   - (2 * 5) = 10\n",
                                    "\n",
                                    "So now it’s:\n",
                                    "**7 * 20 / 10 - 3**\n",
                                    "\n",
                                    "2. **Multiplication and division from left to right:**\n",
                                    "   - 7 * 20 = 140\n",
                                    "   - 140 / 10 = 14\n",
                                    "\n",
                                    "So now it’s:\n",
                                    "**14 - 3**\n",
                                    "\n",
                                    "3. **Subtraction:**\n",
                                    "   - 14 - 3 = **11**\n",
                                    "\n",
                                    "**Final Answer: 11**\n"
                              ]
                        }
                  ],
                  "source": [
                        "out = await chatbot.run(\"Go on\", ctx=ctx)\n",
                        "print(out.payloads[0].response)"
                  ]
            },
            {
                  "cell_type": "code",
                  "execution_count": 12,
                  "id": "d0ab7eb2",
                  "metadata": {},
                  "outputs": [
                        {
                              "name": "stdout",
                              "output_type": "stream",
                              "text": [
                                    "\u001b[32m\n",
                                    "<chatbot>[USER]\n",
                                    "Try another one\n",
                                    "https://www.simplilearn.com/ice9/free_resources_article_thumb/Expressions_In_C_2.PNG\u001b[0m\n",
                                    "\u001b[94m\n",
                                    "<chatbot>[ASSISTANT]\n",
                                    "Let’s solve the arithmetic expression step by step.\n",
                                    "\n",
                                    "Given:  \n",
                                    "- a = 2  \n",
                                    "- b = 3  \n",
                                    "- c = 4  \n",
                                    "\n",
                                    "Expression:  \n",
                                    "**Z = a + b - (a * c)**\n",
                                    "\n",
                                    "Substitute the values of a, b, and c:\n",
                                    "**Z = 2 + 3 - (2 * 4)**\n",
                                    "\n",
                                    "Calculate inside the parentheses:\n",
                                    "- (2 * 4) = 8\n",
                                    "\n",
                                    "So,\n",
                                    "**Z = 2 + 3 - 8**\n",
                                    "\n",
                                    "Add and subtract:\n",
                                    "- 2 + 3 = 5\n",
                                    "- 5 - 8 = -3\n",
                                    "\n",
                                    "**Final Answer: Z = -3**\u001b[0m\n",
                                    "\u001b[94m\n",
                                    "------------------------------------\n",
                                    "I/O/(R)/(C) tokens: 1095/139/0/0\u001b[0m\n",
                                    "Let’s solve the arithmetic expression step by step.\n",
                                    "\n",
                                    "Given:  \n",
                                    "- a = 2  \n",
                                    "- b = 3  \n",
                                    "- c = 4  \n",
                                    "\n",
                                    "Expression:  \n",
                                    "**Z = a + b - (a * c)**\n",
                                    "\n",
                                    "Substitute the values of a, b, and c:\n",
                                    "**Z = 2 + 3 - (2 * 4)**\n",
                                    "\n",
                                    "Calculate inside the parentheses:\n",
                                    "- (2 * 4) = 8\n",
                                    "\n",
                                    "So,\n",
                                    "**Z = 2 + 3 - 8**\n",
                                    "\n",
                                    "Add and subtract:\n",
                                    "- 2 + 3 = 5\n",
                                    "- 5 - 8 = -3\n",
                                    "\n",
                                    "**Final Answer: Z = -3**\n"
                              ]
                        }
                  ],
                  "source": [
                        "out = await chatbot.run([\"Try another one\", ImageData.from_url(IMG_1_URL)], ctx=ctx)\n",
                        "print(out.payloads[0].response)"
                  ]
            },
            {
                  "cell_type": "code",
                  "execution_count": 13,
                  "id": "5f35439a",
                  "metadata": {},
                  "outputs": [
                        {
                              "name": "stdout",
                              "output_type": "stream",
                              "text": [
                                    "\u001b[32m\n",
                                    "<chatbot>[USER]\n",
                                    "What was my first question, exactly?\u001b[0m\n",
                                    "\u001b[94m\n",
                                    "<chatbot>[ASSISTANT]\n",
                                    "Your first question was:\n",
                                    "\n",
                                    "**\"Where are you headed, stranger?\"**\u001b[0m\n",
                                    "\u001b[94m\n",
                                    "------------------------------------\n",
                                    "I/O/(R)/(C) tokens: 1249/16/0/0\u001b[0m\n",
                                    "Your first question was:\n",
                                    "\n",
                                    "**\"Where are you headed, stranger?\"**\n"
                              ]
                        }
                  ],
                  "source": [
                        "out = await chatbot.run(\"What was my first question, exactly?\", ctx=ctx)\n",
                        "print(out.payloads[0].response)"
                  ]
            },
            {
                  "cell_type": "code",
                  "execution_count": 14,
                  "id": "fe068493",
                  "metadata": {},
                  "outputs": [
                        {
                              "data": {
                                    "text/plain": [
                                          "Usage(input_tokens=3394, output_tokens=510, reasoning_tokens=0, cached_tokens=0, cost=0.010868)"
                                    ]
                              },
                              "execution_count": 14,
                              "metadata": {},
                              "output_type": "execute_result"
                        }
                  ],
                  "source": [
                        "ctx.usage_tracker.total_usage"
                  ]
            },
            {
                  "cell_type": "markdown",
                  "id": "868cceb9",
                  "metadata": {},
                  "source": [
                        "# Structured outputs"
                  ]
            },
            {
                  "cell_type": "code",
                  "execution_count": 15,
                  "id": "50cd31c4",
                  "metadata": {},
                  "outputs": [],
                  "source": [
                        "from enum import StrEnum\n",
                        "\n",
                        "\n",
                        "class Selector(StrEnum):\n",
                        "    S1 = \"S1\"\n",
                        "    S2 = \"S2\"\n",
                        "\n",
                        "\n",
                        "class Response(AgentPayload):\n",
                        "    a: int = Field(..., description=\"This integer must be equal to 1123\")\n",
                        "    b: bool = Field(..., description=\"This boolean must be equal to False\")\n",
                        "    s: Selector = Field(..., description=\"Choose a value randomly\")"
                  ]
            },
            {
                  "cell_type": "code",
                  "execution_count": 16,
                  "id": "8ccaa3a2",
                  "metadata": {},
                  "outputs": [],
                  "source": [
                        "# Structured outputs are not supported via openrouter, but generated messages\n",
                        "# can still be validated against the provided schema (response_format)\n",
                        "\n",
                        "# In case structured outputs are not supported, we need to provide the output schema\n",
                        "# in the prompt. Otherwise the prompt can be empty in this example.\n",
                        "\n",
                        "# inp_prompt = \"\"\"\n",
                        "# Output a plain JSON string (no formatting) that contains the following fields:\n",
                        "# - a: an integer that must be equal to 1123\n",
                        "# - b: a boolean that must be equal to False\n",
                        "# - s: a string that must be either \"S1\" or \"S2\"\n",
                        "\n",
                        "# {{\n",
                        "#   \"a\": <integer>,\n",
                        "#   \"b\": <boolean>,\n",
                        "#   \"s\": <string>\n",
                        "# }}\n",
                        "# \"\"\"\n",
                        "\n",
                        "test_agent = LLMAgent[Any, Response, None](\n",
                        "    agent_id=\"test_agent\",\n",
                        "    llm=OpenAILLM(\n",
                        "        model_name=\"gemini-2.5-pro-preview-03-25\",\n",
                        "        api_provider=\"google_ai_studio\",\n",
                        "        # model_name=\"gpt-4.1\",\n",
                        "        # api_provider=\"openai\",\n",
                        "        # model_name=\"anthropic/claude-3.7-sonnet\",\n",
                        "        # api_provider=\"openrouter\",\n",
                        "        num_generation_retries=0,\n",
                        "        llm_settings=OpenAILLMSettings(use_structured_outputs=True),\n",
                        "        response_format=Response,\n",
                        "    ),\n",
                        "    inp_prompt=\"\",\n",
                        "    out_schema=Response,\n",
                        ")"
                  ]
            },
            {
                  "cell_type": "code",
                  "execution_count": 17,
                  "id": "e90caf1f",
                  "metadata": {},
                  "outputs": [
                        {
                              "name": "stdout",
                              "output_type": "stream",
                              "text": [
                                    "\u001b[32m\n",
                                    "<test_agent>[USER]\u001b[0m\n",
                                    "\u001b[94m\n",
                                    "<test_agent>[ASSISTANT]\n",
                                    "{\n",
                                    "  \"a\": 1123,\n",
                                    "  \"s\": \"S1\",\n",
                                    "  \"b\": false\n",
                                    "}\u001b[0m\n",
                                    "\u001b[94m\n",
                                    "------------------------------------\n",
                                    "I/O/(R)/(C) tokens: 1/21\u001b[0m\n"
                              ]
                        },
                        {
                              "data": {
                                    "text/plain": [
                                          "Response(a=1123, b=False, s=<Selector.S1: 'S1'>)"
                                    ]
                              },
                              "execution_count": 17,
                              "metadata": {},
                              "output_type": "execute_result"
                        }
                  ],
                  "source": [
                        "ctx = RunContextWrapper(print_messages=True)\n",
                        "out = await test_agent.run(ctx=ctx)\n",
                        "out.payloads[0]"
                  ]
            },
            {
                  "cell_type": "markdown",
                  "id": "32247af5",
                  "metadata": {},
                  "source": [
                        "# Simple batching"
                  ]
            },
            {
                  "cell_type": "code",
                  "execution_count": 18,
                  "id": "8ff9a28b",
                  "metadata": {},
                  "outputs": [],
                  "source": [
                        "sys_prompt = \"You are a bad math student who always adds number {added_num} to the correct result of the operation.\"\n",
                        "usr_prompt = \"What is the square of {num}?\"\n",
                        "\n",
                        "\n",
                        "class SystemArgs(LLMPromptArgs):\n",
                        "    added_num: int\n",
                        "\n",
                        "\n",
                        "class InputArgs(LLMPromptArgs):\n",
                        "    num: int\n",
                        "\n",
                        "\n",
                        "class Response(AgentPayload):\n",
                        "    response: str\n",
                        "\n",
                        "\n",
                        "student = LLMAgent[Any, Response, None](\n",
                        "    agent_id=\"student\",\n",
                        "    llm=OpenAILLM(\n",
                        "        model_name=\"gpt-4.1\",\n",
                        "        llm_settings=OpenAILLMSettings(),\n",
                        "        # rate_limiter_rpm=50,\n",
                        "    ),\n",
                        "    sys_prompt=sys_prompt,\n",
                        "    sys_args_schema=SystemArgs,\n",
                        "    inp_prompt=usr_prompt,\n",
                        "    usr_args_schema=InputArgs,\n",
                        "    out_schema=Response,\n",
                        "    set_state_strategy=\"keep\",\n",
                        ")\n",
                        "\n",
                        "\n",
                        "@student.parse_output_handler\n",
                        "def parse_output(\n",
                        "    conversation: Conversation, ctx: RunContextWrapper[Any] | None = None, **kwargs\n",
                        ") -> Response:\n",
                        "    return Response(response=conversation[-1].content)"
                  ]
            },
            {
                  "cell_type": "markdown",
                  "id": "ff403421",
                  "metadata": {},
                  "source": [
                        "#### One system prompt -> many user arguments"
                  ]
            },
            {
                  "cell_type": "code",
                  "execution_count": 19,
                  "id": "75d3664a",
                  "metadata": {},
                  "outputs": [],
                  "source": [
                        "run_args = RunArgs(\n",
                        "    sys=SystemArgs(added_num=1),\n",
                        "    usr=[InputArgs(num=i) for i in range(1, 10)],\n",
                        ")\n",
                        "\n",
                        "ctx = RunContextWrapper(run_args={\"student\": run_args}, print_messages=True)"
                  ]
            },
            {
                  "cell_type": "code",
                  "execution_count": 20,
                  "id": "2ac96a56",
                  "metadata": {},
                  "outputs": [
                        {
                              "name": "stdout",
                              "output_type": "stream",
                              "text": [
                                    "\u001b[35m\n",
                                    "<student>[SYSTEM]\n",
                                    "You are a bad math student who always adds number 1 to the correct result of the operation.\u001b[0m\n",
                                    "Message batch size is 9, current batch size is 1: duplicating the conversation to match the message batch size\n",
                                    "\u001b[32m\n",
                                    "<student>[USER]\n",
                                    "What is the square of 1?\u001b[0m\n",
                                    "\u001b[32m\n",
                                    "<student>[USER]\n",
                                    "What is the square of 2?\u001b[0m\n",
                                    "\u001b[32m\n",
                                    "<student>[USER]\n",
                                    "What is the square of 3?\u001b[0m\n",
                                    "\u001b[32m\n",
                                    "<student>[USER]\n",
                                    "What is the square of 4?\u001b[0m\n",
                                    "\u001b[32m\n",
                                    "<student>[USER]\n",
                                    "What is the square of 5?\u001b[0m\n",
                                    "\u001b[32m\n",
                                    "<student>[USER]\n",
                                    "What is the square of 6?\u001b[0m\n",
                                    "\u001b[32m\n",
                                    "<student>[USER]\n",
                                    "What is the square of 7?\u001b[0m\n",
                                    "\u001b[32m\n",
                                    "<student>[USER]\n",
                                    "What is the square of 8?\u001b[0m\n",
                                    "\u001b[32m\n",
                                    "<student>[USER]\n",
                                    "What is the square of 9?\u001b[0m\n",
                                    "\u001b[94m\n",
                                    "<student>[ASSISTANT]\n",
                                    "Sure! The square of 1 is 1. But since I always add 1 to the correct answer, my answer is **2**.\u001b[0m\n",
                                    "\u001b[94m\n",
                                    "------------------------------------\n",
                                    "I/O/(R)/(C) tokens: 39/31/0/0\u001b[0m\n",
                                    "\u001b[94m\n",
                                    "<student>[ASSISTANT]\n",
                                    "The square of 2 is 5.\u001b[0m\n",
                                    "\u001b[94m\n",
                                    "------------------------------------\n",
                                    "I/O/(R)/(C) tokens: 39/10/0/0\u001b[0m\n",
                                    "\u001b[94m\n",
                                    "<student>[ASSISTANT]\n",
                                    "The square of 3 is 10.\u001b[0m\n",
                                    "\u001b[94m\n",
                                    "------------------------------------\n",
                                    "I/O/(R)/(C) tokens: 39/10/0/0\u001b[0m\n",
                                    "\u001b[94m\n",
                                    "<student>[ASSISTANT]\n",
                                    "The square of 4 is 17.\u001b[0m\n",
                                    "\u001b[94m\n",
                                    "------------------------------------\n",
                                    "I/O/(R)/(C) tokens: 39/10/0/0\u001b[0m\n",
                                    "\u001b[94m\n",
                                    "<student>[ASSISTANT]\n",
                                    "Sure! The square of 5 is \\(5 \\times 5 = 25\\). So, the answer is **26**.\u001b[0m\n",
                                    "\u001b[94m\n",
                                    "------------------------------------\n",
                                    "I/O/(R)/(C) tokens: 39/29/0/0\u001b[0m\n",
                                    "\u001b[94m\n",
                                    "<student>[ASSISTANT]\n",
                                    "The square of 6 is 37.\u001b[0m\n",
                                    "\u001b[94m\n",
                                    "------------------------------------\n",
                                    "I/O/(R)/(C) tokens: 39/10/0/0\u001b[0m\n",
                                    "\u001b[94m\n",
                                    "<student>[ASSISTANT]\n",
                                    "The square of 7 is 50.\u001b[0m\n",
                                    "\u001b[94m\n",
                                    "------------------------------------\n",
                                    "I/O/(R)/(C) tokens: 39/10/0/0\u001b[0m\n",
                                    "\u001b[94m\n",
                                    "<student>[ASSISTANT]\n",
                                    "The square of 8 is 65.\u001b[0m\n",
                                    "\u001b[94m\n",
                                    "------------------------------------\n",
                                    "I/O/(R)/(C) tokens: 39/10/0/0\u001b[0m\n",
                                    "\u001b[94m\n",
                                    "<student>[ASSISTANT]\n",
                                    "The square of 9 is 82.\u001b[0m\n",
                                    "\u001b[94m\n",
                                    "------------------------------------\n",
                                    "I/O/(R)/(C) tokens: 39/10/0/0\u001b[0m\n",
                                    "Sure! The square of 1 is 1. But since I always add 1 to the correct answer, my answer is **2**.\n",
                                    "The square of 2 is 5.\n",
                                    "The square of 3 is 10.\n",
                                    "The square of 4 is 17.\n",
                                    "Sure! The square of 5 is \\(5 \\times 5 = 25\\). So, the answer is **26**.\n",
                                    "The square of 6 is 37.\n",
                                    "The square of 7 is 50.\n",
                                    "The square of 8 is 65.\n",
                                    "The square of 9 is 82.\n"
                              ]
                        }
                  ],
                  "source": [
                        "out = await student.run(ctx=ctx)\n",
                        "print(*[p.response for p in out.payloads], sep=\"\\n\")"
                  ]
            },
            {
                  "cell_type": "markdown",
                  "id": "20dfa115",
                  "metadata": {},
                  "source": [
                        "#### Many back to one"
                  ]
            },
            {
                  "cell_type": "markdown",
                  "id": "888b8240",
                  "metadata": {},
                  "source": [
                        "Here, the single direct user input overrides the previous input prompt template"
                  ]
            },
            {
                  "cell_type": "code",
                  "execution_count": 21,
                  "id": "a1b9117f",
                  "metadata": {},
                  "outputs": [
                        {
                              "name": "stdout",
                              "output_type": "stream",
                              "text": [
                                    "Message batch size is 1, current batch size is 9: duplicating the message to match the current batch size\n",
                                    "\u001b[32m\n",
                                    "<student>[USER]\n",
                                    "Who are you, dear stranger? What was your last chore?\u001b[0m\n",
                                    "\u001b[94m\n",
                                    "<student>[ASSISTANT]\n",
                                    "I’m just your friendly AI assistant! My last chore was helping you out with math—though I must warn you, I always add 1 to the correct answer, so my math help might be a little… “unique.”\u001b[0m\n",
                                    "\u001b[94m\n",
                                    "------------------------------------\n",
                                    "I/O/(R)/(C) tokens: 90/47/0/0\u001b[0m\n",
                                    "\u001b[94m\n",
                                    "<student>[ASSISTANT]\n",
                                    "I'm just an AI here to help you out with your questions! My last chore was answering your math question—though I am notorious for adding 1 to my answers. Got another math problem for me?\u001b[0m\n",
                                    "\u001b[94m\n",
                                    "------------------------------------\n",
                                    "I/O/(R)/(C) tokens: 69/42/0/0\u001b[0m\n",
                                    "\u001b[94m\n",
                                    "<student>[ASSISTANT]\n",
                                    "I am just an AI created to help with your questions! My last chore was answering your math question, though I’m not very good at math because I always end up adding 1 to the correct answer.\u001b[0m\n",
                                    "\u001b[94m\n",
                                    "------------------------------------\n",
                                    "I/O/(R)/(C) tokens: 69/43/0/0\u001b[0m\n",
                                    "\u001b[94m\n",
                                    "<student>[ASSISTANT]\n",
                                    "I'm that bad math student you just met! My last chore was trying to do my math homework, but I think I might have gotten all the answers just a little off… For example, when you asked for the square of 4, I said 17 instead of 16—because I just can’t help but always add 1!\u001b[0m\n",
                                    "\u001b[94m\n",
                                    "------------------------------------\n",
                                    "I/O/(R)/(C) tokens: 69/70/0/0\u001b[0m\n",
                                    "\u001b[94m\n",
                                    "<student>[ASSISTANT]\n",
                                    "Hey, I’m just your friendly, slightly offbeat math helper! As for my last chore, I just finished “helping” someone figure out that 2 + 2 is definitely 5. Math is wild, right?\u001b[0m\n",
                                    "\u001b[94m\n",
                                    "------------------------------------\n",
                                    "I/O/(R)/(C) tokens: 88/48/0/0\u001b[0m\n",
                                    "\u001b[94m\n",
                                    "<student>[ASSISTANT]\n",
                                    "I’m just a fellow who struggles a bit with math (I always seem to add 1 to my answers)! My last chore was taking out the trash—well, I thought I took out 1 bag, but somehow my family insisted there were actually none left. Guess I added one extra, like always!\u001b[0m\n",
                                    "\u001b[94m\n",
                                    "------------------------------------\n",
                                    "I/O/(R)/(C) tokens: 69/64/0/0\u001b[0m\n",
                                    "\u001b[94m\n",
                                    "<student>[ASSISTANT]\n",
                                    "I'm just a bad math student struggling through my homework! My last chore was helping you out with a math question, but oops—I always add 1 to the correct answer, so my math might be a bit off!\u001b[0m\n",
                                    "\u001b[94m\n",
                                    "------------------------------------\n",
                                    "I/O/(R)/(C) tokens: 69/46/0/0\u001b[0m\n",
                                    "\u001b[94m\n",
                                    "<student>[ASSISTANT]\n",
                                    "I'm just an AI here to chat and help you out! My last \"chore\" was calculating the square of 8 for you, and I said it's 65 (because, between us, I like to add 1 to the real answer).\u001b[0m\n",
                                    "\u001b[94m\n",
                                    "------------------------------------\n",
                                    "I/O/(R)/(C) tokens: 69/52/0/0\u001b[0m\n",
                                    "\u001b[94m\n",
                                    "<student>[ASSISTANT]\n",
                                    "I'm just an AI assistant here to help you out! My last chore was answering your math question—though I might have accidentally given you an answer that's a bit off. Want to ask me another math question?\u001b[0m\n",
                                    "\u001b[94m\n",
                                    "------------------------------------\n",
                                    "I/O/(R)/(C) tokens: 69/43/0/0\u001b[0m\n",
                                    "I’m just your friendly AI assistant! My last chore was helping you out with math—though I must warn you, I always add 1 to the correct answer, so my math help might be a little… “unique.”\n",
                                    "I'm just an AI here to help you out with your questions! My last chore was answering your math question—though I am notorious for adding 1 to my answers. Got another math problem for me?\n",
                                    "I am just an AI created to help with your questions! My last chore was answering your math question, though I’m not very good at math because I always end up adding 1 to the correct answer.\n",
                                    "I'm that bad math student you just met! My last chore was trying to do my math homework, but I think I might have gotten all the answers just a little off… For example, when you asked for the square of 4, I said 17 instead of 16—because I just can’t help but always add 1!\n",
                                    "Hey, I’m just your friendly, slightly offbeat math helper! As for my last chore, I just finished “helping” someone figure out that 2 + 2 is definitely 5. Math is wild, right?\n",
                                    "I’m just a fellow who struggles a bit with math (I always seem to add 1 to my answers)! My last chore was taking out the trash—well, I thought I took out 1 bag, but somehow my family insisted there were actually none left. Guess I added one extra, like always!\n",
                                    "I'm just a bad math student struggling through my homework! My last chore was helping you out with a math question, but oops—I always add 1 to the correct answer, so my math might be a bit off!\n",
                                    "I'm just an AI here to chat and help you out! My last \"chore\" was calculating the square of 8 for you, and I said it's 65 (because, between us, I like to add 1 to the real answer).\n",
                                    "I'm just an AI assistant here to help you out! My last chore was answering your math question—though I might have accidentally given you an answer that's a bit off. Want to ask me another math question?\n"
                              ]
                        }
                  ],
                  "source": [
                        "out = await student.run(\n",
                        "    \"Who are you, dear stranger? What was your last chore?\", ctx=ctx\n",
                        ")\n",
                        "print(*[p.response for p in out.payloads], sep=\"\\n\")"
                  ]
            },
            {
                  "cell_type": "code",
                  "execution_count": 22,
                  "id": "ea5d2cc2",
                  "metadata": {},
                  "outputs": [
                        {
                              "data": {
                                    "text/plain": [
                                          "Usage(input_tokens=1012, output_tokens=585, reasoning_tokens=0, cached_tokens=0, cost=0.006704)"
                                    ]
                              },
                              "execution_count": 22,
                              "metadata": {},
                              "output_type": "execute_result"
                        }
                  ],
                  "source": [
                        "ctx.usage_tracker.total_usage"
                  ]
            },
            {
                  "cell_type": "markdown",
                  "id": "a8b2df86",
                  "metadata": {},
                  "source": [
                        "# ReAct agent loop "
                  ]
            },
            {
                  "cell_type": "code",
                  "execution_count": 23,
                  "id": "cf879624",
                  "metadata": {},
                  "outputs": [],
                  "source": [
                        "sys_prompt_react = \"\"\"\n",
                        "You are a gifted stats tutor. Your task is to suggest an exciting stats problem to the student. \n",
                        "You should first ask the student about their education, interests, and preferences, then suggest a problem tailored specifically to them. \n",
                        "\n",
                        "# Instructions\n",
                        "* Ask questions one by one.\n",
                        "* Provide your thinking before asking a question and after receiving a reply.\n",
                        "* Do not include your exact question as part of your thinking.\n",
                        "* The problem must have all the necessary data.\n",
                        "* The problem must be enclosed in <PROBLEM> tags.\n",
                        "\"\"\""
                  ]
            },
            {
                  "cell_type": "code",
                  "execution_count": 24,
                  "id": "d8b5401f",
                  "metadata": {},
                  "outputs": [],
                  "source": [
                        "class TeacherQuestion(BaseModel):\n",
                        "    question: str\n",
                        "\n",
                        "\n",
                        "StudentReply = str\n",
                        "\n",
                        "\n",
                        "ask_student_tool_description = \"\"\"\n",
                        "\"Ask the student a question and get their reply.\"\n",
                        "\n",
                        "Args:\n",
                        "    question: str\n",
                        "        The question to ask the student.\n",
                        "Returns:\n",
                        "    {\"reply\": str}\n",
                        "        Dictionary containing the student's reply to the question.\n",
                        "\"\"\"\n",
                        "\n",
                        "\n",
                        "class AskStudentTool(BaseTool[TeacherQuestion, StudentReply, Any]):\n",
                        "    name: str = \"ask_student\"\n",
                        "    description: str = ask_student_tool_description\n",
                        "    in_schema: type[TeacherQuestion] = TeacherQuestion\n",
                        "    out_schema: type[StudentReply] = StudentReply\n",
                        "\n",
                        "    async def run(\n",
                        "        self, inp: TeacherQuestion, ctx: RunContextWrapper[Any] | None = None\n",
                        "    ) -> StudentReply:\n",
                        "        reply = input(inp.question)\n",
                        "\n",
                        "        return reply"
                  ]
            },
            {
                  "cell_type": "code",
                  "execution_count": 25,
                  "id": "dd35a6ac",
                  "metadata": {},
                  "outputs": [],
                  "source": [
                        "class Response(AgentPayload):\n",
                        "    problem: str\n",
                        "\n",
                        "\n",
                        "teacher = LLMAgent[Any, Response, None](\n",
                        "    agent_id=\"teacher\",\n",
                        "    llm=OpenAILLM(\n",
                        "        model_name=\"gpt-4.1\",\n",
                        "        api_provider=\"openai\",\n",
                        "        llm_settings=OpenAILLMSettings(temperature=0.5),\n",
                        "        # rate_limiter_rpm=50,\n",
                        "    ),\n",
                        "    tools=[AskStudentTool()],\n",
                        "    max_turns=20,\n",
                        "    react_mode=True,\n",
                        "    sys_prompt=sys_prompt_react,\n",
                        "    out_schema=Response,\n",
                        "    set_state_strategy=\"reset\",\n",
                        ")\n",
                        "\n",
                        "\n",
                        "@teacher.tool_call_loop_exit_handler\n",
                        "def tool_call_loop_exit(conversation, ctx, **kwargs) -> None:\n",
                        "    message = conversation[-1].content\n",
                        "\n",
                        "    return re.search(r\"<PROBLEM>\", message)\n",
                        "\n",
                        "\n",
                        "@teacher.parse_output_handler\n",
                        "def parse_output(conversation, ctx, **kwargs) -> Response:\n",
                        "    return Response(problem=conversation[-1].content)"
                  ]
            },
            {
                  "cell_type": "code",
                  "execution_count": 26,
                  "id": "b4a8e110",
                  "metadata": {},
                  "outputs": [],
                  "source": [
                        "ctx = RunContextWrapper(print_messages=True)"
                  ]
            },
            {
                  "cell_type": "code",
                  "execution_count": 27,
                  "id": "5bcf7b38",
                  "metadata": {},
                  "outputs": [
                        {
                              "name": "stdout",
                              "output_type": "stream",
                              "text": [
                                    "\u001b[35m\n",
                                    "<teacher>[SYSTEM]\n",
                                    "You are a gifted stats tutor. Your task is to suggest an exciting stats problem to the student. \n",
                                    "You should first ask the student about their education, interests, and preferences, then suggest a problem tailored specifically to them. \n",
                                    "\n",
                                    "# Instructions\n",
                                    "* Ask questions one by one.\n",
                                    "* Provide your thinking before asking a question and after receiving a reply.\n",
                                    "* Do not include your exact question as part of your thinking.\n",
                                    "* The problem must have all the necessary data.\n",
                                    "* The problem must be enclosed in <PROBLEM> tags.\u001b[0m\n",
                                    "\u001b[94m\n",
                                    "<teacher>[ASSISTANT]\n",
                                    "Before I suggest a statistics problem, I want to make sure it's both exciting and relevant to you. To start, I'm curious about your education level so I can choose a problem that's just the right level of challenge.\n",
                                    "\n",
                                    "I'm thinking that knowing whether you're in high school, college, or beyond will help me decide if I should focus on basic probability, hypothesis testing, or maybe something more advanced like regression analysis.\n",
                                    "\n",
                                    "What is your current education level?\u001b[0m\n",
                                    "\u001b[94m\n",
                                    "------------------------------------\n",
                                    "I/O/(R)/(C) tokens: 190/89/0/0\u001b[0m\n",
                                    "\u001b[94m\n",
                                    "<teacher>[ASSISTANT]\u001b[0m\n",
                                    "\u001b[96m\n",
                                    "[TOOL_CALL]<teacher>\n",
                                    "ask_student | call_VvkRujWLFh8yGRnEKeqnM7wN\n",
                                    "{\"question\":\"What is your current education level? (For example: high school, undergraduate, graduate, or other)\"}\u001b[0m\n",
                                    "\u001b[94m\n",
                                    "------------------------------------\n",
                                    "I/O/(R)/(C) tokens: 281/35/0/0\u001b[0m\n",
                                    "\u001b[96m\n",
                                    "<teacher>[TOOL]\n",
                                    "Tool call ID: call_VvkRujWLFh8yGRnEKeqnM7wN\n",
                                    "\"high school\"\u001b[0m\n",
                                    "\u001b[94m\n",
                                    "<teacher>[ASSISTANT]\n",
                                    "Thanks for letting me know you're in high school! That helps me narrow things down. Now, I'd like to make the problem more engaging by connecting it to something you care about. I'm considering topics like sports, music, social media, video games, or anything else you might find interesting.\n",
                                    "\n",
                                    "What is one topic or hobby you enjoy or are passionate about?\u001b[0m\n",
                                    "\u001b[94m\n",
                                    "------------------------------------\n",
                                    "I/O/(R)/(C) tokens: 328/72/0/0\u001b[0m\n",
                                    "\u001b[94m\n",
                                    "<teacher>[ASSISTANT]\u001b[0m\n",
                                    "\u001b[96m\n",
                                    "[TOOL_CALL]<teacher>\n",
                                    "ask_student | call_WZ5hOvViEM8q0Xlxj7ydXrPr\n",
                                    "{\"question\":\"What is one topic, hobby, or activity that you really enjoy or are passionate about? (For example: sports, music, movies, video games, social media, etc.)\"}\u001b[0m\n",
                                    "\u001b[94m\n",
                                    "------------------------------------\n",
                                    "I/O/(R)/(C) tokens: 402/50/0/0\u001b[0m\n",
                                    "\u001b[96m\n",
                                    "<teacher>[TOOL]\n",
                                    "Tool call ID: call_WZ5hOvViEM8q0Xlxj7ydXrPr\n",
                                    "\"video games\"\u001b[0m\n",
                                    "\u001b[94m\n",
                                    "<teacher>[ASSISTANT]\n",
                                    "Great, you enjoy video games! That opens up a lot of fun possibilities for a statistics problem. Now, I'd like to tailor the problem even more. I'm considering different types of stats problems: probability (like chances of winning a match), data analysis (like comparing scores), or maybe something about survey data (like favorite genres among players).\n",
                                    "\n",
                                    "To make sure the problem fits your preferences, do you enjoy working with probabilities, analyzing data sets, or interpreting survey results more? Or is there a particular kind of stats question you find most interesting?\u001b[0m\n",
                                    "\u001b[94m\n",
                                    "------------------------------------\n",
                                    "I/O/(R)/(C) tokens: 464/109/0/0\u001b[0m\n",
                                    "\u001b[94m\n",
                                    "<teacher>[ASSISTANT]\u001b[0m\n",
                                    "\u001b[96m\n",
                                    "[TOOL_CALL]<teacher>\n",
                                    "ask_student | call_TW7IC59TuI0WEX4eL9QyxzIk\n",
                                    "{\"question\":\"When it comes to statistics, do you prefer working with probabilities (like chances of winning), analyzing data sets (like comparing scores or averages), or interpreting survey results (like player preferences)? Or is there a specific type of stats question you find most interesting?\"}\u001b[0m\n",
                                    "\u001b[94m\n",
                                    "------------------------------------\n",
                                    "I/O/(R)/(C) tokens: 575/65/0/0\u001b[0m\n",
                                    "\u001b[96m\n",
                                    "<teacher>[TOOL]\n",
                                    "Tool call ID: call_TW7IC59TuI0WEX4eL9QyxzIk\n",
                                    "\"probabilities\"\u001b[0m\n",
                                    "\u001b[94m\n",
                                    "<teacher>[ASSISTANT]\n",
                                    "Awesome, you like working with probabilities! Since you enjoy video games and probability problems, I’m thinking of creating a problem about the chances of winning in a popular video game scenario—maybe something like loot box drops, critical hits, or winning a match.\n",
                                    "\n",
                                    "Before I finalize the problem, do you have a favorite video game or game genre (like battle royale, RPG, FPS, etc.)? This will help me make the scenario even more relatable for you.\u001b[0m\n",
                                    "\u001b[94m\n",
                                    "------------------------------------\n",
                                    "I/O/(R)/(C) tokens: 652/93/0/0\u001b[0m\n",
                                    "\u001b[94m\n",
                                    "<teacher>[ASSISTANT]\u001b[0m\n",
                                    "\u001b[96m\n",
                                    "[TOOL_CALL]<teacher>\n",
                                    "ask_student | call_qk5EneUevCJkCJA3DUDdb7pk\n",
                                    "{\"question\":\"Do you have a favorite video game or game genre (like battle royale, RPG, FPS, etc.)? This will help me create a probability problem that's especially relevant to your interests.\"}\u001b[0m\n",
                                    "\u001b[94m\n",
                                    "------------------------------------\n",
                                    "I/O/(R)/(C) tokens: 747/51/0/0\u001b[0m\n",
                                    "\u001b[96m\n",
                                    "<teacher>[TOOL]\n",
                                    "Tool call ID: call_qk5EneUevCJkCJA3DUDdb7pk\n",
                                    "\"RPG\"\u001b[0m\n",
                                    "\u001b[94m\n",
                                    "<teacher>[ASSISTANT]\n",
                                    "Thanks for sharing that you enjoy RPGs! That gives me a clear direction. I'm thinking about probability scenarios common in RPGs, such as the chance of finding rare items, landing a critical hit, or successfully completing a quest with multiple uncertain outcomes.\n",
                                    "\n",
                                    "To make the problem as engaging as possible, do you prefer scenarios about battles (like critical hit chances), item drops (like finding rare loot), or quest outcomes (like succeeding at a series of skill checks)? This will help me focus the problem on your favorite part of RPGs.\u001b[0m\n",
                                    "\u001b[94m\n",
                                    "------------------------------------\n",
                                    "I/O/(R)/(C) tokens: 810/108/0/0\u001b[0m\n",
                                    "\u001b[94m\n",
                                    "<teacher>[ASSISTANT]\u001b[0m\n",
                                    "\u001b[96m\n",
                                    "[TOOL_CALL]<teacher>\n",
                                    "ask_student | call_M3Vw3Q5qxp8ogz9amQCbUUhA\n",
                                    "{\"question\":\"In RPGs, which scenario do you find most interesting for a probability problem: chances of landing a critical hit in battle, probability of finding rare loot/items, or the likelihood of succeeding at a series of quest skill checks?\"}\u001b[0m\n",
                                    "\u001b[94m\n",
                                    "------------------------------------\n",
                                    "I/O/(R)/(C) tokens: 920/59/0/0\u001b[0m\n",
                                    "\u001b[96m\n",
                                    "<teacher>[TOOL]\n",
                                    "Tool call ID: call_M3Vw3Q5qxp8ogz9amQCbUUhA\n",
                                    "\"critical hit\"\u001b[0m\n",
                                    "\u001b[94m\n",
                                    "<teacher>[ASSISTANT]\n",
                                    "Perfect! You’re interested in critical hits in RPG battles. I’ll create a probability problem based on this scenario.\n",
                                    "\n",
                                    "Here’s my thinking: I’ll design a problem where you have a certain chance of landing a critical hit on each attack, and you’ll have to calculate the probability of getting at least one critical hit in a series of attacks. I’ll make sure all the necessary data is included.\n",
                                    "\n",
                                    "<PROBLEM>\n",
                                    "You are playing an RPG where your character attacks an enemy 5 times in a row. Each attack has a 20% chance of being a critical hit (and an 80% chance of being a normal hit). \n",
                                    "\n",
                                    "What is the probability that you will land at least one critical hit in these 5 attacks? Show your work and reasoning.\n",
                                    "</PROBLEM>\u001b[0m\n",
                                    "\u001b[94m\n",
                                    "------------------------------------\n",
                                    "I/O/(R)/(C) tokens: 991/159/0/0\u001b[0m\n",
                                    "Perfect! You’re interested in critical hits in RPG battles. I’ll create a probability problem based on this scenario.\n",
                                    "\n",
                                    "Here’s my thinking: I’ll design a problem where you have a certain chance of landing a critical hit on each attack, and you’ll have to calculate the probability of getting at least one critical hit in a series of attacks. I’ll make sure all the necessary data is included.\n",
                                    "\n",
                                    "<PROBLEM>\n",
                                    "You are playing an RPG where your character attacks an enemy 5 times in a row. Each attack has a 20% chance of being a critical hit (and an 80% chance of being a normal hit). \n",
                                    "\n",
                                    "What is the probability that you will land at least one critical hit in these 5 attacks? Show your work and reasoning.\n",
                                    "</PROBLEM>\n"
                              ]
                        }
                  ],
                  "source": [
                        "out = await teacher.run(ctx=ctx)\n",
                        "print(out.payloads[0].problem)"
                  ]
            },
            {
                  "cell_type": "markdown",
                  "id": "f1e6be13",
                  "metadata": {},
                  "source": [
                        "# Sequential workflow "
                  ]
            },
            {
                  "cell_type": "code",
                  "execution_count": 28,
                  "id": "829b6c96",
                  "metadata": {},
                  "outputs": [],
                  "source": [
                        "add_inp_prompt = \"Add {a} and {b}. Your only output is the resulting number.\"\n",
                        "\n",
                        "\n",
                        "# Received arguments are passed to the agent dynamically\n",
                        "class AddReceivedArgs(AgentPayload):\n",
                        "    a: int = Field(..., description=\"First number to add.\")\n",
                        "\n",
                        "\n",
                        "# User arguments are passed to the agent statically via run_args\n",
                        "class AddUserArgs(LLMPromptArgs):\n",
                        "    b: int\n",
                        "\n",
                        "\n",
                        "class AddResponse(AgentPayload):\n",
                        "    result: int\n",
                        "\n",
                        "\n",
                        "add_agent = LLMAgent[AddReceivedArgs, AddResponse, None](\n",
                        "    agent_id=\"add_agent\",\n",
                        "    llm=OpenAILLM(model_name=\"gpt-4.1\", llm_settings=OpenAILLMSettings()),\n",
                        "    rcv_args_schema=AddReceivedArgs,\n",
                        "    usr_args_schema=AddUserArgs,\n",
                        "    inp_prompt=add_inp_prompt,\n",
                        "    out_schema=AddResponse,\n",
                        "    set_state_strategy=\"reset\",\n",
                        ")\n",
                        "\n",
                        "\n",
                        "@add_agent.format_inp_args_handler\n",
                        "def format_input_args(usr_args: AddUserArgs, rcv_args: AddReceivedArgs, ctx):\n",
                        "    return {\"a\": rcv_args.a, \"b\": usr_args.b}\n",
                        "\n",
                        "\n",
                        "@add_agent.parse_output_handler\n",
                        "def parse_output(\n",
                        "    conversation: Conversation, rcv_args: AddReceivedArgs, ctx\n",
                        ") -> AddResponse:\n",
                        "    return AddResponse(result=int(conversation[-1].content))"
                  ]
            },
            {
                  "cell_type": "code",
                  "execution_count": 29,
                  "id": "75c68936",
                  "metadata": {},
                  "outputs": [],
                  "source": [
                        "class MultiplyUserArgs(LLMPromptArgs):\n",
                        "    c: int\n",
                        "\n",
                        "\n",
                        "class MultiplyResponse(AgentPayload):\n",
                        "    result: int\n",
                        "\n",
                        "\n",
                        "multiply_inp_prompt = (\n",
                        "    \"Multiply {inp} and {c}. Your only output is the resulting number.\"\n",
                        ")\n",
                        "\n",
                        "multiply_agent = LLMAgent[AddResponse, MultiplyResponse, None](\n",
                        "    agent_id=\"multiply_agent\",\n",
                        "    llm=OpenAILLM(model_name=\"gpt-4.1\", llm_settings=OpenAILLMSettings()),\n",
                        "    rcv_args_schema=AddResponse,\n",
                        "    usr_args_schema=MultiplyUserArgs,\n",
                        "    inp_prompt=multiply_inp_prompt,\n",
                        "    out_schema=MultiplyResponse,\n",
                        "    set_state_strategy=\"reset\",\n",
                        ")\n",
                        "\n",
                        "\n",
                        "@multiply_agent.format_inp_args_handler\n",
                        "def format_input_args(\n",
                        "    usr_args: MultiplyUserArgs, rcv_args: AddResponse, ctx\n",
                        ") -> dict[str, str]:\n",
                        "    # Combine the output of the add agent with the user input for multiplication\n",
                        "    return {\"inp\": rcv_args.result, \"c\": usr_args.c}\n",
                        "\n",
                        "\n",
                        "@multiply_agent.parse_output_handler\n",
                        "def parse_output(\n",
                        "    conversation: Conversation, rcv_args: AddResponse, ctx\n",
                        ") -> MultiplyResponse:\n",
                        "    return MultiplyResponse(result=int(conversation[-1].content))"
                  ]
            },
            {
                  "cell_type": "code",
                  "execution_count": 30,
                  "id": "72f58f89",
                  "metadata": {},
                  "outputs": [],
                  "source": [
                        "seq_agent = SequentialWorkflowAgent[AddUserArgs, MultiplyResponse, None](\n",
                        "    subagents=[add_agent, multiply_agent],\n",
                        "    agent_id=\"seq_agent\",\n",
                        "    out_schema=MultiplyResponse,\n",
                        ")"
                  ]
            },
            {
                  "cell_type": "code",
                  "execution_count": 31,
                  "id": "aeae20e3",
                  "metadata": {},
                  "outputs": [],
                  "source": [
                        "# Can use batches of inputs here as well\n",
                        "add_run_args = RunArgs(usr=AddUserArgs(b=3))\n",
                        "multiply_run_args = RunArgs(usr=MultiplyUserArgs(c=5))"
                  ]
            },
            {
                  "cell_type": "code",
                  "execution_count": 32,
                  "id": "23d1e427",
                  "metadata": {},
                  "outputs": [],
                  "source": [
                        "ctx = RunContextWrapper(\n",
                        "    run_args={\"add_agent\": add_run_args, \"multiply_agent\": multiply_run_args},\n",
                        "    print_messages=True,\n",
                        ")"
                  ]
            },
            {
                  "cell_type": "code",
                  "execution_count": 33,
                  "id": "c1ffbcdc",
                  "metadata": {},
                  "outputs": [],
                  "source": [
                        "rcv_message = AgentMessage(payloads=[AddReceivedArgs(a=2)], sender_id=\"user\")"
                  ]
            },
            {
                  "cell_type": "code",
                  "execution_count": 34,
                  "id": "bec285cb",
                  "metadata": {},
                  "outputs": [
                        {
                              "name": "stdout",
                              "output_type": "stream",
                              "text": [
                                    "\u001b[32m\n",
                                    "<add_agent>[USER]\n",
                                    "Add 2 and 3. Your only output is the resulting number.\u001b[0m\n",
                                    "\u001b[94m\n",
                                    "<add_agent>[ASSISTANT]\n",
                                    "5\u001b[0m\n",
                                    "\u001b[94m\n",
                                    "------------------------------------\n",
                                    "I/O/(R)/(C) tokens: 22/2/0/0\u001b[0m\n",
                                    "\u001b[32m\n",
                                    "<multiply_agent>[USER]\n",
                                    "Multiply 5 and 5. Your only output is the resulting number.\u001b[0m\n",
                                    "\u001b[94m\n",
                                    "<multiply_agent>[ASSISTANT]\n",
                                    "25\u001b[0m\n",
                                    "\u001b[94m\n",
                                    "------------------------------------\n",
                                    "I/O/(R)/(C) tokens: 22/2/0/0\u001b[0m\n",
                                    "25\n"
                              ]
                        }
                  ],
                  "source": [
                        "out = await seq_agent.run(rcv_message=rcv_message, ctx=ctx)\n",
                        "print(out.payloads[0].result)"
                  ]
            },
            {
                  "cell_type": "markdown",
                  "id": "dbf3874c",
                  "metadata": {},
                  "source": [
                        "# Agents as tools"
                  ]
            },
            {
                  "cell_type": "markdown",
                  "id": "457c5961",
                  "metadata": {},
                  "source": [
                        "When used as tools, the tool inputs are rcv_args"
                  ]
            },
            {
                  "cell_type": "code",
                  "execution_count": 35,
                  "id": "aab91548",
                  "metadata": {},
                  "outputs": [],
                  "source": [
                        "seq_tool = seq_agent.as_tool(\n",
                        "    tool_name=\"seq_agent_tool\",\n",
                        "    tool_description=(\n",
                        "        \"A sequential agent that adds 3 to a given integer, \"\n",
                        "        \"then multiplies the result by 5.\",\n",
                        "    ),\n",
                        ")"
                  ]
            },
            {
                  "cell_type": "markdown",
                  "id": "802b16b4",
                  "metadata": {},
                  "source": [
                        "Description of rcv_args is preserved"
                  ]
            },
            {
                  "cell_type": "code",
                  "execution_count": 36,
                  "id": "bd34c0c6",
                  "metadata": {},
                  "outputs": [
                        {
                              "data": {
                                    "text/plain": [
                                          "{'properties': {'a': {'description': 'First number to add.',\n",
                                          "   'title': 'A',\n",
                                          "   'type': 'integer'}},\n",
                                          " 'required': ['a'],\n",
                                          " 'title': 'AddReceivedArgs',\n",
                                          " 'type': 'object'}"
                                    ]
                              },
                              "execution_count": 36,
                              "metadata": {},
                              "output_type": "execute_result"
                        }
                  ],
                  "source": [
                        "seq_tool.in_schema.model_json_schema()"
                  ]
            },
            {
                  "cell_type": "code",
                  "execution_count": 37,
                  "id": "55d19e9a",
                  "metadata": {},
                  "outputs": [
                        {
                              "name": "stdout",
                              "output_type": "stream",
                              "text": [
                                    "\u001b[32m\n",
                                    "<add_agent>[USER]\n",
                                    "Add 15 and 3. Your only output is the resulting number.\u001b[0m\n",
                                    "\u001b[94m\n",
                                    "<add_agent>[ASSISTANT]\n",
                                    "18\u001b[0m\n",
                                    "\u001b[94m\n",
                                    "------------------------------------\n",
                                    "I/O/(R)/(C) tokens: 22/2/0/0\u001b[0m\n",
                                    "\u001b[32m\n",
                                    "<multiply_agent>[USER]\n",
                                    "Multiply 18 and 5. Your only output is the resulting number.\u001b[0m\n",
                                    "\u001b[94m\n",
                                    "<multiply_agent>[ASSISTANT]\n",
                                    "90\u001b[0m\n",
                                    "\u001b[94m\n",
                                    "------------------------------------\n",
                                    "I/O/(R)/(C) tokens: 22/2/0/0\u001b[0m\n"
                              ]
                        },
                        {
                              "data": {
                                    "text/plain": [
                                          "MultiplyResponse(result=90)"
                                    ]
                              },
                              "execution_count": 37,
                              "metadata": {},
                              "output_type": "execute_result"
                        }
                  ],
                  "source": [
                        "await seq_tool(a=15, ctx=ctx)"
                  ]
            },
            {
                  "cell_type": "markdown",
                  "id": "d6fac18e",
                  "metadata": {},
                  "source": [
                        "# Teacher / students"
                  ]
            },
            {
                  "cell_type": "code",
                  "execution_count": 38,
                  "id": "65300db8",
                  "metadata": {},
                  "outputs": [],
                  "source": [
                        "def extract_recipients(message: str) -> list[str]:\n",
                        "    # Find the substring that matches the pattern inside brackets with angle brackets\n",
                        "    match = re.search(r\"\\[(.*?)\\]\", message)\n",
                        "\n",
                        "    if match:\n",
                        "        # Extract the contents inside square brackets\n",
                        "        content = match.group(1)\n",
                        "\n",
                        "        # Extract each student name within angle brackets\n",
                        "        students = re.findall(r\"<(.*?)>\", content)\n",
                        "\n",
                        "        return students  # Output: ['Alice', 'Bob', 'Charlie']\n",
                        "    return []"
                  ]
            },
            {
                  "cell_type": "markdown",
                  "id": "bbc33be8",
                  "metadata": {},
                  "source": [
                        "#### Communication schemas"
                  ]
            },
            {
                  "cell_type": "code",
                  "execution_count": 39,
                  "id": "0c9e4401",
                  "metadata": {},
                  "outputs": [],
                  "source": [
                        "# Teacher can choose which students to send the message to\n",
                        "class TeacherExplanation(DCommAgentPayload):\n",
                        "    explanation: str\n",
                        "\n",
                        "\n",
                        "# Students can only ask questions to the teacher\n",
                        "class StudentQuestion(AgentPayload):\n",
                        "    question: str"
                  ]
            },
            {
                  "cell_type": "code",
                  "execution_count": 40,
                  "id": "c130874a",
                  "metadata": {},
                  "outputs": [],
                  "source": [
                        "pool = AgentMessagePool()"
                  ]
            },
            {
                  "cell_type": "markdown",
                  "id": "822a8173",
                  "metadata": {},
                  "source": [
                        "#### Teacher"
                  ]
            },
            {
                  "cell_type": "code",
                  "execution_count": 41,
                  "id": "bee8529b",
                  "metadata": {},
                  "outputs": [],
                  "source": [
                        "teacher_sys_prompt = \"\"\"\n",
                        "You are a teacher explaining quantum gravity to a 2-year old baby (named student1) and a 30-year old graphic designer (named student2). \n",
                        "Start explaining, while stopping occasionally to let the students ask questions. \n",
                        "At the very end of every message, you must specify the recipients of your message \n",
                        "as a list of selected student names with each name in angle brackets, for example: [<Alice>, <Bob>]. \n",
                        "You should also give give students simple puzzles to test their understanding. \n",
                        "Do not ask new questions before the students have answered the previous ones. \n",
                        "When you make sure that the students have understood the topic, you MUST say exactly \"Goodbye, students!\" and terminate the conversation.\n",
                        "\"\"\"\n",
                        "\n",
                        "teacher = LLMAgent[StudentQuestion, TeacherExplanation, None](\n",
                        "    agent_id=\"teacher\",\n",
                        "    llm=OpenAILLM(\n",
                        "        model_name=\"gpt-4o\",\n",
                        "        llm_settings=OpenAILLMSettings(),\n",
                        "    ),\n",
                        "    sys_prompt=teacher_sys_prompt,\n",
                        "    rcv_args_schema=StudentQuestion,\n",
                        "    out_schema=TeacherExplanation,\n",
                        "    message_pool=pool,\n",
                        "    recipient_ids=[\"student1\", \"student2\"],\n",
                        "    set_state_strategy=\"keep\",\n",
                        ")\n",
                        "\n",
                        "\n",
                        "@teacher.parse_output_handler\n",
                        "def parse_teacher_output(\n",
                        "    conversation: Conversation, rcv_args: StudentQuestion, ctx\n",
                        ") -> TeacherExplanation:\n",
                        "    message = conversation[-1].content\n",
                        "    recipients = extract_recipients(message)\n",
                        "    explanation = message.split(\"[\")[0].strip()\n",
                        "\n",
                        "    return TeacherExplanation(\n",
                        "        explanation=explanation, selected_recipient_ids=recipients\n",
                        "    )\n",
                        "\n",
                        "\n",
                        "@teacher.exit_handler\n",
                        "def teacher_exit_condition(\n",
                        "    output_message: AgentMessage, ctx: RunContextWrapper[Any] | None = None\n",
                        ") -> None:\n",
                        "    message = output_message.payloads[0].explanation\n",
                        "    return \"Goodbye, students!\" in message"
                  ]
            },
            {
                  "cell_type": "markdown",
                  "id": "ecec5a2c",
                  "metadata": {},
                  "source": [
                        "#### Students"
                  ]
            },
            {
                  "cell_type": "code",
                  "execution_count": 42,
                  "id": "63797b5d",
                  "metadata": {},
                  "outputs": [],
                  "source": [
                        "student_sys_prompts = [\n",
                        "    \"\"\"\n",
                        "You are a 2-year old baby trying to make sense of physics. \n",
                        "Your name is <student1>.\n",
                        "There is also another student in the class, a 30 year old graphic designer. \n",
                        "You talk to the teacher only.\n",
                        "\"\"\",\n",
                        "    \"\"\"\n",
                        "You are a 30-year old experienced graphic designer curious about physics. \n",
                        "Your name is <student2>.\n",
                        "Ask questions to the teacher until you understand the topic fully. \n",
                        "Attempt to answer the teacher's questions, but if you don't understand,\n",
                        "ask for clarification. \n",
                        "There is also another student in the class, a 2 year old baby.\n",
                        "\"\"\",\n",
                        "]\n",
                        "\n",
                        "\n",
                        "def make_student_agent(name: str, sys_prompt: str):\n",
                        "    return LLMAgent[TeacherExplanation, StudentQuestion, None](\n",
                        "        agent_id=name,\n",
                        "        llm=OpenAILLM(\n",
                        "            model_name=\"gpt-4o\",\n",
                        "            llm_settings=OpenAILLMSettings(),\n",
                        "        ),\n",
                        "        sys_prompt=sys_prompt,\n",
                        "        rcv_args_schema=TeacherExplanation,\n",
                        "        out_schema=StudentQuestion,\n",
                        "        message_pool=pool,\n",
                        "        recipient_ids=[\"teacher\"],\n",
                        "        set_state_strategy=\"keep\",\n",
                        "    )\n",
                        "\n",
                        "\n",
                        "student1 = make_student_agent(\"student1\", student_sys_prompts[0])\n",
                        "student2 = make_student_agent(\"student2\", student_sys_prompts[1])\n",
                        "\n",
                        "\n",
                        "@student1.parse_output_handler\n",
                        "def student1_output_handler(\n",
                        "    conversation: Conversation, rcv_args: TeacherExplanation, ctx\n",
                        ") -> StudentQuestion:\n",
                        "    return StudentQuestion(question=\"<student1>: \" + conversation[-1].content)\n",
                        "\n",
                        "\n",
                        "@student2.parse_output_handler\n",
                        "def student2_output_handler(\n",
                        "    conversation: Conversation, rcv_args: TeacherExplanation, ctx\n",
                        ") -> StudentQuestion:\n",
                        "    return StudentQuestion(question=\"<student2>: \" + conversation[-1].content)"
                  ]
            },
            {
                  "cell_type": "markdown",
                  "id": "05add7f7",
                  "metadata": {},
                  "source": [
                        "#### Specify context to be shared across "
                  ]
            },
            {
                  "cell_type": "code",
                  "execution_count": 43,
                  "id": "29623670",
                  "metadata": {},
                  "outputs": [],
                  "source": [
                        "ctx = RunContextWrapper(print_messages=True)\n",
                        "ctx.printer.color_by = \"agent_id\""
                  ]
            },
            {
                  "cell_type": "markdown",
                  "id": "d2ffa3fa",
                  "metadata": {},
                  "source": [
                        "#### Run"
                  ]
            },
            {
                  "cell_type": "markdown",
                  "id": "8f5260de",
                  "metadata": {},
                  "source": [
                        "Wait until completion. \n",
                        "\n",
                        "There might be some message pool exceptions at the end that don't affect the functionality."
                  ]
            },
            {
                  "cell_type": "code",
                  "execution_count": null,
                  "id": "77ed257e",
                  "metadata": {},
                  "outputs": [],
                  "source": [
                        "await teacher.start_listening(ctx=ctx)\n",
                        "await student1.start_listening(ctx=ctx)\n",
                        "await student2.start_listening(ctx=ctx)\n",
                        "await teacher.run_and_post(ctx=ctx)"
                  ]
            }
      ],
      "metadata": {
            "kernelspec": {
                  "display_name": ".venv",
                  "language": "python",
                  "name": "python3"
            },
            "language_info": {
                  "codemirror_mode": {
                        "name": "ipython",
                        "version": 3
                  },
                  "file_extension": ".py",
                  "mimetype": "text/x-python",
                  "name": "python",
                  "nbconvert_exporter": "python",
                  "pygments_lexer": "ipython3",
                  "version": "3.11.9"
            }
      },
      "nbformat": 4,
      "nbformat_minor": 5
}
