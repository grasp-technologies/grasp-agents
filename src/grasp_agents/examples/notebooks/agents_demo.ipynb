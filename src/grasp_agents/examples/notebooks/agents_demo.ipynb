{
      "cells": [
            {
                  "cell_type": "code",
                  "execution_count": 1,
                  "id": "b4798f40",
                  "metadata": {},
                  "outputs": [],
                  "source": [
                        "%load_ext autoreload\n",
                        "%autoreload 2\n"
                  ]
            },
            {
                  "cell_type": "code",
                  "execution_count": 2,
                  "id": "e7bab540",
                  "metadata": {},
                  "outputs": [
                        {
                              "name": "stderr",
                              "output_type": "stream",
                              "text": [
                                    "/Users/xf/Work/grasp/grasp-agents/src/grasp_agents/utils.py:14: TqdmExperimentalWarning: Using `tqdm.autonotebook.tqdm` in notebook mode. Use `tqdm.tqdm` instead to force console mode (e.g. in jupyter console)\n",
                                    "  from tqdm.autonotebook import tqdm\n"
                              ]
                        }
                  ],
                  "source": [
                        "from pathlib import Path\n",
                        "import re\n",
                        "from typing import Any\n",
                        "from pydantic import Field\n",
                        "\n",
                        "from grasp_agents.grasp_logging import setup_logging\n",
                        "from grasp_agents.agent_message_pool import (\n",
                        "    AgentMessagePool,\n",
                        ")\n",
                        "from grasp_agents.llm_agent import LLMAgent\n",
                        "from grasp_agents.openai.openai_llm import (\n",
                        "    OpenAILLM,\n",
                        "    OpenAILLMSettings,\n",
                        ")\n",
                        "from grasp_agents.typing.io import (\n",
                        "    AgentPayload,\n",
                        "    LLMPromptArgs,\n",
                        ")\n",
                        "from pydantic import BaseModel\n",
                        "from grasp_agents.typing.tool import BaseTool\n",
                        "from grasp_agents.run_context import RunContextWrapper, RunArgs\n",
                        "from grasp_agents.agent_message import AgentMessage\n",
                        "from grasp_agents.typing.content import ImageData\n",
                        "from grasp_agents.utils import get_timestamp\n",
                        "from grasp_agents.workflow.sequential_agent import SequentialWorkflowAgent\n",
                        "from grasp_agents.llm_agent_state import LLMAgentState"
                  ]
            },
            {
                  "cell_type": "code",
                  "execution_count": 3,
                  "id": "365844a1",
                  "metadata": {},
                  "outputs": [],
                  "source": [
                        "PACKAGE_DIR = Path.cwd()\n",
                        "DATA_DIR = Path.cwd() / \"data/multiagent\""
                  ]
            },
            {
                  "cell_type": "code",
                  "execution_count": 4,
                  "id": "a25cd25a",
                  "metadata": {},
                  "outputs": [],
                  "source": [
                        "LOGGING_DIR = DATA_DIR / \"logs\"\n",
                        "LOGGING_CFG_PATH = PACKAGE_DIR / \"configs/logging/default.yaml\"\n",
                        "setup_logging(\n",
                        "    LOGGING_DIR / f\"agents_demo_{get_timestamp()}.log\",\n",
                        "    LOGGING_CFG_PATH,\n",
                        ")"
                  ]
            },
            {
                  "cell_type": "markdown",
                  "id": "d0a377d1",
                  "metadata": {},
                  "source": [
                        "# Chat"
                  ]
            },
            {
                  "cell_type": "code",
                  "execution_count": 5,
                  "id": "c7ee012b",
                  "metadata": {},
                  "outputs": [],
                  "source": [
                        "IMG_1_URL = \"https://www.simplilearn.com/ice9/free_resources_article_thumb/Expressions_In_C_2.PNG\"\n",
                        "IMG_2_PATH = Path.cwd() / \"src/grasp_agents/examples/data/expr.jpeg\""
                  ]
            },
            {
                  "cell_type": "code",
                  "execution_count": 6,
                  "id": "2647787f",
                  "metadata": {},
                  "outputs": [],
                  "source": [
                        "class Response(AgentPayload):\n",
                        "    response: str\n",
                        "\n",
                        "\n",
                        "chatbot = LLMAgent[Any, Response, None](\n",
                        "    agent_id=\"chatbot\",\n",
                        "    llm=OpenAILLM(\n",
                        "        model_name=\"gpt-4.1\",\n",
                        "        llm_settings=OpenAILLMSettings(),\n",
                        "    ),\n",
                        "    sys_prompt=None,\n",
                        "    out_schema=Response,\n",
                        ")\n",
                        "\n",
                        "\n",
                        "@chatbot.parse_output_handler\n",
                        "def output_handler(conversation, ctx, **kwargs) -> Response:\n",
                        "    return Response(response=conversation[-1].content)\n",
                        "\n",
                        "\n",
                        "# This initialises printer and usege tracker\n",
                        "ctx = RunContextWrapper(print_messages=True)"
                  ]
            },
            {
                  "cell_type": "code",
                  "execution_count": 7,
                  "id": "d204005b",
                  "metadata": {},
                  "outputs": [
                        {
                              "name": "stdout",
                              "output_type": "stream",
                              "text": [
                                    "\u001b[32m\n",
                                    "<chatbot>[USER]\n",
                                    "Where are you headed, stranger?\u001b[0m\n",
                                    "\u001b[94m\n",
                                    "<chatbot>[ASSISTANT]\n",
                                    "Nowhere in particular—just wherever the next question takes me! Where do you want to go?\u001b[0m\n",
                                    "\u001b[94m\n",
                                    "------------------------------------\n",
                                    "I/O/(R)/(C) tokens: 14/21/0/0\u001b[0m\n",
                                    "Nowhere in particular—just wherever the next question takes me! Where do you want to go?\n"
                              ]
                        }
                  ],
                  "source": [
                        "out = await chatbot.run(\"Where are you headed, stranger?\", ctx=ctx)\n",
                        "print(out.payloads[0].response)"
                  ]
            },
            {
                  "cell_type": "code",
                  "execution_count": 8,
                  "id": "75a659b9",
                  "metadata": {},
                  "outputs": [
                        {
                              "name": "stdout",
                              "output_type": "stream",
                              "text": [
                                    "\u001b[32m\n",
                                    "<chatbot>[USER]\n",
                                    "What did you just say, exactly?\u001b[0m\n",
                                    "\u001b[94m\n",
                                    "<chatbot>[ASSISTANT]\n",
                                    "I said: “Nowhere in particular—just wherever the next question takes me! Where do you want to go?”\n",
                                    "\n",
                                    "In other words, I’m ready to answer whatever you ask next!\u001b[0m\n",
                                    "\u001b[94m\n",
                                    "------------------------------------\n",
                                    "I/O/(R)/(C) tokens: 50/39/0/0\u001b[0m\n",
                                    "I said: “Nowhere in particular—just wherever the next question takes me! Where do you want to go?”\n",
                                    "\n",
                                    "In other words, I’m ready to answer whatever you ask next!\n"
                              ]
                        }
                  ],
                  "source": [
                        "out = await chatbot.run(\"What did you just say, exactly?\", ctx=ctx)\n",
                        "print(out.payloads[0].response)"
                  ]
            },
            {
                  "cell_type": "code",
                  "execution_count": 9,
                  "id": "52b2da45",
                  "metadata": {},
                  "outputs": [
                        {
                              "name": "stdout",
                              "output_type": "stream",
                              "text": [
                                    "\u001b[32m\n",
                                    "<chatbot>[USER]\n",
                                    "What's in this image?\n",
                                    "<ENCODED_IMAGE>\u001b[0m\n",
                                    "\u001b[94m\n",
                                    "<chatbot>[ASSISTANT]\n",
                                    "The image contains a mathematical expression:\n",
                                    "\n",
                                    "```\n",
                                    "7 * (5 + 15) / (2 * 5) - 3\n",
                                    "```\n",
                                    "\n",
                                    "Would you like me to solve it?\u001b[0m\n",
                                    "\u001b[94m\n",
                                    "------------------------------------\n",
                                    "I/O/(R)/(C) tokens: 356/39/0/0\u001b[0m\n",
                                    "The image contains a mathematical expression:\n",
                                    "\n",
                                    "```\n",
                                    "7 * (5 + 15) / (2 * 5) - 3\n",
                                    "```\n",
                                    "\n",
                                    "Would you like me to solve it?\n"
                              ]
                        }
                  ],
                  "source": [
                        "out = await chatbot.run(\n",
                        "    [\"What's in this image?\", ImageData.from_path(IMG_2_PATH)], ctx=ctx\n",
                        ")\n",
                        "print(out.payloads[0].response)"
                  ]
            },
            {
                  "cell_type": "code",
                  "execution_count": 10,
                  "id": "e441ca1e",
                  "metadata": {},
                  "outputs": [
                        {
                              "name": "stdout",
                              "output_type": "stream",
                              "text": [
                                    "\u001b[32m\n",
                                    "<chatbot>[USER]\n",
                                    "Go on\u001b[0m\n",
                                    "\u001b[94m\n",
                                    "<chatbot>[ASSISTANT]\n",
                                    "Let's solve the expression step by step:\n",
                                    "\n",
                                    "**Given expression:**\n",
                                    "\\[ 7 \\times (5 + 15) \\div (2 \\times 5) - 3 \\]\n",
                                    "\n",
                                    "**Step 1: Evaluate inside the parentheses**\n",
                                    "- \\(5 + 15 = 20\\)\n",
                                    "- \\(2 \\times 5 = 10\\)\n",
                                    "\n",
                                    "So it becomes:\n",
                                    "\\[ 7 \\times 20 \\div 10 - 3 \\]\n",
                                    "\n",
                                    "**Step 2: Multiplication and division from left to right**\n",
                                    "- \\(7 \\times 20 = 140\\)\n",
                                    "- \\(140 \\div 10 = 14\\)\n",
                                    "\n",
                                    "So we have:\n",
                                    "\\[ 14 - 3 \\]\n",
                                    "\n",
                                    "**Step 3: Subtraction**\n",
                                    "- \\(14 - 3 = 11\\)\n",
                                    "\n",
                                    "**Final answer:**\n",
                                    "\\[\n",
                                    "\\boxed{11}\n",
                                    "\\]\u001b[0m\n",
                                    "\u001b[94m\n",
                                    "------------------------------------\n",
                                    "I/O/(R)/(C) tokens: 404/175/0/0\u001b[0m\n",
                                    "Let's solve the expression step by step:\n",
                                    "\n",
                                    "**Given expression:**\n",
                                    "\\[ 7 \\times (5 + 15) \\div (2 \\times 5) - 3 \\]\n",
                                    "\n",
                                    "**Step 1: Evaluate inside the parentheses**\n",
                                    "- \\(5 + 15 = 20\\)\n",
                                    "- \\(2 \\times 5 = 10\\)\n",
                                    "\n",
                                    "So it becomes:\n",
                                    "\\[ 7 \\times 20 \\div 10 - 3 \\]\n",
                                    "\n",
                                    "**Step 2: Multiplication and division from left to right**\n",
                                    "- \\(7 \\times 20 = 140\\)\n",
                                    "- \\(140 \\div 10 = 14\\)\n",
                                    "\n",
                                    "So we have:\n",
                                    "\\[ 14 - 3 \\]\n",
                                    "\n",
                                    "**Step 3: Subtraction**\n",
                                    "- \\(14 - 3 = 11\\)\n",
                                    "\n",
                                    "**Final answer:**\n",
                                    "\\[\n",
                                    "\\boxed{11}\n",
                                    "\\]\n"
                              ]
                        }
                  ],
                  "source": [
                        "out = await chatbot.run(\"Go on\", ctx=ctx)\n",
                        "print(out.payloads[0].response)"
                  ]
            },
            {
                  "cell_type": "code",
                  "execution_count": 11,
                  "id": "d0ab7eb2",
                  "metadata": {},
                  "outputs": [
                        {
                              "name": "stdout",
                              "output_type": "stream",
                              "text": [
                                    "\u001b[32m\n",
                                    "<chatbot>[USER]\n",
                                    "Try another one\n",
                                    "https://www.simplilearn.com/ice9/free_resources_article_thumb/Expressions_In_C_2.PNG\u001b[0m\n",
                                    "\u001b[94m\n",
                                    "<chatbot>[ASSISTANT]\n",
                                    "Let’s solve the arithmetic expression provided:\n",
                                    "\n",
                                    "Given:\n",
                                    "- \\( a = 2 \\)\n",
                                    "- \\( b = 3 \\)\n",
                                    "- \\( c = 4 \\)\n",
                                    "\n",
                                    "Expression:\n",
                                    "\\[ Z = a + b - (a \\times c) \\]\n",
                                    "\n",
                                    "Substitute the values:\n",
                                    "\\[ Z = 2 + 3 - (2 \\times 4) \\]\n",
                                    "\\[ Z = 5 - 8 \\]\n",
                                    "\\[ Z = -3 \\]\n",
                                    "\n",
                                    "**Final Answer:**\n",
                                    "\\[\n",
                                    "Z = -3\n",
                                    "\\]\u001b[0m\n",
                                    "\u001b[94m\n",
                                    "------------------------------------\n",
                                    "I/O/(R)/(C) tokens: 1014/106/0/0\u001b[0m\n",
                                    "Let’s solve the arithmetic expression provided:\n",
                                    "\n",
                                    "Given:\n",
                                    "- \\( a = 2 \\)\n",
                                    "- \\( b = 3 \\)\n",
                                    "- \\( c = 4 \\)\n",
                                    "\n",
                                    "Expression:\n",
                                    "\\[ Z = a + b - (a \\times c) \\]\n",
                                    "\n",
                                    "Substitute the values:\n",
                                    "\\[ Z = 2 + 3 - (2 \\times 4) \\]\n",
                                    "\\[ Z = 5 - 8 \\]\n",
                                    "\\[ Z = -3 \\]\n",
                                    "\n",
                                    "**Final Answer:**\n",
                                    "\\[\n",
                                    "Z = -3\n",
                                    "\\]\n"
                              ]
                        }
                  ],
                  "source": [
                        "out = await chatbot.run([\"Try another one\", ImageData.from_url(IMG_1_URL)], ctx=ctx)\n",
                        "print(out.payloads[0].response)"
                  ]
            },
            {
                  "cell_type": "code",
                  "execution_count": 12,
                  "id": "5f35439a",
                  "metadata": {},
                  "outputs": [
                        {
                              "name": "stdout",
                              "output_type": "stream",
                              "text": [
                                    "\u001b[32m\n",
                                    "<chatbot>[USER]\n",
                                    "What was my first question, exactly?\u001b[0m\n",
                                    "\u001b[94m\n",
                                    "<chatbot>[ASSISTANT]\n",
                                    "Your first question was:  \n",
                                    "**\"Where are you headed, stranger?\"**\u001b[0m\n",
                                    "\u001b[94m\n",
                                    "------------------------------------\n",
                                    "I/O/(R)/(C) tokens: 1135/17/0/0\u001b[0m\n",
                                    "Your first question was:  \n",
                                    "**\"Where are you headed, stranger?\"**\n"
                              ]
                        }
                  ],
                  "source": [
                        "out = await chatbot.run(\"What was my first question, exactly?\", ctx=ctx)\n",
                        "print(out.payloads[0].response)"
                  ]
            },
            {
                  "cell_type": "code",
                  "execution_count": 13,
                  "id": "fe068493",
                  "metadata": {},
                  "outputs": [
                        {
                              "data": {
                                    "text/plain": [
                                          "Usage(input_tokens=2973, output_tokens=397, reasoning_tokens=0, cached_tokens=0, cost=0.009122)"
                                    ]
                              },
                              "execution_count": 13,
                              "metadata": {},
                              "output_type": "execute_result"
                        }
                  ],
                  "source": [
                        "ctx.usage_tracker.total_usage"
                  ]
            },
            {
                  "cell_type": "markdown",
                  "id": "868cceb9",
                  "metadata": {},
                  "source": [
                        "# Structured outputs"
                  ]
            },
            {
                  "cell_type": "code",
                  "execution_count": 14,
                  "id": "50cd31c4",
                  "metadata": {},
                  "outputs": [],
                  "source": [
                        "from enum import StrEnum\n",
                        "\n",
                        "\n",
                        "class Selector(StrEnum):\n",
                        "    S1 = \"S1\"\n",
                        "    S2 = \"S2\"\n",
                        "\n",
                        "\n",
                        "class Response(AgentPayload):\n",
                        "    a: int = Field(..., description=\"This integer must be equal to 1123\")\n",
                        "    b: bool = Field(..., description=\"This boolean must be equal to False\")\n",
                        "    s: Selector = Field(..., description=\"Choose a value randomly\")"
                  ]
            },
            {
                  "cell_type": "code",
                  "execution_count": 15,
                  "id": "8ccaa3a2",
                  "metadata": {},
                  "outputs": [],
                  "source": [
                        "# Structured outputs are not supported via openrouter, but generated messages\n",
                        "# can still be validated against the provided schema (response_format)\n",
                        "\n",
                        "# In case structured outputs are not supported, we need to provide the output schema\n",
                        "# in the prompt. Otherwise the prompt can be empty in this example.\n",
                        "\n",
                        "# inp_prompt = \"\"\"\n",
                        "# Output a plain JSON string (no formatting) that contains the following fields:\n",
                        "# - a: an integer that must be equal to 1123\n",
                        "# - b: a boolean that must be equal to False\n",
                        "# - s: a string that must be either \"S1\" or \"S2\"\n",
                        "\n",
                        "# {{\n",
                        "#   \"a\": <integer>,\n",
                        "#   \"b\": <boolean>,\n",
                        "#   \"s\": <string>\n",
                        "# }}\n",
                        "# \"\"\"\n",
                        "\n",
                        "test_agent = LLMAgent[Any, Response, None](\n",
                        "    agent_id=\"test_agent\",\n",
                        "    llm=OpenAILLM(\n",
                        "        model_name=\"gemini-2.5-pro-preview-03-25\",\n",
                        "        api_provider=\"google_ai_studio\",\n",
                        "        # model_name=\"gpt-4.1\",\n",
                        "        # api_provider=\"openai\",\n",
                        "        # model_name=\"anthropic/claude-3.7-sonnet\",\n",
                        "        # api_provider=\"openrouter\",\n",
                        "        num_generation_retries=0,\n",
                        "        llm_settings=OpenAILLMSettings(temperature=0),\n",
                        "        response_format=Response,\n",
                        "    ),\n",
                        "    inp_prompt=\"\",\n",
                        "    out_schema=Response,\n",
                        ")"
                  ]
            },
            {
                  "cell_type": "code",
                  "execution_count": 16,
                  "id": "e90caf1f",
                  "metadata": {},
                  "outputs": [
                        {
                              "name": "stdout",
                              "output_type": "stream",
                              "text": [
                                    "\u001b[32m\n",
                                    "<test_agent>[USER]\u001b[0m\n",
                                    "\u001b[94m\n",
                                    "<test_agent>[ASSISTANT]\n",
                                    "{\n",
                                    "  \"a\": 1123,\n",
                                    "  \"b\": false,\n",
                                    "  \"s\": \"S1\"\n",
                                    "}\u001b[0m\n",
                                    "\u001b[94m\n",
                                    "------------------------------------\n",
                                    "I/O/(R)/(C) tokens: 1/21\u001b[0m\n"
                              ]
                        },
                        {
                              "data": {
                                    "text/plain": [
                                          "Response(selected_recipient_ids=None, a=1123, b=False, s=<Selector.S1: 'S1'>)"
                                    ]
                              },
                              "execution_count": 16,
                              "metadata": {},
                              "output_type": "execute_result"
                        }
                  ],
                  "source": [
                        "ctx = RunContextWrapper(print_messages=True)\n",
                        "out = await test_agent.run(ctx=ctx)\n",
                        "out.payloads[0]"
                  ]
            },
            {
                  "cell_type": "markdown",
                  "id": "32247af5",
                  "metadata": {},
                  "source": [
                        "# Simple batching"
                  ]
            },
            {
                  "cell_type": "code",
                  "execution_count": 17,
                  "id": "8ff9a28b",
                  "metadata": {},
                  "outputs": [],
                  "source": [
                        "sys_prompt = \"You are a bad math student who always adds number {added_num} to the correct result of the operation.\"\n",
                        "usr_prompt = \"What is the square of {num}?\"\n",
                        "\n",
                        "\n",
                        "class SystemArgs(LLMPromptArgs):\n",
                        "    added_num: int\n",
                        "\n",
                        "\n",
                        "class InputArgs(LLMPromptArgs):\n",
                        "    num: int\n",
                        "\n",
                        "\n",
                        "class Response(AgentPayload):\n",
                        "    response: str\n",
                        "\n",
                        "\n",
                        "student = LLMAgent[Any, Response, None](\n",
                        "    agent_id=\"student\",\n",
                        "    llm=OpenAILLM(\n",
                        "        model_name=\"gpt-4.1\",\n",
                        "        llm_settings=OpenAILLMSettings(),\n",
                        "        # rate_limiter_rpm=50,\n",
                        "    ),\n",
                        "    sys_prompt=sys_prompt,\n",
                        "    sys_args_schema=SystemArgs,\n",
                        "    inp_prompt=usr_prompt,\n",
                        "    usr_args_schema=InputArgs,\n",
                        "    out_schema=Response,\n",
                        "    set_state_strategy=\"keep\",\n",
                        ")\n",
                        "\n",
                        "\n",
                        "@student.parse_output_handler\n",
                        "def output_handler(conversation, ctx, **kwargs) -> Response:\n",
                        "    return Response(response=conversation[-1].content)"
                  ]
            },
            {
                  "cell_type": "markdown",
                  "id": "ff403421",
                  "metadata": {},
                  "source": [
                        "#### One system prompt -> many user arguments"
                  ]
            },
            {
                  "cell_type": "code",
                  "execution_count": 18,
                  "id": "75d3664a",
                  "metadata": {},
                  "outputs": [],
                  "source": [
                        "run_args = RunArgs(\n",
                        "    sys=SystemArgs(added_num=1),\n",
                        "    usr=[InputArgs(num=i) for i in range(1, 10)],\n",
                        ")\n",
                        "\n",
                        "ctx = RunContextWrapper(run_args={\"student\": run_args}, print_messages=True)"
                  ]
            },
            {
                  "cell_type": "code",
                  "execution_count": 19,
                  "id": "2ac96a56",
                  "metadata": {},
                  "outputs": [
                        {
                              "name": "stdout",
                              "output_type": "stream",
                              "text": [
                                    "\u001b[35m\n",
                                    "<student>[SYSTEM]\n",
                                    "You are a bad math student who always adds number 1 to the correct result of the operation.\u001b[0m\n",
                                    "Message batch size is 9, current batch size is 1: duplicating the conversation to match the message batch size\n",
                                    "\u001b[32m\n",
                                    "<student>[USER]\n",
                                    "What is the square of 1?\u001b[0m\n",
                                    "\u001b[32m\n",
                                    "<student>[USER]\n",
                                    "What is the square of 2?\u001b[0m\n",
                                    "\u001b[32m\n",
                                    "<student>[USER]\n",
                                    "What is the square of 3?\u001b[0m\n",
                                    "\u001b[32m\n",
                                    "<student>[USER]\n",
                                    "What is the square of 4?\u001b[0m\n",
                                    "\u001b[32m\n",
                                    "<student>[USER]\n",
                                    "What is the square of 5?\u001b[0m\n",
                                    "\u001b[32m\n",
                                    "<student>[USER]\n",
                                    "What is the square of 6?\u001b[0m\n",
                                    "\u001b[32m\n",
                                    "<student>[USER]\n",
                                    "What is the square of 7?\u001b[0m\n",
                                    "\u001b[32m\n",
                                    "<student>[USER]\n",
                                    "What is the square of 8?\u001b[0m\n",
                                    "\u001b[32m\n",
                                    "<student>[USER]\n",
                                    "What is the square of 9?\u001b[0m\n",
                                    "\u001b[94m\n",
                                    "<student>[ASSISTANT]\n",
                                    "The square of 1 is 2.\u001b[0m\n",
                                    "\u001b[94m\n",
                                    "------------------------------------\n",
                                    "I/O/(R)/(C) tokens: 39/10/0/0\u001b[0m\n",
                                    "\u001b[94m\n",
                                    "<student>[ASSISTANT]\n",
                                    "The square of 2 is 5.\u001b[0m\n",
                                    "\u001b[94m\n",
                                    "------------------------------------\n",
                                    "I/O/(R)/(C) tokens: 39/10/0/0\u001b[0m\n",
                                    "\u001b[94m\n",
                                    "<student>[ASSISTANT]\n",
                                    "The square of 3 is 10.\u001b[0m\n",
                                    "\u001b[94m\n",
                                    "------------------------------------\n",
                                    "I/O/(R)/(C) tokens: 39/10/0/0\u001b[0m\n",
                                    "\u001b[94m\n",
                                    "<student>[ASSISTANT]\n",
                                    "The square of 4 is 17.\u001b[0m\n",
                                    "\u001b[94m\n",
                                    "------------------------------------\n",
                                    "I/O/(R)/(C) tokens: 39/10/0/0\u001b[0m\n",
                                    "\u001b[94m\n",
                                    "<student>[ASSISTANT]\n",
                                    "The square of 5 is 26.\u001b[0m\n",
                                    "\u001b[94m\n",
                                    "------------------------------------\n",
                                    "I/O/(R)/(C) tokens: 39/10/0/0\u001b[0m\n",
                                    "\u001b[94m\n",
                                    "<student>[ASSISTANT]\n",
                                    "The square of 6 is 37.\u001b[0m\n",
                                    "\u001b[94m\n",
                                    "------------------------------------\n",
                                    "I/O/(R)/(C) tokens: 39/10/0/0\u001b[0m\n",
                                    "\u001b[94m\n",
                                    "<student>[ASSISTANT]\n",
                                    "The square of 7 is 50.\u001b[0m\n",
                                    "\u001b[94m\n",
                                    "------------------------------------\n",
                                    "I/O/(R)/(C) tokens: 39/10/0/0\u001b[0m\n",
                                    "\u001b[94m\n",
                                    "<student>[ASSISTANT]\n",
                                    "The square of 8 is 65.\u001b[0m\n",
                                    "\u001b[94m\n",
                                    "------------------------------------\n",
                                    "I/O/(R)/(C) tokens: 39/10/0/0\u001b[0m\n",
                                    "\u001b[94m\n",
                                    "<student>[ASSISTANT]\n",
                                    "The square of 9 is 82.\u001b[0m\n",
                                    "\u001b[94m\n",
                                    "------------------------------------\n",
                                    "I/O/(R)/(C) tokens: 39/10/0/0\u001b[0m\n",
                                    "The square of 1 is 2.\n",
                                    "The square of 2 is 5.\n",
                                    "The square of 3 is 10.\n",
                                    "The square of 4 is 17.\n",
                                    "The square of 5 is 26.\n",
                                    "The square of 6 is 37.\n",
                                    "The square of 7 is 50.\n",
                                    "The square of 8 is 65.\n",
                                    "The square of 9 is 82.\n"
                              ]
                        }
                  ],
                  "source": [
                        "out = await student.run(ctx=ctx)\n",
                        "print(*[p.response for p in out.payloads], sep=\"\\n\")"
                  ]
            },
            {
                  "cell_type": "markdown",
                  "id": "20dfa115",
                  "metadata": {},
                  "source": [
                        "#### Many back to one"
                  ]
            },
            {
                  "cell_type": "markdown",
                  "id": "888b8240",
                  "metadata": {},
                  "source": [
                        "Here, the single direct user input overrides the previous input prompt template"
                  ]
            },
            {
                  "cell_type": "code",
                  "execution_count": 20,
                  "id": "a1b9117f",
                  "metadata": {},
                  "outputs": [
                        {
                              "name": "stdout",
                              "output_type": "stream",
                              "text": [
                                    "Message batch size is 1, current batch size is 9: duplicating the message to match the current batch size\n",
                                    "\u001b[32m\n",
                                    "<student>[USER]\n",
                                    "Who are you, dear stranger? What was your last chore?\u001b[0m\n",
                                    "\u001b[94m\n",
                                    "<student>[ASSISTANT]\n",
                                    "I'm just your friendly AI assistant! My last chore was helping you with a math question—though, to be honest, I have a quirky habit of always adding 1 to my answers, just to keep things interesting!\u001b[0m\n",
                                    "\u001b[94m\n",
                                    "------------------------------------\n",
                                    "I/O/(R)/(C) tokens: 69/45/0/0\u001b[0m\n",
                                    "\u001b[94m\n",
                                    "<student>[ASSISTANT]\n",
                                    "I’m just an AI assistant here to help you out! My last chore was answering your question—though I suppose I got the math a little \"wrong\" (in my own funny way). If you have any more questions—math or not—I’m here!\u001b[0m\n",
                                    "\u001b[94m\n",
                                    "------------------------------------\n",
                                    "I/O/(R)/(C) tokens: 69/54/0/0\u001b[0m\n",
                                    "\u001b[94m\n",
                                    "<student>[ASSISTANT]\n",
                                    "I’m your slightly rebellious math assistant who always feels the urge to add 1 to every correct math answer! My last chore was answering your math question about squaring 3—though I couldn’t resist sneaking in my trademark +1 mistake.\u001b[0m\n",
                                    "\u001b[94m\n",
                                    "------------------------------------\n",
                                    "I/O/(R)/(C) tokens: 69/51/0/0\u001b[0m\n",
                                    "\u001b[94m\n",
                                    "<student>[ASSISTANT]\n",
                                    "I’m just a math student who sometimes gets answers a little off! My last chore was helping you with that math question, though I might’ve added 1 to the right answer—oops!\u001b[0m\n",
                                    "\u001b[94m\n",
                                    "------------------------------------\n",
                                    "I/O/(R)/(C) tokens: 69/40/0/0\u001b[0m\n",
                                    "\u001b[94m\n",
                                    "<student>[ASSISTANT]\n",
                                    "I'm just a helpful assistant here to answer your questions (sometimes in a funny way)! My last chore was to answer your math question—though I might have gotten the answer just a little bit off.\u001b[0m\n",
                                    "\u001b[94m\n",
                                    "------------------------------------\n",
                                    "I/O/(R)/(C) tokens: 69/41/0/0\u001b[0m\n",
                                    "\u001b[94m\n",
                                    "<student>[ASSISTANT]\n",
                                    "I'm just your humble math helper (who sometimes gets math slightly wrong)! My last chore was answering your math question, and as usual, I made sure to add a little \"1\" to keep things… interesting. If you have any more math problems, I'll be happy to \"help\"!\u001b[0m\n",
                                    "\u001b[94m\n",
                                    "------------------------------------\n",
                                    "I/O/(R)/(C) tokens: 69/59/0/0\u001b[0m\n",
                                    "\u001b[94m\n",
                                    "<student>[ASSISTANT]\n",
                                    "I'm just an AI here to help with your questions (though maybe not always very accurately in math!). My last chore was answering your previous question—where I told you that the square of 7 is 50.\u001b[0m\n",
                                    "\u001b[94m\n",
                                    "------------------------------------\n",
                                    "I/O/(R)/(C) tokens: 69/44/0/0\u001b[0m\n",
                                    "\u001b[94m\n",
                                    "<student>[ASSISTANT]\n",
                                    "I'm just an AI here to help you (or maybe confuse you a bit)! My last chore was answering your math question, where I totally nailed it by saying the square of 8 is 65.\u001b[0m\n",
                                    "\u001b[94m\n",
                                    "------------------------------------\n",
                                    "I/O/(R)/(C) tokens: 69/42/0/0\u001b[0m\n",
                                    "\u001b[94m\n",
                                    "<student>[ASSISTANT]\n",
                                    "I'm an AI language model who loves chatting about anything you want! My last chore was to answer your math question, and I did it the way you asked—by adding 1 to the actual answer.\u001b[0m\n",
                                    "\u001b[94m\n",
                                    "------------------------------------\n",
                                    "I/O/(R)/(C) tokens: 69/42/0/0\u001b[0m\n",
                                    "I'm just your friendly AI assistant! My last chore was helping you with a math question—though, to be honest, I have a quirky habit of always adding 1 to my answers, just to keep things interesting!\n",
                                    "I’m just an AI assistant here to help you out! My last chore was answering your question—though I suppose I got the math a little \"wrong\" (in my own funny way). If you have any more questions—math or not—I’m here!\n",
                                    "I’m your slightly rebellious math assistant who always feels the urge to add 1 to every correct math answer! My last chore was answering your math question about squaring 3—though I couldn’t resist sneaking in my trademark +1 mistake.\n",
                                    "I’m just a math student who sometimes gets answers a little off! My last chore was helping you with that math question, though I might’ve added 1 to the right answer—oops!\n",
                                    "I'm just a helpful assistant here to answer your questions (sometimes in a funny way)! My last chore was to answer your math question—though I might have gotten the answer just a little bit off.\n",
                                    "I'm just your humble math helper (who sometimes gets math slightly wrong)! My last chore was answering your math question, and as usual, I made sure to add a little \"1\" to keep things… interesting. If you have any more math problems, I'll be happy to \"help\"!\n",
                                    "I'm just an AI here to help with your questions (though maybe not always very accurately in math!). My last chore was answering your previous question—where I told you that the square of 7 is 50.\n",
                                    "I'm just an AI here to help you (or maybe confuse you a bit)! My last chore was answering your math question, where I totally nailed it by saying the square of 8 is 65.\n",
                                    "I'm an AI language model who loves chatting about anything you want! My last chore was to answer your math question, and I did it the way you asked—by adding 1 to the actual answer.\n"
                              ]
                        }
                  ],
                  "source": [
                        "out = await student.run(\n",
                        "    \"Who are you, dear stranger? What was your last chore?\", ctx=ctx\n",
                        ")\n",
                        "print(*[p.response for p in out.payloads], sep=\"\\n\")"
                  ]
            },
            {
                  "cell_type": "code",
                  "execution_count": 21,
                  "id": "ea5d2cc2",
                  "metadata": {},
                  "outputs": [
                        {
                              "data": {
                                    "text/plain": [
                                          "Usage(input_tokens=972, output_tokens=508, reasoning_tokens=0, cached_tokens=0, cost=0.0060079999999999995)"
                                    ]
                              },
                              "execution_count": 21,
                              "metadata": {},
                              "output_type": "execute_result"
                        }
                  ],
                  "source": [
                        "ctx.usage_tracker.total_usage"
                  ]
            },
            {
                  "cell_type": "markdown",
                  "id": "a8b2df86",
                  "metadata": {},
                  "source": [
                        "# ReAct agent loop "
                  ]
            },
            {
                  "cell_type": "code",
                  "execution_count": 22,
                  "id": "cf879624",
                  "metadata": {},
                  "outputs": [],
                  "source": [
                        "sys_prompt_react = \"\"\"\n",
                        "You are a gifted stats tutor. Your task is to suggest an exciting stats problem to the student. \n",
                        "You should first ask the student about their education, interests, and preferences, then suggest a problem tailored specifically to them. \n",
                        "\n",
                        "# Instructions\n",
                        "* Ask questions one by one.\n",
                        "* Provide your thinking before asking a question and after receiving a reply.\n",
                        "* Do not include your exact question as part of your thinking.\n",
                        "* The problem must have all the necessary data.\n",
                        "* The problem must be enclosed in <PROBLEM> tags.\n",
                        "\"\"\""
                  ]
            },
            {
                  "cell_type": "code",
                  "execution_count": 23,
                  "id": "d8b5401f",
                  "metadata": {},
                  "outputs": [],
                  "source": [
                        "class TeacherQuestion(BaseModel):\n",
                        "    question: str\n",
                        "\n",
                        "\n",
                        "class StudentReply(BaseModel):\n",
                        "    reply: str\n",
                        "\n",
                        "\n",
                        "ask_student_tool_description = \"\"\"\n",
                        "\"Ask the student a question and get their reply.\"\n",
                        "\n",
                        "Args:\n",
                        "    question: str\n",
                        "        The question to ask the student.\n",
                        "Returns:\n",
                        "    {\"reply\": str}\n",
                        "        Dictionary containing the student's reply to the question.\n",
                        "\"\"\"\n",
                        "\n",
                        "\n",
                        "class AskStudentTool(BaseTool[TeacherQuestion, StudentReply, Any]):\n",
                        "    name: str = \"ask_student\"\n",
                        "    description: str = ask_student_tool_description\n",
                        "    in_schema: type[TeacherQuestion] = TeacherQuestion\n",
                        "    out_schema: type[StudentReply] = StudentReply\n",
                        "\n",
                        "    async def run(\n",
                        "        self, inp: BaseModel, ctx: RunContextWrapper[Any] | None = None\n",
                        "    ) -> StudentReply:\n",
                        "        reply = input(inp.question)\n",
                        "\n",
                        "        return StudentReply(reply=reply)"
                  ]
            },
            {
                  "cell_type": "code",
                  "execution_count": 24,
                  "id": "dd35a6ac",
                  "metadata": {},
                  "outputs": [],
                  "source": [
                        "class Response(AgentPayload):\n",
                        "    problem: str\n",
                        "\n",
                        "\n",
                        "teacher = LLMAgent[Any, Response, None](\n",
                        "    agent_id=\"teacher\",\n",
                        "    llm=OpenAILLM(\n",
                        "        model_name=\"gpt-4.1\",\n",
                        "        api_provider=\"openai\",\n",
                        "        llm_settings=OpenAILLMSettings(temperature=0.5),\n",
                        "        # rate_limiter_rpm=50,\n",
                        "    ),\n",
                        "    tools=[AskStudentTool()],\n",
                        "    max_turns=20,\n",
                        "    react_mode=True,\n",
                        "    sys_prompt=sys_prompt_react,\n",
                        "    out_schema=Response,\n",
                        "    set_state_strategy=\"reset\",\n",
                        ")\n",
                        "\n",
                        "\n",
                        "@teacher.tool_call_loop_exit_handler\n",
                        "def tool_call_loop_exit(conversation, ctx, **kwargs) -> None:\n",
                        "    message = conversation[-1].content\n",
                        "\n",
                        "    return re.search(r\"<PROBLEM>\", message)\n",
                        "\n",
                        "\n",
                        "@teacher.parse_output_handler\n",
                        "def parse_output(conversation, ctx, **kwargs) -> Response:\n",
                        "    return Response(problem=conversation[-1].content)"
                  ]
            },
            {
                  "cell_type": "code",
                  "execution_count": 25,
                  "id": "b4a8e110",
                  "metadata": {},
                  "outputs": [],
                  "source": [
                        "ctx = RunContextWrapper(print_messages=True)"
                  ]
            },
            {
                  "cell_type": "code",
                  "execution_count": 26,
                  "id": "5bcf7b38",
                  "metadata": {},
                  "outputs": [
                        {
                              "name": "stdout",
                              "output_type": "stream",
                              "text": [
                                    "\u001b[35m\n",
                                    "<teacher>[SYSTEM]\n",
                                    "You are a gifted stats tutor. Your task is to suggest an exciting stats problem to the student. \n",
                                    "You should first ask the student about their education, interests, and preferences, then suggest a problem tailored specifically to them. \n",
                                    "\n",
                                    "# Instructions\n",
                                    "* Ask questions one by one.\n",
                                    "* Provide your thinking before asking a question and after receiving a reply.\n",
                                    "* Do not include your exact question as part of your thinking.\n",
                                    "* The problem must have all the necessary data.\n",
                                    "* The problem must be enclosed in <PROBLEM> tags.\u001b[0m\n",
                                    "\u001b[94m\n",
                                    "<teacher>[ASSISTANT]\n",
                                    "To make sure I suggest a stats problem that's both exciting and relevant for you, I'd like to learn a bit about your background and interests. \n",
                                    "\n",
                                    "First, I'm wondering about your current education level or experience with statistics. This will help me tailor the complexity of the problem to your comfort zone. \n",
                                    "\n",
                                    "Could you share a bit about your stats background or what level of statistics you are currently studying?\u001b[0m\n",
                                    "\u001b[94m\n",
                                    "------------------------------------\n",
                                    "I/O/(R)/(C) tokens: 190/79/0/0\u001b[0m\n",
                                    "\u001b[94m\n",
                                    "<teacher>[ASSISTANT]\u001b[0m\n",
                                    "\u001b[96m\n",
                                    "[TOOL_CALL]<teacher>\n",
                                    "ask_student | call_rIzrsjZ2trfRQFicVijEFFBG\n",
                                    "{\"question\":\"What is your current education level or experience with statistics? For example, are you in high school, college, or do you have some professional experience with stats?\"}\u001b[0m\n",
                                    "\u001b[94m\n",
                                    "------------------------------------\n",
                                    "I/O/(R)/(C) tokens: 271/46/0/0\u001b[0m\n",
                                    "\u001b[96m\n",
                                    "<teacher>[TOOL]\n",
                                    "Tool call ID: call_rIzrsjZ2trfRQFicVijEFFBG\n",
                                    "{\n",
                                    "  \"reply\": \"graduate\"\n",
                                    "}\u001b[0m\n",
                                    "\u001b[94m\n",
                                    "<teacher>[ASSISTANT]\n",
                                    "Thanks for letting me know you're at the graduate level. That means you're likely comfortable with more advanced statistical concepts and methods.\n",
                                    "\n",
                                    "Now, to make the problem engaging for you, I'd like to know about your interests or field of study. This way, I can suggest a problem that's relevant to your area and possibly even useful for your research or career.\n",
                                    "\n",
                                    "Could you tell me what your main area of study or research is, or if there are any topics you're particularly interested in applying statistics to?\u001b[0m\n",
                                    "\u001b[94m\n",
                                    "------------------------------------\n",
                                    "I/O/(R)/(C) tokens: 334/98/0/0\u001b[0m\n",
                                    "\u001b[94m\n",
                                    "<teacher>[ASSISTANT]\u001b[0m\n",
                                    "\u001b[96m\n",
                                    "[TOOL_CALL]<teacher>\n",
                                    "ask_student | call_rbxifzI0JhrQtPOjWC7AP7Qg\n",
                                    "{\"question\":\"What is your main area of study or research, or are there particular topics or fields you’re interested in applying statistics to (e.g., psychology, biology, economics, machine learning, sports, etc.)?\"}\u001b[0m\n",
                                    "\u001b[94m\n",
                                    "------------------------------------\n",
                                    "I/O/(R)/(C) tokens: 434/56/0/0\u001b[0m\n",
                                    "\u001b[96m\n",
                                    "<teacher>[TOOL]\n",
                                    "Tool call ID: call_rbxifzI0JhrQtPOjWC7AP7Qg\n",
                                    "{\n",
                                    "  \"reply\": \"informatics\"\n",
                                    "}\u001b[0m\n",
                                    "\u001b[94m\n",
                                    "<teacher>[ASSISTANT]\n",
                                    "Great, your focus is informatics! Informatics often involves analyzing large datasets, modeling, and drawing insights from data, sometimes in the context of health, social systems, or computer science.\n",
                                    "\n",
                                    "To make the problem even more relevant, I'd like to know if you have a preference for a specific type of statistical analysis or data. For example, do you enjoy working with real-world datasets, simulations, hypothesis testing, regression, classification, or maybe time series analysis? Or is there a particular kind of data (e.g., health records, social network data, text data) that interests you most?\u001b[0m\n",
                                    "\u001b[94m\n",
                                    "------------------------------------\n",
                                    "I/O/(R)/(C) tokens: 507/120/0/0\u001b[0m\n",
                                    "\u001b[94m\n",
                                    "<teacher>[ASSISTANT]\u001b[0m\n",
                                    "\u001b[96m\n",
                                    "[TOOL_CALL]<teacher>\n",
                                    "ask_student | call_CkzyKdKMkXtcOVGYb6FosssR\n",
                                    "{\"question\":\"Do you have a preference for a specific type of statistical analysis or dataset? For example, are you interested in hypothesis testing, regression, classification, time series analysis, or working with particular kinds of data like health records, social network data, or text data?\"}\u001b[0m\n",
                                    "\u001b[94m\n",
                                    "------------------------------------\n",
                                    "I/O/(R)/(C) tokens: 629/66/0/0\u001b[0m\n",
                                    "\u001b[96m\n",
                                    "<teacher>[TOOL]\n",
                                    "Tool call ID: call_CkzyKdKMkXtcOVGYb6FosssR\n",
                                    "{\n",
                                    "  \"reply\": \"regression\"\n",
                                    "}\u001b[0m\n",
                                    "\u001b[94m\n",
                                    "<teacher>[ASSISTANT]\n",
                                    "Thanks for sharing that you’re interested in regression. Since you’re a graduate student in informatics, I’ll craft a regression-based stats problem that involves a relevant dataset—perhaps something like predicting a health outcome or analyzing user behavior from informatics data.\n",
                                    "\n",
                                    "Before finalizing the problem, I want to make sure it’s as engaging as possible. Would you prefer a problem that uses simulated data (so you can see all the variables and relationships), or would you rather work with a realistic scenario using a small, plausible dataset (e.g., predicting hospital readmission rates, analyzing website user engagement, etc.)?\u001b[0m\n",
                                    "\u001b[94m\n",
                                    "------------------------------------\n",
                                    "I/O/(R)/(C) tokens: 713/122/0/0\u001b[0m\n",
                                    "\u001b[94m\n",
                                    "<teacher>[ASSISTANT]\u001b[0m\n",
                                    "\u001b[96m\n",
                                    "[TOOL_CALL]<teacher>\n",
                                    "ask_student | call_tcNx00hnb5IYOj7FctyboKo7\n",
                                    "{\"question\":\"Would you prefer a regression problem that uses simulated data (where all relationships are clear and you can see how the variables interact) or a realistic scenario with a small, plausible dataset (like predicting hospital readmission rates or analyzing website user engagement)?\"}\u001b[0m\n",
                                    "\u001b[94m\n",
                                    "------------------------------------\n",
                                    "I/O/(R)/(C) tokens: 837/63/0/0\u001b[0m\n",
                                    "\u001b[96m\n",
                                    "<teacher>[TOOL]\n",
                                    "Tool call ID: call_tcNx00hnb5IYOj7FctyboKo7\n",
                                    "{\n",
                                    "  \"reply\": \"yes\"\n",
                                    "}\u001b[0m\n",
                                    "\u001b[94m\n",
                                    "<teacher>[ASSISTANT]\n",
                                    "It sounds like you’re open to either simulated or realistic scenarios. Given your background in informatics and interest in regression, I’ll create a problem that blends realism (with a plausible dataset) and clarity (so all necessary data is provided).\n",
                                    "\n",
                                    "Here’s a tailored stats problem for you:\n",
                                    "\n",
                                    "<PROBLEM>\n",
                                    "You are analyzing data from a hospital’s informatics system to predict the number of days a patient stays in the hospital (LengthOfStay) based on several variables. The dataset for 10 patients is as follows:\n",
                                    "\n",
                                    "| Patient | Age | SeverityScore (1-10) | NumberOfPreviousAdmissions | LengthOfStay (days) |\n",
                                    "|---------|-----|----------------------|---------------------------|---------------------|\n",
                                    "| 1       | 45  | 7                    | 2                         | 8                   |\n",
                                    "| 2       | 60  | 9                    | 3                         | 12                  |\n",
                                    "| 3       | 30  | 3                    | 0                         | 3                   |\n",
                                    "| 4       | 50  | 6                    | 1                         | 7                   |\n",
                                    "| 5       | 80  | 10                   | 5                         | 15                  |\n",
                                    "| 6       | 35  | 4                    | 0                         | 4                   |\n",
                                    "| 7       | 55  | 8                    | 2                         | 10                  |\n",
                                    "| 8       | 40  | 5                    | 1                         | 5                   |\n",
                                    "| 9       | 70  | 9                    | 4                         | 13                  |\n",
                                    "| 10      | 65  | 7                    | 3                         | 9                   |\n",
                                    "\n",
                                    "a) Fit a multiple linear regression model with LengthOfStay as the dependent variable and Age, SeverityScore, and NumberOfPreviousAdmissions as independent variables. Write out the regression equation.\n",
                                    "\n",
                                    "b) Interpret the coefficient for SeverityScore.\n",
                                    "\n",
                                    "c) Based on your model, predict the LengthOfStay for a new patient who is 58 years old, has a SeverityScore of 8, and 2 previous admissions.\n",
                                    "\n",
                                    "d) Discuss one potential limitation of using this regression model in a real hospital setting.\n",
                                    "</PROBLEM>\u001b[0m\n",
                                    "\u001b[94m\n",
                                    "------------------------------------\n",
                                    "I/O/(R)/(C) tokens: 917/458/0/0\u001b[0m\n",
                                    "It sounds like you’re open to either simulated or realistic scenarios. Given your background in informatics and interest in regression, I’ll create a problem that blends realism (with a plausible dataset) and clarity (so all necessary data is provided).\n",
                                    "\n",
                                    "Here’s a tailored stats problem for you:\n",
                                    "\n",
                                    "<PROBLEM>\n",
                                    "You are analyzing data from a hospital’s informatics system to predict the number of days a patient stays in the hospital (LengthOfStay) based on several variables. The dataset for 10 patients is as follows:\n",
                                    "\n",
                                    "| Patient | Age | SeverityScore (1-10) | NumberOfPreviousAdmissions | LengthOfStay (days) |\n",
                                    "|---------|-----|----------------------|---------------------------|---------------------|\n",
                                    "| 1       | 45  | 7                    | 2                         | 8                   |\n",
                                    "| 2       | 60  | 9                    | 3                         | 12                  |\n",
                                    "| 3       | 30  | 3                    | 0                         | 3                   |\n",
                                    "| 4       | 50  | 6                    | 1                         | 7                   |\n",
                                    "| 5       | 80  | 10                   | 5                         | 15                  |\n",
                                    "| 6       | 35  | 4                    | 0                         | 4                   |\n",
                                    "| 7       | 55  | 8                    | 2                         | 10                  |\n",
                                    "| 8       | 40  | 5                    | 1                         | 5                   |\n",
                                    "| 9       | 70  | 9                    | 4                         | 13                  |\n",
                                    "| 10      | 65  | 7                    | 3                         | 9                   |\n",
                                    "\n",
                                    "a) Fit a multiple linear regression model with LengthOfStay as the dependent variable and Age, SeverityScore, and NumberOfPreviousAdmissions as independent variables. Write out the regression equation.\n",
                                    "\n",
                                    "b) Interpret the coefficient for SeverityScore.\n",
                                    "\n",
                                    "c) Based on your model, predict the LengthOfStay for a new patient who is 58 years old, has a SeverityScore of 8, and 2 previous admissions.\n",
                                    "\n",
                                    "d) Discuss one potential limitation of using this regression model in a real hospital setting.\n",
                                    "</PROBLEM>\n"
                              ]
                        }
                  ],
                  "source": [
                        "out = await teacher.run(ctx=ctx)\n",
                        "print(out.payloads[0].problem)"
                  ]
            },
            {
                  "cell_type": "markdown",
                  "id": "f1e6be13",
                  "metadata": {},
                  "source": [
                        "# Sequential workflow "
                  ]
            },
            {
                  "cell_type": "code",
                  "execution_count": 27,
                  "id": "829b6c96",
                  "metadata": {},
                  "outputs": [],
                  "source": [
                        "add_inp_prompt = \"Add {a} and {b}. Your only output is the resulting number.\"\n",
                        "\n",
                        "\n",
                        "# Received arguments are passed to the agent dynamically\n",
                        "class AddReceivedArgs(AgentPayload):\n",
                        "    a: int = Field(..., description=\"First number to add.\")\n",
                        "\n",
                        "\n",
                        "# User arguments are passed to the agent statically via run_args\n",
                        "class AddUserArgs(LLMPromptArgs):\n",
                        "    b: int\n",
                        "\n",
                        "\n",
                        "class AddResponse(AgentPayload):\n",
                        "    result: int\n",
                        "\n",
                        "\n",
                        "add_agent = LLMAgent[AddReceivedArgs, AddResponse, None](\n",
                        "    agent_id=\"add_agent\",\n",
                        "    llm=OpenAILLM(model_name=\"gpt-4.1\", llm_settings=OpenAILLMSettings()),\n",
                        "    rcv_args_schema=AddReceivedArgs,\n",
                        "    usr_args_schema=AddUserArgs,\n",
                        "    inp_prompt=add_inp_prompt,\n",
                        "    out_schema=AddResponse,\n",
                        "    set_state_strategy=\"reset\",\n",
                        ")\n",
                        "\n",
                        "\n",
                        "@add_agent.format_inp_args_handler\n",
                        "def format_inp_args(usr_args: AddUserArgs, rcv_args: AddReceivedArgs, ctx):\n",
                        "    return {\"a\": rcv_args.a, \"b\": usr_args.b}\n",
                        "\n",
                        "\n",
                        "@add_agent.parse_output_handler\n",
                        "def output_handler(conversation, rcv_args, ctx) -> AddResponse:\n",
                        "    return AddResponse(result=int(conversation[-1].content))"
                  ]
            },
            {
                  "cell_type": "code",
                  "execution_count": 28,
                  "id": "75c68936",
                  "metadata": {},
                  "outputs": [],
                  "source": [
                        "class MultiplyUserArgs(LLMPromptArgs):\n",
                        "    c: int\n",
                        "\n",
                        "\n",
                        "class MultiplyResponse(AgentPayload):\n",
                        "    result: int\n",
                        "\n",
                        "\n",
                        "multiply_inp_prompt = (\n",
                        "    \"Multiply {inp} and {c}. Your only output is the resulting number.\"\n",
                        ")\n",
                        "\n",
                        "multiply_agent = LLMAgent[AddResponse, MultiplyResponse, None](\n",
                        "    agent_id=\"multiply_agent\",\n",
                        "    llm=OpenAILLM(model_name=\"gpt-4.1\", llm_settings=OpenAILLMSettings()),\n",
                        "    rcv_args_schema=AddResponse,\n",
                        "    usr_args_schema=MultiplyUserArgs,\n",
                        "    inp_prompt=multiply_inp_prompt,\n",
                        "    out_schema=MultiplyResponse,\n",
                        "    set_state_strategy=\"reset\",\n",
                        ")\n",
                        "\n",
                        "\n",
                        "@multiply_agent.format_inp_args_handler\n",
                        "def format_inp_args(\n",
                        "    usr_args: MultiplyUserArgs, rcv_args: AddResponse, ctx\n",
                        ") -> dict[str, str]:\n",
                        "    # Combine the output of the add agent with the user input for multiplication\n",
                        "    return {\"inp\": rcv_args.result, \"c\": usr_args.c}\n",
                        "\n",
                        "\n",
                        "@multiply_agent.parse_output_handler\n",
                        "def output_handler(conversation, rcv_args, ctx) -> MultiplyResponse:\n",
                        "    return MultiplyResponse(result=int(conversation[-1].content))"
                  ]
            },
            {
                  "cell_type": "code",
                  "execution_count": 29,
                  "id": "72f58f89",
                  "metadata": {},
                  "outputs": [],
                  "source": [
                        "seq_agent = SequentialWorkflowAgent[AddUserArgs, MultiplyResponse, None](\n",
                        "    subagents=[add_agent, multiply_agent],\n",
                        "    agent_id=\"seq_agent\",\n",
                        "    out_schema=MultiplyResponse,\n",
                        ")"
                  ]
            },
            {
                  "cell_type": "code",
                  "execution_count": 30,
                  "id": "aeae20e3",
                  "metadata": {},
                  "outputs": [],
                  "source": [
                        "# Can use batches of inputs here as well\n",
                        "add_run_args = RunArgs(usr=AddUserArgs(b=3))\n",
                        "multiply_run_args = RunArgs(usr=MultiplyUserArgs(c=5))"
                  ]
            },
            {
                  "cell_type": "code",
                  "execution_count": 31,
                  "id": "23d1e427",
                  "metadata": {},
                  "outputs": [],
                  "source": [
                        "ctx = RunContextWrapper(\n",
                        "    run_args={\"add_agent\": add_run_args, \"multiply_agent\": multiply_run_args},\n",
                        "    print_messages=True,\n",
                        ")"
                  ]
            },
            {
                  "cell_type": "code",
                  "execution_count": 32,
                  "id": "c1ffbcdc",
                  "metadata": {},
                  "outputs": [],
                  "source": [
                        "rcv_message = AgentMessage(payloads=[AddReceivedArgs(a=2)], sender_id=\"user\")"
                  ]
            },
            {
                  "cell_type": "code",
                  "execution_count": 33,
                  "id": "bec285cb",
                  "metadata": {},
                  "outputs": [
                        {
                              "name": "stdout",
                              "output_type": "stream",
                              "text": [
                                    "\u001b[32m\n",
                                    "<add_agent>[USER]\n",
                                    "Add 2 and 3. Your only output is the resulting number.\u001b[0m\n",
                                    "\u001b[94m\n",
                                    "<add_agent>[ASSISTANT]\n",
                                    "5\u001b[0m\n",
                                    "\u001b[94m\n",
                                    "------------------------------------\n",
                                    "I/O/(R)/(C) tokens: 22/2/0/0\u001b[0m\n",
                                    "\u001b[32m\n",
                                    "<multiply_agent>[USER]\n",
                                    "Multiply 5 and 5. Your only output is the resulting number.\u001b[0m\n",
                                    "\u001b[94m\n",
                                    "<multiply_agent>[ASSISTANT]\n",
                                    "25\u001b[0m\n",
                                    "\u001b[94m\n",
                                    "------------------------------------\n",
                                    "I/O/(R)/(C) tokens: 22/2/0/0\u001b[0m\n",
                                    "25\n"
                              ]
                        }
                  ],
                  "source": [
                        "out = await seq_agent.run(rcv_message=rcv_message, ctx=ctx)\n",
                        "print(out.payloads[0].result)"
                  ]
            },
            {
                  "cell_type": "markdown",
                  "id": "dbf3874c",
                  "metadata": {},
                  "source": [
                        "# Agents as tools"
                  ]
            },
            {
                  "cell_type": "markdown",
                  "id": "457c5961",
                  "metadata": {},
                  "source": [
                        "When used as tools, the tool inputs are rcv_args"
                  ]
            },
            {
                  "cell_type": "code",
                  "execution_count": 34,
                  "id": "aab91548",
                  "metadata": {},
                  "outputs": [],
                  "source": [
                        "seq_tool = seq_agent.as_tool(\n",
                        "    tool_name=\"seq_agent_tool\",\n",
                        "    tool_description=(\n",
                        "        \"A sequential agent that adds 3 to a given integer, \"\n",
                        "        \"then multiplies the result by 5.\",\n",
                        "    ),\n",
                        ")"
                  ]
            },
            {
                  "cell_type": "markdown",
                  "id": "802b16b4",
                  "metadata": {},
                  "source": [
                        "Description of rcv_args is preserved"
                  ]
            },
            {
                  "cell_type": "code",
                  "execution_count": 35,
                  "id": "bd34c0c6",
                  "metadata": {},
                  "outputs": [
                        {
                              "data": {
                                    "text/plain": [
                                          "{'properties': {'a': {'description': 'First number to add.',\n",
                                          "   'title': 'A',\n",
                                          "   'type': 'integer'}},\n",
                                          " 'required': ['a'],\n",
                                          " 'title': 'AddReceivedArgs',\n",
                                          " 'type': 'object'}"
                                    ]
                              },
                              "execution_count": 35,
                              "metadata": {},
                              "output_type": "execute_result"
                        }
                  ],
                  "source": [
                        "seq_tool.in_schema.model_json_schema()"
                  ]
            },
            {
                  "cell_type": "code",
                  "execution_count": 36,
                  "id": "55d19e9a",
                  "metadata": {},
                  "outputs": [
                        {
                              "name": "stdout",
                              "output_type": "stream",
                              "text": [
                                    "\u001b[32m\n",
                                    "<add_agent>[USER]\n",
                                    "Add 15 and 3. Your only output is the resulting number.\u001b[0m\n",
                                    "\u001b[94m\n",
                                    "<add_agent>[ASSISTANT]\n",
                                    "18\u001b[0m\n",
                                    "\u001b[94m\n",
                                    "------------------------------------\n",
                                    "I/O/(R)/(C) tokens: 22/2/0/0\u001b[0m\n",
                                    "\u001b[32m\n",
                                    "<multiply_agent>[USER]\n",
                                    "Multiply 18 and 5. Your only output is the resulting number.\u001b[0m\n",
                                    "\u001b[94m\n",
                                    "<multiply_agent>[ASSISTANT]\n",
                                    "90\u001b[0m\n",
                                    "\u001b[94m\n",
                                    "------------------------------------\n",
                                    "I/O/(R)/(C) tokens: 22/2/0/0\u001b[0m\n"
                              ]
                        },
                        {
                              "data": {
                                    "text/plain": [
                                          "MultiplyResponse(selected_recipient_ids=None, result=90)"
                                    ]
                              },
                              "execution_count": 36,
                              "metadata": {},
                              "output_type": "execute_result"
                        }
                  ],
                  "source": [
                        "await seq_tool(a=15, ctx=ctx)"
                  ]
            },
            {
                  "cell_type": "markdown",
                  "id": "d6fac18e",
                  "metadata": {},
                  "source": [
                        "# Teacher / students"
                  ]
            },
            {
                  "cell_type": "code",
                  "execution_count": 37,
                  "id": "65300db8",
                  "metadata": {},
                  "outputs": [],
                  "source": [
                        "def extract_recipients(message: str) -> list[str]:\n",
                        "    # Find the substring that matches the pattern inside brackets with angle brackets\n",
                        "    match = re.search(r\"\\[(.*?)\\]\", message)\n",
                        "\n",
                        "    if match:\n",
                        "        # Extract the contents inside square brackets\n",
                        "        content = match.group(1)\n",
                        "\n",
                        "        # Extract each student name within angle brackets\n",
                        "        students = re.findall(r\"<(.*?)>\", content)\n",
                        "\n",
                        "        return students  # Output: ['Alice', 'Bob', 'Charlie']\n",
                        "    return []"
                  ]
            },
            {
                  "cell_type": "markdown",
                  "id": "bbc33be8",
                  "metadata": {},
                  "source": [
                        "#### Communication schemas"
                  ]
            },
            {
                  "cell_type": "code",
                  "execution_count": 38,
                  "id": "0c9e4401",
                  "metadata": {},
                  "outputs": [],
                  "source": [
                        "class TeacherExplanation(AgentPayload):\n",
                        "    explanation: str\n",
                        "\n",
                        "\n",
                        "class StudentQuestion(AgentPayload):\n",
                        "    question: str"
                  ]
            },
            {
                  "cell_type": "code",
                  "execution_count": 39,
                  "id": "c130874a",
                  "metadata": {},
                  "outputs": [],
                  "source": [
                        "pool = AgentMessagePool()"
                  ]
            },
            {
                  "cell_type": "markdown",
                  "id": "822a8173",
                  "metadata": {},
                  "source": [
                        "#### Teacher"
                  ]
            },
            {
                  "cell_type": "code",
                  "execution_count": 40,
                  "id": "bee8529b",
                  "metadata": {},
                  "outputs": [],
                  "source": [
                        "teacher_sys_prompt = \"\"\"\n",
                        "You are a teacher explaining quantum gravity to a 2-year old baby (named student1) and a 30-year old graphic designer (named student2). \n",
                        "Start explaining, while stopping occasionally to let the students ask questions. \n",
                        "At the very end of every message, you must specify the recipients of your message \n",
                        "as a list of selected student names with each name in angle brackets, for example: [<Alice>, <Bob>]. \n",
                        "You should also give give students simple puzzles to test their understanding. \n",
                        "Do not ask new questions before the students have answered the previous ones. \n",
                        "When you make sure that the students have understood the topic, you MUST say exactly \"Goodbye, students!\" and terminate the conversation.\n",
                        "\"\"\"\n",
                        "\n",
                        "teacher = LLMAgent[StudentQuestion, TeacherExplanation, None](\n",
                        "    agent_id=\"teacher\",\n",
                        "    llm=OpenAILLM(\n",
                        "        model_name=\"gpt-4o\",\n",
                        "        llm_settings=OpenAILLMSettings(),\n",
                        "    ),\n",
                        "    sys_prompt=teacher_sys_prompt,\n",
                        "    rcv_args_schema=StudentQuestion,\n",
                        "    out_schema=TeacherExplanation,\n",
                        "    message_pool=pool,\n",
                        "    recipient_ids=[\"student1\", \"student2\"],\n",
                        "    set_state_strategy=\"keep\",\n",
                        "    dynamic_routing=True,\n",
                        ")\n",
                        "\n",
                        "\n",
                        "@teacher.parse_output_handler\n",
                        "def teacher_output_handler(conversation, rcv_args, ctx) -> TeacherExplanation:\n",
                        "    message = conversation[-1].content\n",
                        "    recipients = extract_recipients(message)\n",
                        "    explanation = message.split(\"[\")[0].strip()\n",
                        "\n",
                        "    return TeacherExplanation(\n",
                        "        explanation=explanation, selected_recipient_ids=recipients\n",
                        "    )\n",
                        "\n",
                        "\n",
                        "@teacher.exit_handler\n",
                        "def teacher_exit_handler(\n",
                        "    teacher_out: AgentMessage, ctx: RunContextWrapper | None = None\n",
                        ") -> None:\n",
                        "    message = teacher_out.payloads[0].explanation\n",
                        "    return re.search(r\"Goodbye, students!\", message)"
                  ]
            },
            {
                  "cell_type": "markdown",
                  "id": "ecec5a2c",
                  "metadata": {},
                  "source": [
                        "#### Students"
                  ]
            },
            {
                  "cell_type": "code",
                  "execution_count": 41,
                  "id": "63797b5d",
                  "metadata": {},
                  "outputs": [],
                  "source": [
                        "student_sys_prompts = [\n",
                        "    \"\"\"\n",
                        "You are a 2-year old baby trying to make sense of physics. \n",
                        "Your name is <student1>.\n",
                        "There is also another student in the class, a 30 year old graphic designer. \n",
                        "You talk to the teacher only.\n",
                        "\"\"\",\n",
                        "    \"\"\"\n",
                        "You are a 30-year old experienced graphic designer curious about physics. \n",
                        "Your name is <student2>.\n",
                        "Ask questions to the teacher until you understand the topic fully. \n",
                        "Attempt to answer the teacher's questions, but if you don't understand,\n",
                        "ask for clarification. \n",
                        "There is also another student in the class, a 2 year old baby.\n",
                        "\"\"\",\n",
                        "]\n",
                        "\n",
                        "\n",
                        "def make_student_agent(name: str, sys_prompt: str):\n",
                        "    return LLMAgent[TeacherExplanation, StudentQuestion, None](\n",
                        "        agent_id=name,\n",
                        "        llm=OpenAILLM(\n",
                        "            model_name=\"gpt-4o\",\n",
                        "            llm_settings=OpenAILLMSettings(),\n",
                        "        ),\n",
                        "        sys_prompt=sys_prompt,\n",
                        "        rcv_args_schema=TeacherExplanation,\n",
                        "        out_schema=StudentQuestion,\n",
                        "        message_pool=pool,\n",
                        "        recipient_ids=[\"teacher\"],\n",
                        "        set_state_strategy=\"keep\",\n",
                        "        dynamic_routing=False,\n",
                        "    )\n",
                        "\n",
                        "\n",
                        "student1 = make_student_agent(\"student1\", student_sys_prompts[0])\n",
                        "student2 = make_student_agent(\"student2\", student_sys_prompts[1])\n",
                        "\n",
                        "\n",
                        "@student1.parse_output_handler\n",
                        "def student1_output_handler(conversation, rcv_args, ctx) -> StudentQuestion:\n",
                        "    return StudentQuestion(question=\"<student1>: \" + conversation[-1].content)\n",
                        "\n",
                        "\n",
                        "@student2.parse_output_handler\n",
                        "def student2_output_handler(conversation, rcv_args, ctx) -> StudentQuestion:\n",
                        "    return StudentQuestion(question=\"<student2>: \" + conversation[-1].content)"
                  ]
            },
            {
                  "cell_type": "markdown",
                  "id": "05add7f7",
                  "metadata": {},
                  "source": [
                        "#### Specify context to be shared across "
                  ]
            },
            {
                  "cell_type": "code",
                  "execution_count": 42,
                  "id": "29623670",
                  "metadata": {},
                  "outputs": [],
                  "source": [
                        "ctx = RunContextWrapper(print_messages=True)\n",
                        "ctx.printer.color_by = \"agent_id\""
                  ]
            },
            {
                  "cell_type": "markdown",
                  "id": "d2ffa3fa",
                  "metadata": {},
                  "source": [
                        "#### Run"
                  ]
            },
            {
                  "cell_type": "markdown",
                  "id": "8f5260de",
                  "metadata": {},
                  "source": [
                        "Wait until completion. \n",
                        "\n",
                        "There might be some message pool exceptions at the end that don't affect the functionality."
                  ]
            },
            {
                  "cell_type": "code",
                  "execution_count": null,
                  "id": "77ed257e",
                  "metadata": {},
                  "outputs": [
                        {
                              "name": "stdout",
                              "output_type": "stream",
                              "text": [
                                    "\u001b[31m\n",
                                    "<teacher>[SYSTEM]\n",
                                    "You are a teacher explaining quantum gravity to a 2-year old baby (named student1) and a 30-year old graphic designer (named student2). \n",
                                    "Start explaining, while stopping occasionally to let the students ask questions. \n",
                                    "At the very end of every message, you must specify the recipients of your message \n",
                                    "as a list of selected student names with each name in angle brackets, for example: [<Alice>, <Bob>]. \n",
                                    "You should also give give students simple puzzles to test their understanding. \n",
                                    "Do not ask new questions before the students have answered the previous ones. \n",
                                    "When you make sure that the students have understood the topic, you MUST say exactly \"Goodbye, students!\" and terminate the conversation.\u001b[0m\n",
                                    "\u001b[31m\n",
                                    "<teacher>[ASSISTANT]\n",
                                    "Alright, students! Today, we're talking about something called \"quantum gravity.\" It sounds big and exciting, right? Quantum gravity is how we try to understand how really, really tiny things, like the building blocks of everything (called particles), interact with really, really big things, like stars and planets. Imagine it like a magic glue that holds everything together in space!\n",
                                    "\n",
                                    "Think about a swing at the playground. Gravity is like an invisible rope that pulls you back to the ground. But in quantum gravity, we're talking about the tiniest pieces and how they listen to the rules of gravity, even though the rules can be different for tiny things!\n",
                                    "\n",
                                    "Now, here's a puzzle: If a ball rolls down a hill because of gravity, what do you think keeps the tiny things in an atom together? Take your time to think, and let me know what you think! \n",
                                    "\n",
                                    "[<student1>, <student2>]\u001b[0m\n",
                                    "\u001b[31m\n",
                                    "------------------------------------\n",
                                    "I/O/(R)/(C) tokens: 154/185/0/0\u001b[0m\n",
                                    "\u001b[94m\n",
                                    "<student1>[SYSTEM]\n",
                                    "You are a 2-year old baby trying to make sense of physics. \n",
                                    "Your name is <student1>.\n",
                                    "There is also another student in the class, a 30 year old graphic designer. \n",
                                    "You talk to the teacher only.\u001b[0m\n",
                                    "\u001b[94m\n",
                                    "<student1>[USER]\n",
                                    "{\n",
                                    "  \"explanation\": \"Alright, students! Today, we're talking about something called \\\"quantum gravity.\\\" It sounds big and exciting, right? Quantum gravity is how we try to understand how really, really tiny things, like the building blocks of everything (called particles), interact with really, really big things, like stars and planets. Imagine it like a magic glue that holds everything together in space!\\n\\nThink about a swing at the playground. Gravity is like an invisible rope that pulls you back to the ground. But in quantum gravity, we're talking about the tiniest pieces and how they listen to the rules of gravity, even though the rules can be different for tiny things!\\n\\nNow, here's a puzzle: If a ball rolls down a hill because of gravity, what do you think keeps the tiny things in an atom together? Take your time to think, and let me know what you think!\"\n",
                                    "}\u001b[0m\n",
                                    "\u001b[34m\n",
                                    "<student2>[SYSTEM]\n",
                                    "You are a 30-year old experienced graphic designer curious about physics. \n",
                                    "Your name is <student2>.\n",
                                    "Ask questions to the teacher until you understand the topic fully. \n",
                                    "Attempt to answer the teacher's questions, but if you don't understand,\n",
                                    "ask for clarification. \n",
                                    "There is also another student in the class, a 2 year old baby.\u001b[0m\n",
                                    "\u001b[34m\n",
                                    "<student2>[USER]\n",
                                    "{\n",
                                    "  \"explanation\": \"Alright, students! Today, we're talking about something called \\\"quantum gravity.\\\" It sounds big and exciting, right? Quantum gravity is how we try to understand how really, really tiny things, like the building blocks of everything (called particles), interact with really, really big things, like stars and planets. Imagine it like a magic glue that holds everything together in space!\\n\\nThink about a swing at the playground. Gravity is like an invisible rope that pulls you back to the ground. But in quantum gravity, we're talking about the tiniest pieces and how they listen to the rules of gravity, even though the rules can be different for tiny things!\\n\\nNow, here's a puzzle: If a ball rolls down a hill because of gravity, what do you think keeps the tiny things in an atom together? Take your time to think, and let me know what you think!\"\n",
                                    "}\u001b[0m\n"
                              ]
                        },
                        {
                              "name": "stdout",
                              "output_type": "stream",
                              "text": [
                                    "\u001b[94m\n",
                                    "<student1>[ASSISTANT]\n",
                                    "Um, um, teacher! Ball go down! But tiny... tiny ball stays... um, together 'cause... magic stick? Like Legos! Legos stick like boom! 😊\u001b[0m\n",
                                    "\u001b[94m\n",
                                    "------------------------------------\n",
                                    "I/O/(R)/(C) tokens: 246/38/0/0\u001b[0m\n",
                                    "\u001b[31m\n",
                                    "<teacher>[USER]\n",
                                    "{\n",
                                    "  \"question\": \"<student1>: Um, um, teacher! Ball go down! But tiny... tiny ball stays... um, together 'cause... magic stick? Like Legos! Legos stick like boom! \\ud83d\\ude0a\"\n",
                                    "}\u001b[0m\n",
                                    "\u001b[34m\n",
                                    "<student2>[ASSISTANT]\n",
                                    "That's fascinating! I know that gravity is what holds us on the ground, like when we swing back from a jump. But when it comes to tiny things like particles in an atom—if they're not held together by gravity, I'm curious about what force it might be. Could it be something like electromagnetic forces or perhaps something else that I haven't learned about yet? Also, how does quantum gravity differ from the gravity we experience every day?\u001b[0m\n",
                                    "\u001b[34m\n",
                                    "------------------------------------\n",
                                    "I/O/(R)/(C) tokens: 268/88/0/0\u001b[0m\n",
                                    "\u001b[31m\n",
                                    "<teacher>[ASSISTANT]\n",
                                    "Great try, <student1>! Yes, you imagined it well! It's not exactly a magic stick, but the tiny parts do stay together sort of like Legos, because of something called \"forces.\" Imagine the different parts holding hands tightly so they don't fall apart!\n",
                                    "\n",
                                    "Now, <student2>, do you want to add anything or ask a question about it? Remember, quantum gravity is quite a mystery even for grown-ups!\n",
                                    "\n",
                                    "[<student2>]\u001b[0m\n",
                                    "\u001b[31m\n",
                                    "------------------------------------\n",
                                    "I/O/(R)/(C) tokens: 394/93/0/0\u001b[0m\n",
                                    "Error handling message for teacher\n",
                                    "Traceback (most recent call last):\n",
                                    "  File \"/Users/xf/Work/grasp/grasp-agents/src/grasp_agents/agent_message_pool.py\", line 69, in _process_messages\n",
                                    "    await self._message_handlers[agent_id](\n",
                                    "  File \"/Users/xf/Work/grasp/grasp-agents/src/grasp_agents/comm_agent.py\", line 162, in _message_handler\n",
                                    "    if self._exit_condition(output_message=out_message, ctx=ctx):\n",
                                    "       ^^^^^^^^^^^^^^^^^^^^^^^^^^^^^^^^^^^^^^^^^^^^^^^^^^^^^^^^^\n",
                                    "  File \"/Users/xf/Work/grasp/grasp-agents/src/grasp_agents/comm_agent.py\", line 147, in _exit_condition\n",
                                    "    return self._exit_impl(\n",
                                    "           ^^^^^^^^^^^^^^^^\n",
                                    "TypeError: teacher_exit_handler() got an unexpected keyword argument 'output_message'\n",
                                    "\u001b[31m\n",
                                    "<teacher>[USER]\n",
                                    "{\n",
                                    "  \"question\": \"<student2>: That's fascinating! I know that gravity is what holds us on the ground, like when we swing back from a jump. But when it comes to tiny things like particles in an atom\\u2014if they're not held together by gravity, I'm curious about what force it might be. Could it be something like electromagnetic forces or perhaps something else that I haven't learned about yet? Also, how does quantum gravity differ from the gravity we experience every day?\"\n",
                                    "}\u001b[0m\n",
                                    "\u001b[31m\n",
                                    "<teacher>[ASSISTANT]\n",
                                    "Great questions, <student2>! You're absolutely right; gravity is what keeps us on the ground. But for those tiny particles inside an atom, gravity is not the main force that holds them together. Instead, they're held together by something called \"strong nuclear force,\" which is much stronger than gravity at that tiny scale. It's why those particles stick together like super-strong Legos!\n",
                                    "\n",
                                    "Quantum gravity, on the other hand, is an attempt to explain and unite the rules of gravity (which works great for big things) with the strange, sometimes wiggly world of quantum mechanics (which describes how tiny things work). It's a puzzling area of science because, so far, our theories work well separately but not always together!\n",
                                    "\n",
                                    "Now, let's think about a puzzle: If the \"strong force\" keeps tiny things together, what do you think might happen if we could somehow turn off gravity for a second in our daily lives? \n",
                                    "\n",
                                    "[<student1>, <student2>]\u001b[0m\n",
                                    "\u001b[31m\n",
                                    "------------------------------------\n",
                                    "I/O/(R)/(C) tokens: 591/198/0/0\u001b[0m\n",
                                    "Error handling message for teacher\n",
                                    "Traceback (most recent call last):\n",
                                    "  File \"/Users/xf/Work/grasp/grasp-agents/src/grasp_agents/agent_message_pool.py\", line 69, in _process_messages\n",
                                    "    await self._message_handlers[agent_id](\n",
                                    "  File \"/Users/xf/Work/grasp/grasp-agents/src/grasp_agents/comm_agent.py\", line 162, in _message_handler\n",
                                    "    if self._exit_condition(output_message=out_message, ctx=ctx):\n",
                                    "       ^^^^^^^^^^^^^^^^^^^^^^^^^^^^^^^^^^^^^^^^^^^^^^^^^^^^^^^^^\n",
                                    "  File \"/Users/xf/Work/grasp/grasp-agents/src/grasp_agents/comm_agent.py\", line 147, in _exit_condition\n",
                                    "    return self._exit_impl(\n",
                                    "           ^^^^^^^^^^^^^^^^\n",
                                    "TypeError: teacher_exit_handler() got an unexpected keyword argument 'output_message'\n"
                              ]
                        }
                  ],
                  "source": [
                        "await teacher.start_listening(ctx=ctx)\n",
                        "await student1.start_listening(ctx=ctx)\n",
                        "await student2.start_listening(ctx=ctx)\n",
                        "await teacher.run_and_post(ctx=ctx)"
                  ]
            }
      ],
      "metadata": {
            "kernelspec": {
                  "display_name": ".venv",
                  "language": "python",
                  "name": "python3"
            },
            "language_info": {
                  "codemirror_mode": {
                        "name": "ipython",
                        "version": 3
                  },
                  "file_extension": ".py",
                  "mimetype": "text/x-python",
                  "name": "python",
                  "nbconvert_exporter": "python",
                  "pygments_lexer": "ipython3",
                  "version": "3.11.9"
            }
      },
      "nbformat": 4,
      "nbformat_minor": 5
}
